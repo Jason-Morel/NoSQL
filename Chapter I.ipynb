{
 "cells": [
  {
   "attachments": {},
   "cell_type": "markdown",
   "metadata": {},
   "source": [
    "# Introduction\n",
    "\n",
    "NoSQL databases are a popular alternative to traditional relational databases for handling big data and it offers high scalability, high availability and high flexibility. The course will teach you how to work with NoSQL databases and how to choose the right NoSQL database for your specific needs. \n",
    "\n",
    "## Relational databases and tabular data\n",
    "\n",
    "Before jumping straight on NoSQL DBs let's take a step back with relational databases and tabular data. The most common format you probably encountered in programming is Comma Separated Values (CSV). CSV is a plain text file format used to store tabular data, with each row of the table represented as a separate line in the file and each column separated by a comma or other delimiter.\n",
    "\n"
   ]
  },
  {
   "cell_type": "code",
   "execution_count": 1,
   "metadata": {},
   "outputs": [
    {
     "data": {
      "text/html": [
       "<div>\n",
       "<style scoped>\n",
       "    .dataframe tbody tr th:only-of-type {\n",
       "        vertical-align: middle;\n",
       "    }\n",
       "\n",
       "    .dataframe tbody tr th {\n",
       "        vertical-align: top;\n",
       "    }\n",
       "\n",
       "    .dataframe thead th {\n",
       "        text-align: right;\n",
       "    }\n",
       "</style>\n",
       "<table border=\"1\" class=\"dataframe\">\n",
       "  <thead>\n",
       "    <tr style=\"text-align: right;\">\n",
       "      <th></th>\n",
       "      <th>sepal.length</th>\n",
       "      <th>sepal.width</th>\n",
       "      <th>petal.length</th>\n",
       "      <th>petal.width</th>\n",
       "      <th>variety</th>\n",
       "    </tr>\n",
       "  </thead>\n",
       "  <tbody>\n",
       "    <tr>\n",
       "      <th>0</th>\n",
       "      <td>5.1</td>\n",
       "      <td>3.5</td>\n",
       "      <td>1.4</td>\n",
       "      <td>0.2</td>\n",
       "      <td>Setosa</td>\n",
       "    </tr>\n",
       "    <tr>\n",
       "      <th>1</th>\n",
       "      <td>4.9</td>\n",
       "      <td>3.0</td>\n",
       "      <td>1.4</td>\n",
       "      <td>0.2</td>\n",
       "      <td>Setosa</td>\n",
       "    </tr>\n",
       "    <tr>\n",
       "      <th>2</th>\n",
       "      <td>4.7</td>\n",
       "      <td>3.2</td>\n",
       "      <td>1.3</td>\n",
       "      <td>0.2</td>\n",
       "      <td>Setosa</td>\n",
       "    </tr>\n",
       "    <tr>\n",
       "      <th>3</th>\n",
       "      <td>4.6</td>\n",
       "      <td>3.1</td>\n",
       "      <td>1.5</td>\n",
       "      <td>0.2</td>\n",
       "      <td>Setosa</td>\n",
       "    </tr>\n",
       "    <tr>\n",
       "      <th>4</th>\n",
       "      <td>5.0</td>\n",
       "      <td>3.6</td>\n",
       "      <td>1.4</td>\n",
       "      <td>0.2</td>\n",
       "      <td>Setosa</td>\n",
       "    </tr>\n",
       "  </tbody>\n",
       "</table>\n",
       "</div>"
      ],
      "text/plain": [
       "   sepal.length  sepal.width  petal.length  petal.width variety\n",
       "0           5.1          3.5           1.4          0.2  Setosa\n",
       "1           4.9          3.0           1.4          0.2  Setosa\n",
       "2           4.7          3.2           1.3          0.2  Setosa\n",
       "3           4.6          3.1           1.5          0.2  Setosa\n",
       "4           5.0          3.6           1.4          0.2  Setosa"
      ]
     },
     "execution_count": 1,
     "metadata": {},
     "output_type": "execute_result"
    }
   ],
   "source": [
    "import pandas as pd\n",
    "\n",
    "df = pd.read_csv(\"data/Chap1/iris.csv\")\n",
    "df.head()"
   ]
  },
  {
   "cell_type": "code",
   "execution_count": 4,
   "metadata": {},
   "outputs": [
    {
     "name": "stdout",
     "output_type": "stream",
     "text": [
      "0      5.1\n",
      "1      4.9\n",
      "2      4.7\n",
      "3      4.6\n",
      "4      5.0\n",
      "      ... \n",
      "145    6.7\n",
      "146    6.3\n",
      "147    6.5\n",
      "148    6.2\n",
      "149    5.9\n",
      "Name: sepal.length, Length: 150, dtype: float64\n"
     ]
    }
   ],
   "source": [
    "print(df[\"sepal.length\"])"
   ]
  },
  {
   "cell_type": "code",
   "execution_count": 5,
   "metadata": {},
   "outputs": [
    {
     "name": "stdout",
     "output_type": "stream",
     "text": [
      "5.1\n"
     ]
    }
   ],
   "source": [
    "print(df.at[0,\"sepal.length\"])\n"
   ]
  },
  {
   "cell_type": "code",
   "execution_count": 7,
   "metadata": {},
   "outputs": [
    {
     "name": "stdout",
     "output_type": "stream",
     "text": [
      "sepal.length       5.1\n",
      "sepal.width        3.5\n",
      "petal.length       1.4\n",
      "petal.width        0.2\n",
      "variety         Setosa\n",
      "Name: 0, dtype: object\n"
     ]
    }
   ],
   "source": [
    "print(df.loc[0])"
   ]
  },
  {
   "cell_type": "code",
   "execution_count": 10,
   "metadata": {},
   "outputs": [
    {
     "data": {
      "text/html": [
       "<div>\n",
       "<style scoped>\n",
       "    .dataframe tbody tr th:only-of-type {\n",
       "        vertical-align: middle;\n",
       "    }\n",
       "\n",
       "    .dataframe tbody tr th {\n",
       "        vertical-align: top;\n",
       "    }\n",
       "\n",
       "    .dataframe thead th {\n",
       "        text-align: right;\n",
       "    }\n",
       "</style>\n",
       "<table border=\"1\" class=\"dataframe\">\n",
       "  <thead>\n",
       "    <tr style=\"text-align: right;\">\n",
       "      <th></th>\n",
       "      <th>sepal.length</th>\n",
       "      <th>sepal.width</th>\n",
       "      <th>petal.length</th>\n",
       "      <th>petal.width</th>\n",
       "      <th>variety</th>\n",
       "    </tr>\n",
       "  </thead>\n",
       "  <tbody>\n",
       "    <tr>\n",
       "      <th>0</th>\n",
       "      <td>5.1</td>\n",
       "      <td>3.5</td>\n",
       "      <td>1.4</td>\n",
       "      <td>0.2</td>\n",
       "      <td>Setosa</td>\n",
       "    </tr>\n",
       "    <tr>\n",
       "      <th>5</th>\n",
       "      <td>5.4</td>\n",
       "      <td>3.9</td>\n",
       "      <td>1.7</td>\n",
       "      <td>0.4</td>\n",
       "      <td>Setosa</td>\n",
       "    </tr>\n",
       "    <tr>\n",
       "      <th>10</th>\n",
       "      <td>5.4</td>\n",
       "      <td>3.7</td>\n",
       "      <td>1.5</td>\n",
       "      <td>0.2</td>\n",
       "      <td>Setosa</td>\n",
       "    </tr>\n",
       "    <tr>\n",
       "      <th>15</th>\n",
       "      <td>5.7</td>\n",
       "      <td>4.4</td>\n",
       "      <td>1.5</td>\n",
       "      <td>0.4</td>\n",
       "      <td>Setosa</td>\n",
       "    </tr>\n",
       "    <tr>\n",
       "      <th>16</th>\n",
       "      <td>5.4</td>\n",
       "      <td>3.9</td>\n",
       "      <td>1.3</td>\n",
       "      <td>0.4</td>\n",
       "      <td>Setosa</td>\n",
       "    </tr>\n",
       "    <tr>\n",
       "      <th>...</th>\n",
       "      <td>...</td>\n",
       "      <td>...</td>\n",
       "      <td>...</td>\n",
       "      <td>...</td>\n",
       "      <td>...</td>\n",
       "    </tr>\n",
       "    <tr>\n",
       "      <th>145</th>\n",
       "      <td>6.7</td>\n",
       "      <td>3.0</td>\n",
       "      <td>5.2</td>\n",
       "      <td>2.3</td>\n",
       "      <td>Virginica</td>\n",
       "    </tr>\n",
       "    <tr>\n",
       "      <th>146</th>\n",
       "      <td>6.3</td>\n",
       "      <td>2.5</td>\n",
       "      <td>5.0</td>\n",
       "      <td>1.9</td>\n",
       "      <td>Virginica</td>\n",
       "    </tr>\n",
       "    <tr>\n",
       "      <th>147</th>\n",
       "      <td>6.5</td>\n",
       "      <td>3.0</td>\n",
       "      <td>5.2</td>\n",
       "      <td>2.0</td>\n",
       "      <td>Virginica</td>\n",
       "    </tr>\n",
       "    <tr>\n",
       "      <th>148</th>\n",
       "      <td>6.2</td>\n",
       "      <td>3.4</td>\n",
       "      <td>5.4</td>\n",
       "      <td>2.3</td>\n",
       "      <td>Virginica</td>\n",
       "    </tr>\n",
       "    <tr>\n",
       "      <th>149</th>\n",
       "      <td>5.9</td>\n",
       "      <td>3.0</td>\n",
       "      <td>5.1</td>\n",
       "      <td>1.8</td>\n",
       "      <td>Virginica</td>\n",
       "    </tr>\n",
       "  </tbody>\n",
       "</table>\n",
       "<p>117 rows × 5 columns</p>\n",
       "</div>"
      ],
      "text/plain": [
       "     sepal.length  sepal.width  petal.length  petal.width    variety\n",
       "0             5.1          3.5           1.4          0.2     Setosa\n",
       "5             5.4          3.9           1.7          0.4     Setosa\n",
       "10            5.4          3.7           1.5          0.2     Setosa\n",
       "15            5.7          4.4           1.5          0.4     Setosa\n",
       "16            5.4          3.9           1.3          0.4     Setosa\n",
       "..            ...          ...           ...          ...        ...\n",
       "145           6.7          3.0           5.2          2.3  Virginica\n",
       "146           6.3          2.5           5.0          1.9  Virginica\n",
       "147           6.5          3.0           5.2          2.0  Virginica\n",
       "148           6.2          3.4           5.4          2.3  Virginica\n",
       "149           5.9          3.0           5.1          1.8  Virginica\n",
       "\n",
       "[117 rows x 5 columns]"
      ]
     },
     "execution_count": 10,
     "metadata": {},
     "output_type": "execute_result"
    }
   ],
   "source": [
    "df[(df[\"sepal.length\"] > 5) & (df[\"petal.length\"] > 1.2)]"
   ]
  },
  {
   "cell_type": "code",
   "execution_count": 11,
   "metadata": {},
   "outputs": [
    {
     "name": "stdout",
     "output_type": "stream",
     "text": [
      "(0, sepal.length       5.1\n",
      "sepal.width        3.5\n",
      "petal.length       1.4\n",
      "petal.width        0.2\n",
      "variety         Setosa\n",
      "Name: 0, dtype: object)\n"
     ]
    }
   ],
   "source": [
    "# Iterate over all db\n",
    "\n",
    "for row in df.iterrows():\n",
    "    print(row)\n",
    "    break"
   ]
  },
  {
   "attachments": {},
   "cell_type": "markdown",
   "metadata": {},
   "source": [
    "Yet tabular data are impractical for huge amount of data \n",
    "\n",
    "Relational databases are a type of database management system that organize data into one or more tables or relations, with each table consisting of a set of rows and columns. Each row represents a unique record or entity, while each column represents a particular attribute or characteristic of that entity.\n",
    "\n",
    "In a relational database, the tables are related to each other through common fields or keys. For example, if you have a customer table and an orders table, you could link them through a customer ID field, which would allow you to associate specific orders with specific customers.\n",
    "\n",
    "Relational databases use a structured query language (SQL) to retrieve and manipulate data. SQL allows users to create, update, delete, and retrieve data from one or more tables based on specific criteria or conditions.\n",
    "\n",
    "Relational databases offer several advantages, including:\n",
    "\n",
    "- Data consistency: Data is consistent and standardized across an organization.\n",
    "\n",
    "- Scalability: Relational databases can handle large amounts of data and can easily scale as data volumes increase (Data not in your RAM).\n",
    "\n",
    "- Flexibility: Changes to a database structure can be made relatively easily and without disrupting existing applications or data.\n",
    "\n",
    "- Security: Relational databases offer built-in security features, such as user authentication and access control, to protect sensitive data.\n"
   ]
  },
  {
   "attachments": {},
   "cell_type": "markdown",
   "metadata": {},
   "source": [
    "I'll do a short introduction on sqlite3. I think it's a good entry point to SQL since its local and you can still monitor your data visually using [DB Browser](https://sqlitebrowser.org/).\n",
    "\n",
    "\"SQLite is a C-language library that implements a small, fast, self-contained, high-reliability, full-featured, SQL database engine.\" [(Official website)](https://www.sqlite.org/index.html). Sqlite3 is a library that provides an api that allows python 3 to interact with your sqlite DB. Incompatibility with python 2 so beware."
   ]
  },
  {
   "attachments": {},
   "cell_type": "markdown",
   "metadata": {},
   "source": [
    "You can use [DB browser](https://sqlitebrowser.org/) to check if it worked without going through Python. Sqlite3+DB browser is an easy entry point to SQL (still able to see your data, no server involved). Here is an example of basic operations of SQLite on the iris database. Starting with DB already existing:"
   ]
  },
  {
   "cell_type": "code",
   "execution_count": 13,
   "metadata": {},
   "outputs": [],
   "source": [
    "import sqlite3\n",
    "\n",
    "#  Establishes a connection to an SQLite database file. The only argument is the path (If the file does not exist an empty file is created)\n",
    "conn = sqlite3.connect('data/Chap1/iris.db')\n",
    "\n",
    "# A cursor in SQL databases is a database object that allows you to retrieve and manipulate a set of data rows returned by a SQL statement, one row at a time.\n",
    "c = conn.cursor()"
   ]
  },
  {
   "cell_type": "code",
   "execution_count": 14,
   "metadata": {},
   "outputs": [
    {
     "name": "stdout",
     "output_type": "stream",
     "text": [
      "[(-2.757979099057751e+18, 2.7, 5.1, 1.6, 'Versicolor'), (6.3, 3.3, 6.0, 2.5, 'Virginica'), (5.8, 2.7, 5.1, 1.9, 'Virginica'), (7.1, 3, 5.9, 2.1, 'Virginica'), (6.3, 2.9, 5.6, 1.8, 'Virginica'), (6.5, 3, 5.8, 2.2, 'Virginica'), (7.6, 3, 6.6, 2.1, 'Virginica'), (7.3, 2.9, 6.3, 1.8, 'Virginica'), (6.7, 2.5, 5.8, 1.8, 'Virginica'), (7.2, 3.6, 6.1, 2.5, 'Virginica'), (6.5, 3.2, 5.1, 2.0, 'Virginica'), (6.4, 2.7, 5.3, 1.9, 'Virginica'), (6.8, 3, 5.5, 2.1, 'Virginica'), (5.8, 2.8, 5.1, 2.4, 'Virginica'), (6.4, 3.2, 5.3, 2.3, 'Virginica'), (6.5, 3, 5.5, 1.8, 'Virginica'), (7.7, 3.8, 6.7, 2.2, 'Virginica'), (7.7, 2.6, 6.9, 2.3, 'Virginica'), (6.9, 3.2, 5.7, 2.3, 'Virginica'), (7.7, 2.8, 6.7, 2.0, 'Virginica'), (6.7, 3.3, 5.7, 2.1, 'Virginica'), (7.2, 3.2, 6.0, 1.8, 'Virginica'), (6.4, 2.8, 5.6, 2.1, 'Virginica'), (7.2, 3, 5.8, 1.6, 'Virginica'), (7.4, 2.8, 6.1, 1.9, 'Virginica'), (7.9, 3.8, 6.4, 2.0, 'Virginica'), (6.4, 2.8, 5.6, 2.2, 'Virginica'), (6.3, 2.8, 5.1, 1.5, 'Virginica'), (6.1, 2.6, 5.6, 1.4, 'Virginica'), (7.7, 3, 6.1, 2.3, 'Virginica'), (6.3, 3.4, 5.6, 2.4, 'Virginica'), (6.4, 3.1, 5.5, 1.8, 'Virginica'), (6.9, 3.1, 5.4, 2.1, 'Virginica'), (6.7, 3.1, 5.6, 2.4, 'Virginica'), (6.9, 3.1, 5.1, 2.3, 'Virginica'), (5.8, 2.7, 5.1, 1.9, 'Virginica'), (6.8, 3.2, 5.9, 2.3, 'Virginica'), (6.7, 3.3, 5.7, 2.5, 'Virginica'), (6.7, 3, 5.2, 2.3, 'Virginica'), (6.5, 3, 5.2, 2.0, 'Virginica'), (6.2, 3.4, 5.4, 2.3, 'Virginica'), (5.9, 3, 5.1, 1.8, 'Virginica')]\n"
     ]
    }
   ],
   "source": [
    "# READ query (SQL language), Look at all the iris with sepal length > 5.\n",
    "c.execute(\"\"\"SELECT * FROM iris WHERE \"petal.length\" > 5\"\"\")\n",
    "\n",
    "#%% Two methods to go through your result\n",
    "\n",
    "# All in RAM\n",
    "docs = c.fetchall()\n",
    "print(docs)"
   ]
  },
  {
   "cell_type": "code",
   "execution_count": 20,
   "metadata": {},
   "outputs": [
    {
     "name": "stdout",
     "output_type": "stream",
     "text": [
      "(-9.833579106720022e+17, 3.2, 4.7, 1.4, 'Versicolor')\n",
      "(-7.566664635624542e+18, 3.2, 4.5, 1.5, 'Versicolor')\n",
      "(8.507390705349243e+18, 3.1, 4.9, 1.5, 'Versicolor')\n",
      "(-7.276727686909505e+18, 2.3, 4.0, 1.3, 'Versicolor')\n",
      "(6.933193499032503e+18, 2.8, 4.6, 1.5, 'Versicolor')\n",
      "(6.924714025421496e+18, 2.8, 4.5, 1.3, 'Versicolor')\n",
      "(-3.2429128959479854e+18, 3.3, 4.7, 1.6, 'Versicolor')\n",
      "(3.2447710162618926e+18, 2.4, 3.3, 1.0, 'Versicolor')\n",
      "(-3.003806622160924e+18, 2.9, 4.6, 1.3, 'Versicolor')\n",
      "(4.336590134801597e+18, 2.7, 3.9, 1.4, 'Versicolor')\n",
      "(8.051599916547534e+18, 2, 3.5, 1.0, 'Versicolor')\n",
      "(-3.598761753525065e+18, 3, 4.2, 1.5, 'Versicolor')\n",
      "(3.5195589305973903e+18, 2.2, 4.0, 1.0, 'Versicolor')\n",
      "(1.3991977842605768e+18, 2.9, 4.7, 1.4, 'Versicolor')\n",
      "(-6.166966792254185e+18, 2.9, 3.6, 1.3, 'Versicolor')\n",
      "(3.7947894902070973e+18, 3.1, 4.4, 1.4, 'Versicolor')\n",
      "(-6.454790507666328e+17, 3, 4.5, 1.5, 'Versicolor')\n",
      "(5.340089148793999e+18, 2.7, 4.1, 1.0, 'Versicolor')\n",
      "(-7.500742932473346e+18, 2.2, 4.5, 1.5, 'Versicolor')\n",
      "(2.8931065415056486e+18, 2.5, 3.9, 1.1, 'Versicolor')\n",
      "(2.6103047028309463e+18, 3.2, 4.8, 1.8, 'Versicolor')\n",
      "(-3.646871074980443e+18, 2.8, 4.0, 1.3, 'Versicolor')\n",
      "(-7.817982680850796e+18, 2.5, 4.9, 1.5, 'Versicolor')\n",
      "(-3.1830084275671946e+18, 2.8, 4.7, 1.2, 'Versicolor')\n",
      "(2.137872175010076e+18, 2.9, 4.3, 1.3, 'Versicolor')\n",
      "(-8.544611300218413e+18, 3, 4.4, 1.4, 'Versicolor')\n",
      "(4.3819850454025815e+18, 2.8, 4.8, 1.4, 'Versicolor')\n",
      "(-3.6119161259810386e+18, 3, 5.0, 1.7, 'Versicolor')\n",
      "(6.699248152770986e+18, 2.9, 4.5, 1.5, 'Versicolor')\n",
      "(-5.266284981053659e+18, 2.6, 3.5, 1.0, 'Versicolor')\n",
      "(3.444459329945208e+18, 2.4, 3.8, 1.1, 'Versicolor')\n",
      "(-7.533616460865654e+18, 2.4, 3.7, 1.0, 'Versicolor')\n",
      "(-4.650821194888992e+18, 2.7, 3.9, 1.2, 'Versicolor')\n",
      "(-4.2092889814437934e+18, 2.7, 5.1, 1.6, 'Versicolor')\n",
      "(-8.423509240020566e+18, 3, 4.5, 1.5, 'Versicolor')\n",
      "(-2.560993348252819e+18, 3.4, 4.5, 1.6, 'Versicolor')\n",
      "(3.8178074309340447e+18, 3.1, 4.7, 1.5, 'Versicolor')\n",
      "(-6.957794235566465e+18, 2.3, 4.4, 1.3, 'Versicolor')\n",
      "(6.961421928588889e+18, 3, 4.1, 1.3, 'Versicolor')\n",
      "(8.361538104975007e+18, 2.5, 4.0, 1.3, 'Versicolor')\n",
      "(-9.109128317920893e+18, 2.6, 4.4, 1.2, 'Versicolor')\n",
      "(-3.154034096523869e+18, 3, 4.6, 1.4, 'Versicolor')\n",
      "(-5.884074412789167e+18, 2.6, 4.0, 1.2, 'Versicolor')\n",
      "(-1.6455104568120093e+17, 2.3, 3.3, 1.0, 'Versicolor')\n",
      "(6.521784885400461e+18, 2.7, 4.2, 1.3, 'Versicolor')\n",
      "(7.591631588779523e+18, 3, 4.2, 1.2, 'Versicolor')\n",
      "(6.94853790919699e+18, 2.9, 4.2, 1.3, 'Versicolor')\n",
      "(-3.4792868582159447e+18, 2.9, 4.3, 1.3, 'Versicolor')\n",
      "(7.561965619829356e+18, 2.5, 3.0, 1.1, 'Versicolor')\n",
      "(1.8324546223815186e+18, 2.8, 4.1, 1.3, 'Versicolor')\n"
     ]
    }
   ],
   "source": [
    "# Iteration\n",
    "\n",
    "c.execute(\"\"\"SELECT * FROM iris WHERE \"variety\" == \"Versicolor\" \"\"\") #Il faut le définir à nouveau car c'est un générateur sur lequel on peut itérer une seule fois.\n",
    "\n",
    "for i in c:\n",
    "    print(i)\n",
    "    #break"
   ]
  },
  {
   "cell_type": "code",
   "execution_count": 17,
   "metadata": {},
   "outputs": [],
   "source": [
    "# UPDATE\n",
    "\n",
    "c.execute(\"\"\"UPDATE iris\n",
    "             SET \"sepal.length\" = 3\n",
    "             WHERE variety == \"Versicolor\" \"\"\")\n",
    "\n",
    "conn.commit() #Nécessaire pour que les commandes soit effectuées"
   ]
  },
  {
   "cell_type": "code",
   "execution_count": 19,
   "metadata": {},
   "outputs": [],
   "source": [
    "c.execute(\"\"\"UPDATE iris\n",
    "             SET \"sepal.length\" = random()+1\n",
    "             WHERE variety == \"Versicolor\" \"\"\")\n",
    "\n",
    "conn.commit()"
   ]
  },
  {
   "cell_type": "code",
   "execution_count": 7,
   "metadata": {},
   "outputs": [
    {
     "data": {
      "text/plain": [
       "<sqlite3.Cursor at 0x2055fd2a5e0>"
      ]
     },
     "execution_count": 7,
     "metadata": {},
     "output_type": "execute_result"
    }
   ],
   "source": [
    "# DELETE\n",
    "\n",
    "c.execute(\"\"\"DELETE FROM iris WHERE \"sepal.length\" > 5\"\"\")\n",
    "\n",
    "#conn.commit() warning it will alter your db "
   ]
  },
  {
   "attachments": {},
   "cell_type": "markdown",
   "metadata": {},
   "source": [
    "Now if the Database does not exist we can create it the following way"
   ]
  },
  {
   "cell_type": "code",
   "execution_count": 21,
   "metadata": {},
   "outputs": [
    {
     "name": "stdout",
     "output_type": "stream",
     "text": [
      "no such table: main.id\n"
     ]
    }
   ],
   "source": [
    "import tqdm\n",
    "import sqlite3\n",
    "import pandas as pd\n",
    "\n",
    "df = pd.read_csv('data/Chap1/iris.csv')\n",
    "\n",
    "conn = sqlite3.connect('data/Chap1/iris_manual.db')\n",
    "c = conn.cursor()\n",
    "\n",
    "# Simple function to create table\n",
    "\n",
    "def create_table_iris():\n",
    "    try:\n",
    "        c.execute(\"\"\"CREATE TABLE IF NOT EXISTS iris(id INT PRIMARY KEY, \"sepal.length\" FLOAT, \"sepal.width\" FLOAT,\n",
    "                     \"petal.length\" FLOAT, \"petal.width\" FLOAT, variety TEXT)\"\"\")\n",
    "        # When an index is created on a column, the database system creates a data structure that contains a sorted copy of the column's values. \n",
    "        # This allows the database system to perform data retrieval operations more quickly than if it had to scan the entire table every time a query was executed.\n",
    "        c.execute(\"CREATE INDEX fast_id ON id(id)\")\n",
    "        conn.commit()\n",
    "    except Exception as e:\n",
    "        print(str(e))\n",
    "        \n",
    "# Sqlite3 excepts a table named \"main\" and therefore gives you a warning (can be ignored)\n",
    "create_table_iris()\n",
    "\n"
   ]
  },
  {
   "cell_type": "code",
   "execution_count": 22,
   "metadata": {
    "tags": [
     "Question 1"
    ]
   },
   "outputs": [
    {
     "name": "stderr",
     "output_type": "stream",
     "text": [
      "150it [00:00, 272.49it/s]\n"
     ]
    }
   ],
   "source": [
    "# One by one\n",
    "\n",
    "query = \"\"\"INSERT INTO iris(id, \"sepal.length\", \"sepal.width\", \"petal.length\", \"petal.width\", variety) VALUES (?,?,?,?,?,?)\"\"\"\n",
    "\n",
    "for row in tqdm.tqdm(df.iterrows()):\n",
    "    id_ = row[0] #not sure I understand how the id is generated as it is not in iris.csv\n",
    "    sepal_length = row[1][\"sepal.length\"]\n",
    "    sepal_width = row[1][\"sepal.width\"]\n",
    "    petal_length = row[1][\"petal.length\"]\n",
    "    petal_width = row[1][\"petal.width\"]\n",
    "    variety = row[1][\"variety\"]\n",
    "    values = (id_, sepal_length, sepal_width, petal_length, petal_width, variety)\n",
    "    c.execute(query, values)\n",
    "    conn.commit()"
   ]
  },
  {
   "cell_type": "code",
   "execution_count": 23,
   "metadata": {},
   "outputs": [
    {
     "name": "stdout",
     "output_type": "stream",
     "text": [
      "no such table: main.id\n"
     ]
    },
    {
     "name": "stderr",
     "output_type": "stream",
     "text": [
      "  1%|          | 9068/1000000 [00:31<56:56, 290.02it/s]  \n"
     ]
    },
    {
     "ename": "KeyboardInterrupt",
     "evalue": "",
     "output_type": "error",
     "traceback": [
      "\u001b[1;31m---------------------------------------------------------------------------\u001b[0m",
      "\u001b[1;31mKeyboardInterrupt\u001b[0m                         Traceback (most recent call last)",
      "\u001b[1;32m~\\AppData\\Local\\Temp\\ipykernel_79000\\3019353704.py\u001b[0m in \u001b[0;36m<module>\u001b[1;34m\u001b[0m\n\u001b[0;32m     23\u001b[0m     \u001b[0mvalues\u001b[0m \u001b[1;33m=\u001b[0m \u001b[1;33m(\u001b[0m\u001b[0mi\u001b[0m\u001b[1;33m,\u001b[0m\u001b[1;33m)\u001b[0m\u001b[1;33m\u001b[0m\u001b[1;33m\u001b[0m\u001b[0m\n\u001b[0;32m     24\u001b[0m     \u001b[0mc\u001b[0m\u001b[1;33m.\u001b[0m\u001b[0mexecute\u001b[0m\u001b[1;33m(\u001b[0m\u001b[0mquery\u001b[0m\u001b[1;33m,\u001b[0m \u001b[0mvalues\u001b[0m\u001b[1;33m)\u001b[0m\u001b[1;33m\u001b[0m\u001b[1;33m\u001b[0m\u001b[0m\n\u001b[1;32m---> 25\u001b[1;33m     \u001b[0mconn\u001b[0m\u001b[1;33m.\u001b[0m\u001b[0mcommit\u001b[0m\u001b[1;33m(\u001b[0m\u001b[1;33m)\u001b[0m\u001b[1;33m\u001b[0m\u001b[1;33m\u001b[0m\u001b[0m\n\u001b[0m",
      "\u001b[1;31mKeyboardInterrupt\u001b[0m: "
     ]
    }
   ],
   "source": [
    "conn = sqlite3.connect('data/Chap1/benchmark.db')\n",
    "c = conn.cursor()\n",
    "\n",
    "# Simple function to create table\n",
    "\n",
    "def create_table_benchmark():\n",
    "    try:\n",
    "        c.execute(\"\"\"CREATE TABLE IF NOT EXISTS test(id INT PRIMARY KEY)\"\"\")\n",
    "        # When an index is created on a column, the database system creates a data structure that contains a sorted copy of the column's values. \n",
    "        # This allows the database system to perform data retrieval operations more quickly than if it had to scan the entire table every time a query was executed.\n",
    "        c.execute(\"CREATE INDEX fast_id ON id(id)\")\n",
    "        conn.commit()\n",
    "    except Exception as e:\n",
    "        print(str(e))\n",
    "        \n",
    "# Sqlite3 excepts a table named \"main\" and therefore gives you a warning (can be ignored)\n",
    "create_table_benchmark()\n",
    "\n",
    "\n",
    "query = \"\"\"INSERT INTO test(id) VALUES (?)\"\"\"\n",
    "\n",
    "for i in tqdm.tqdm(range(0,1000000,1)):\n",
    "    values = (i,)\n",
    "    c.execute(query, values)\n",
    "    conn.commit()"
   ]
  },
  {
   "cell_type": "code",
   "execution_count": 24,
   "metadata": {
    "tags": [
     "Question 2"
    ]
   },
   "outputs": [
    {
     "name": "stdout",
     "output_type": "stream",
     "text": [
      "no such table: main.id\n"
     ]
    },
    {
     "name": "stderr",
     "output_type": "stream",
     "text": [
      "100%|██████████| 1000000/1000000 [00:06<00:00, 154671.80it/s]\n"
     ]
    }
   ],
   "source": [
    "conn = sqlite3.connect('data/Chap1/benchmark.db')\n",
    "c = conn.cursor()\n",
    "\n",
    "def create_table_benchmark():\n",
    "    try:\n",
    "        c.execute(\"\"\"CREATE TABLE IF NOT EXISTS test2(id INT PRIMARY KEY)\"\"\")\n",
    "        # When an index is created on a column, the database system creates a data structure that contains a sorted copy of the column's values. \n",
    "        # This allows the database system to perform data retrieval operations more quickly than if it had to scan the entire table every time a query was executed.\n",
    "        c.execute(\"CREATE INDEX fast_id ON id(id)\")\n",
    "        conn.commit()\n",
    "    except Exception as e:\n",
    "        print(str(e))\n",
    "        \n",
    "# Sqlite3 excepts a table named \"main\" and therefore gives you a warning (can be ignored)\n",
    "create_table_benchmark()\n",
    "\n",
    "query = \"\"\"INSERT INTO test2(id) VALUES (?)\"\"\"\n",
    "\n",
    "\n",
    "list_of_insertion = []\n",
    "for i in tqdm.tqdm(range(0,1000000,1)):\n",
    "    values = (i,)\n",
    "    list_of_insertion.append(values)\n",
    "    if len(list_of_insertion) == 10000: #Why 10,000 and not 1,000,000? Parce qu'on lui demande d'écrire dans la base chaque fois qu'il y a 10,000 valeurs dans la rame.\n",
    "        c.executemany(query, list_of_insertion) #infiniment plus rapide que les commandes ligne par ligne\n",
    "        conn.commit()\n",
    "        list_of_insertion = []"
   ]
  },
  {
   "attachments": {},
   "cell_type": "markdown",
   "metadata": {},
   "source": [
    "Here are some desc stats you can do using SQL language"
   ]
  },
  {
   "cell_type": "code",
   "execution_count": 25,
   "metadata": {},
   "outputs": [
    {
     "name": "stdout",
     "output_type": "stream",
     "text": [
      "[(1.6, 'Setosa', 0.2459999999999999, 12.299999999999995, 50, 0.1, 0.6), (4.8, 'Versicolor', 1.3259999999999998, 66.3, 50, 1.0, 1.8), (6.0, 'Virginica', 2.026, 101.29999999999998, 50, 1.4, 2.5)]\n"
     ]
    }
   ],
   "source": [
    "# Aggreagte function\n",
    "\n",
    "import sqlite3\n",
    "\n",
    "conn = sqlite3.connect('data/Chap1/iris_manual.db')\n",
    "c = conn.cursor()\n",
    "\n",
    "c.execute(\"\"\"SELECT \"petal.length\", variety, AVG(\"petal.width\"), SUM(\"petal.width\"), COUNT(\"petal.width\"), MIN(\"petal.width\"), MAX(\"petal.width\")\n",
    "             FROM iris \n",
    "             GROUP BY variety\n",
    "             \"\"\")\n",
    "\n",
    "docs = c.fetchall()\n",
    "print(docs)"
   ]
  },
  {
   "attachments": {},
   "cell_type": "markdown",
   "metadata": {},
   "source": [
    "Data won't be this clean in your day-to-day job. Let us take an example of a research article each observation can have different length of authors/references/..."
   ]
  },
  {
   "cell_type": "code",
   "execution_count": 26,
   "metadata": {},
   "outputs": [],
   "source": [
    "# Init variables\n",
    "authors = [\"Auteur1\",\"Auteur2\",\"Auteur3\"]\n",
    "title = \"This is paper 1\"\n",
    "affiliations = [\"University of Mannheim\",\"University of Strasbourg\"]\n",
    "ref = [\"This is ref 1\",\"This is ref 2\",\"This is ref 3\"]"
   ]
  },
  {
   "cell_type": "code",
   "execution_count": 29,
   "metadata": {},
   "outputs": [
    {
     "name": "stdout",
     "output_type": "stream",
     "text": [
      "Auteur1\n",
      "Auteur2\n",
      "Auteur3\n"
     ]
    }
   ],
   "source": [
    "# Collapse list\n",
    "\n",
    "authors = \"\\n\".join(authors)\n",
    "print(authors)"
   ]
  },
  {
   "cell_type": "code",
   "execution_count": 27,
   "metadata": {},
   "outputs": [
    {
     "name": "stdout",
     "output_type": "stream",
     "text": [
      "University of Mannheim\n",
      "University of Strasbourg\n"
     ]
    }
   ],
   "source": [
    "aff = \"\\n\".join(affiliations)\n",
    "print(aff)"
   ]
  },
  {
   "cell_type": "code",
   "execution_count": 28,
   "metadata": {},
   "outputs": [
    {
     "name": "stdout",
     "output_type": "stream",
     "text": [
      "This is ref 1\n",
      "This is ref 2\n",
      "This is ref 3\n"
     ]
    }
   ],
   "source": [
    "ref = \"\\n\".join(ref)\n",
    "print(ref)"
   ]
  },
  {
   "cell_type": "code",
   "execution_count": 30,
   "metadata": {},
   "outputs": [
    {
     "name": "stdout",
     "output_type": "stream",
     "text": [
      "no such table: main.id\n"
     ]
    }
   ],
   "source": [
    "# Create the DB\n",
    "import sqlite3\n",
    "\n",
    "# connect to your db, if it does not exists it creates it.\n",
    "conn = sqlite3.connect('data/Chap1/tuts.db')\n",
    "\n",
    "c = conn.cursor()\n",
    "\n",
    "# Simple function to create table\n",
    "\n",
    "def create_table_test():\n",
    "    try:\n",
    "        c.execute(\"\"\"CREATE TABLE IF NOT EXISTS test(id INT PRIMARY KEY, authors TEXT,\n",
    "                    title TEXT, affiliations TEXT, ref TEXT)\"\"\")\n",
    "        # Index to do query faster\n",
    "        c.execute(\"CREATE INDEX fast_id ON id(id)\")\n",
    "        conn.commit()\n",
    "    except Exception as e:\n",
    "        print(str(e))\n",
    "        \n",
    "# Sqlite3 excepts a table named \"main\" and therefore gives you a warning (can be ignored)\n",
    "create_table_test()\n"
   ]
  },
  {
   "cell_type": "code",
   "execution_count": 31,
   "metadata": {},
   "outputs": [],
   "source": [
    "# SQL can be finicky when trying to insert using python, big difference between \" and '\n",
    "query = \"\"\"INSERT INTO test(id, authors, title, affiliations, ref) VALUES (?,?,?,?,?)\"\"\"\n",
    "values = (3, authors, title, aff, ref)\n",
    "c.execute(query, values)\n",
    "conn.commit()"
   ]
  },
  {
   "attachments": {},
   "cell_type": "markdown",
   "metadata": {
    "tags": [
     "Come back here"
    ]
   },
   "source": [
    "[Here]( https://www.sqltutorial.org/sql-cheat-sheet/) are some cheat sheet for SQL querys.\n",
    "\n",
    "SQLite is really useful to learn the language but chances are you will work with an online server and will need to use things like MySQL, Oracle, PostgreSQL,...\n",
    "The language is always (almost) the same but the way you will connect and run query might change.\n",
    "\n",
    "Let's just do a simple example of MySQL:\n",
    "\n",
    "From here https://dev.mysql.com/downloads/ you need to DL the community server, the workbench and the python connector. Once they are all installed and the server is up and running you should be able to run the next code"
   ]
  },
  {
   "cell_type": "code",
   "execution_count": null,
   "metadata": {},
   "outputs": [
    {
     "name": "stdout",
     "output_type": "stream",
     "text": [
      "<mysql.connector.connection_cext.CMySQLConnection object at 0x000001A7BFC0DA00>\n"
     ]
    }
   ],
   "source": [
    "import mysql.connector\n",
    "\n",
    "mydb = mysql.connector.connect(\n",
    "  host=\"localhost\",\n",
    "  user=\"root\",\n",
    "  password=\"root\"\n",
    ")\n",
    "\n",
    "print(mydb) \n",
    "\n",
    "c = mydb.cursor()\n",
    "\n",
    "c.execute(\"CREATE DATABASE mydatabase\")\n"
   ]
  },
  {
   "attachments": {},
   "cell_type": "markdown",
   "metadata": {},
   "source": [
    "If a database already exist you can connect directly to it"
   ]
  },
  {
   "cell_type": "code",
   "execution_count": null,
   "metadata": {},
   "outputs": [],
   "source": [
    "import mysql.connector\n",
    "\n",
    "mydb = mysql.connector.connect(\n",
    "  host=\"localhost\",\n",
    "  user=\"root\",\n",
    "  password=\"root\",\n",
    "  database=\"mydatabase\"\n",
    ")\n",
    "\n",
    "c = mydb.cursor()\n",
    "\n",
    "c.execute(\"CREATE TABLE customers (name VARCHAR(255), address VARCHAR(255))\")\n"
   ]
  },
  {
   "attachments": {},
   "cell_type": "markdown",
   "metadata": {},
   "source": [
    "You can now look at the DB in the workbench and execute query as seen in SQLite"
   ]
  },
  {
   "attachments": {},
   "cell_type": "markdown",
   "metadata": {},
   "source": [
    "A csv (or RDBMS) works but is it really efficient ? Imagine a scenario with even more nested data (each author has an aff, an aff can have a list a members, each members has an age, ...).You could create different tables but each time you will need to join information of this different tables. That's where NoSQL comes in to save the day.\n",
    "\n",
    "\n",
    "Modifying the architecture in SQL is clunky. A lot of time is invested designing the data model because changes will impact all or most of the layers in the application.\n",
    "\n",
    "NoSQL is:\n",
    "- Meant for unstructured data.\n",
    "- Designed to manage lots of traffic and data.\n",
    "- Has no predefined schema.\n",
    "- Easy to query.\n",
    "\n",
    "Because of the context (Big Data), Unstructured data has become more and more present hence the interest in NoSQL. Indeed JSON (more on that in chapter I) data is the commonly used data format in Javascript and Javascript is present everywhere in almost every web page (dynamic vs static).\n",
    "\n",
    "The biggest advantage of NoSQL is that you get to skip the \"understand your data and usage patterns\" steps. But is it really an advantage ?\n",
    "\n",
    "NoSQL cons:\n",
    "- Don't really know what you are working with\n",
    "- Multiplicity of different DB (Meaning different \"language\" for some)\n",
    "- Flexible but can become messy so watch out\n",
    "\n",
    "IMO: Use SQL when you have a Static data flow or the change in the data is not regular and if the data fits in a row-column format. It's always better to have a good structure even if it asks to put a lot of work before hand. If you need flexibility or the data is really nested using Nosql DBs reduces the need for joins and lookups, making your queries faster.\n"
   ]
  },
  {
   "cell_type": "markdown",
   "metadata": {},
   "source": [
    "<p style=\"text-align: center;\"><b>Proportion of DBs usage</b></p>"
   ]
  },
  {
   "cell_type": "markdown",
   "metadata": {},
   "source": [
    "![test](./img/DB_piechart.png \"Title\")"
   ]
  },
  {
   "attachments": {},
   "cell_type": "markdown",
   "metadata": {},
   "source": [
    "Nothing new but we are surrounded by a lot of data, information flows faster than ever (i.e: big data). But what exactly is the type of data we get in huge quantity ? Text, Networks, Sound, Image, ...\n",
    "\n",
    "## What is NoSQL ? SQL vs NoSQL\n",
    "\n",
    "NoSQL stands for \"Not only SQL\", every database that does not use SQL (Structured Query Language) is called NoSQL even though every NoSQL DB does not work the same way. The difference between SQL and NoSQL databases is really just a comparison of relational vs. non-relational databases. Deciding when to use SQL vs. NoSQL depends on the kind of information you’re storing and the best way to store it. Both types store data, they just store data differently.\n",
    "Imagine you have a list of variables for research papers. authors, affiliations, title, references. How do you store it in a csv ? "
   ]
  },
  {
   "cell_type": "markdown",
   "metadata": {},
   "source": [
    "The popularity of DBs using SQL is still high (3/4). In your opinion why ? "
   ]
  },
  {
   "cell_type": "markdown",
   "metadata": {},
   "source": [
    "<p style=\"text-align: center;\"><b>Non exhaustive list of companies using NoSQL</b></p>"
   ]
  },
  {
   "cell_type": "markdown",
   "metadata": {},
   "source": [
    "<table><tr>\n",
    "<td> <img src=\"./img/Google.png\" alt=\"Drawing\" style=\"width: 150px;\"/> </td>\n",
    "<td> <img src=\"./img/Amazon logo.png\" alt=\"Drawing\" style=\"width: 150px;\"/> </td>\n",
    "<td> <img src=\"./img/Facebook.png\" alt=\"Drawing\" style=\"width: 150px;\"/> </td>\n",
    "<td> <img src=\"./img/Mozilla.png\" alt=\"Drawing\" style=\"width: 150px;\"/> </td>\n",
    "<td> <img src=\"./img/netflix.png\" alt=\"Drawing\" style=\"width: 150px;\"/> </td>\n",
    "<td> <img src=\"./img/Twitter.png\" alt=\"Drawing\" style=\"width: 150px;\"/> </td>\n",
    "</tr></table>"
   ]
  },
  {
   "cell_type": "markdown",
   "metadata": {},
   "source": [
    "Think before using one or the other.\n",
    "\n",
    "Before jumping into NoSQL directly we will take a look at what a unstructured data format looks like."
   ]
  },
  {
   "attachments": {},
   "cell_type": "markdown",
   "metadata": {},
   "source": [
    "Les fonctions CRED suffisent"
   ]
  },
  {
   "attachments": {},
   "cell_type": "markdown",
   "metadata": {},
   "source": [
    "# Exercise"
   ]
  },
  {
   "attachments": {},
   "cell_type": "markdown",
   "metadata": {},
   "source": [
    "**TODO 1**: Read all the data from bc.csv, how many rows is there ? Columns ?"
   ]
  },
  {
   "cell_type": "code",
   "execution_count": 1,
   "metadata": {},
   "outputs": [
    {
     "data": {
      "text/html": [
       "<div>\n",
       "<style scoped>\n",
       "    .dataframe tbody tr th:only-of-type {\n",
       "        vertical-align: middle;\n",
       "    }\n",
       "\n",
       "    .dataframe tbody tr th {\n",
       "        vertical-align: top;\n",
       "    }\n",
       "\n",
       "    .dataframe thead th {\n",
       "        text-align: right;\n",
       "    }\n",
       "</style>\n",
       "<table border=\"1\" class=\"dataframe\">\n",
       "  <thead>\n",
       "    <tr style=\"text-align: right;\">\n",
       "      <th></th>\n",
       "      <th>id</th>\n",
       "      <th>diagnosis</th>\n",
       "      <th>radius_mean</th>\n",
       "      <th>texture_mean</th>\n",
       "      <th>perimeter_mean</th>\n",
       "      <th>area_mean</th>\n",
       "      <th>smoothness_mean</th>\n",
       "      <th>compactness_mean</th>\n",
       "      <th>concavity_mean</th>\n",
       "      <th>concave points_mean</th>\n",
       "      <th>...</th>\n",
       "      <th>texture_worst</th>\n",
       "      <th>perimeter_worst</th>\n",
       "      <th>area_worst</th>\n",
       "      <th>smoothness_worst</th>\n",
       "      <th>compactness_worst</th>\n",
       "      <th>concavity_worst</th>\n",
       "      <th>concave points_worst</th>\n",
       "      <th>symmetry_worst</th>\n",
       "      <th>fractal_dimension_worst</th>\n",
       "      <th>Unnamed: 32</th>\n",
       "    </tr>\n",
       "  </thead>\n",
       "  <tbody>\n",
       "    <tr>\n",
       "      <th>0</th>\n",
       "      <td>842302</td>\n",
       "      <td>M</td>\n",
       "      <td>17.99</td>\n",
       "      <td>10.38</td>\n",
       "      <td>122.80</td>\n",
       "      <td>1001.0</td>\n",
       "      <td>0.11840</td>\n",
       "      <td>0.27760</td>\n",
       "      <td>0.30010</td>\n",
       "      <td>0.14710</td>\n",
       "      <td>...</td>\n",
       "      <td>17.33</td>\n",
       "      <td>184.60</td>\n",
       "      <td>2019.0</td>\n",
       "      <td>0.16220</td>\n",
       "      <td>0.66560</td>\n",
       "      <td>0.7119</td>\n",
       "      <td>0.2654</td>\n",
       "      <td>0.4601</td>\n",
       "      <td>0.11890</td>\n",
       "      <td>NaN</td>\n",
       "    </tr>\n",
       "    <tr>\n",
       "      <th>1</th>\n",
       "      <td>842517</td>\n",
       "      <td>M</td>\n",
       "      <td>20.57</td>\n",
       "      <td>17.77</td>\n",
       "      <td>132.90</td>\n",
       "      <td>1326.0</td>\n",
       "      <td>0.08474</td>\n",
       "      <td>0.07864</td>\n",
       "      <td>0.08690</td>\n",
       "      <td>0.07017</td>\n",
       "      <td>...</td>\n",
       "      <td>23.41</td>\n",
       "      <td>158.80</td>\n",
       "      <td>1956.0</td>\n",
       "      <td>0.12380</td>\n",
       "      <td>0.18660</td>\n",
       "      <td>0.2416</td>\n",
       "      <td>0.1860</td>\n",
       "      <td>0.2750</td>\n",
       "      <td>0.08902</td>\n",
       "      <td>NaN</td>\n",
       "    </tr>\n",
       "    <tr>\n",
       "      <th>2</th>\n",
       "      <td>84300903</td>\n",
       "      <td>M</td>\n",
       "      <td>19.69</td>\n",
       "      <td>21.25</td>\n",
       "      <td>130.00</td>\n",
       "      <td>1203.0</td>\n",
       "      <td>0.10960</td>\n",
       "      <td>0.15990</td>\n",
       "      <td>0.19740</td>\n",
       "      <td>0.12790</td>\n",
       "      <td>...</td>\n",
       "      <td>25.53</td>\n",
       "      <td>152.50</td>\n",
       "      <td>1709.0</td>\n",
       "      <td>0.14440</td>\n",
       "      <td>0.42450</td>\n",
       "      <td>0.4504</td>\n",
       "      <td>0.2430</td>\n",
       "      <td>0.3613</td>\n",
       "      <td>0.08758</td>\n",
       "      <td>NaN</td>\n",
       "    </tr>\n",
       "    <tr>\n",
       "      <th>3</th>\n",
       "      <td>84348301</td>\n",
       "      <td>M</td>\n",
       "      <td>11.42</td>\n",
       "      <td>20.38</td>\n",
       "      <td>77.58</td>\n",
       "      <td>386.1</td>\n",
       "      <td>0.14250</td>\n",
       "      <td>0.28390</td>\n",
       "      <td>0.24140</td>\n",
       "      <td>0.10520</td>\n",
       "      <td>...</td>\n",
       "      <td>26.50</td>\n",
       "      <td>98.87</td>\n",
       "      <td>567.7</td>\n",
       "      <td>0.20980</td>\n",
       "      <td>0.86630</td>\n",
       "      <td>0.6869</td>\n",
       "      <td>0.2575</td>\n",
       "      <td>0.6638</td>\n",
       "      <td>0.17300</td>\n",
       "      <td>NaN</td>\n",
       "    </tr>\n",
       "    <tr>\n",
       "      <th>4</th>\n",
       "      <td>84358402</td>\n",
       "      <td>M</td>\n",
       "      <td>20.29</td>\n",
       "      <td>14.34</td>\n",
       "      <td>135.10</td>\n",
       "      <td>1297.0</td>\n",
       "      <td>0.10030</td>\n",
       "      <td>0.13280</td>\n",
       "      <td>0.19800</td>\n",
       "      <td>0.10430</td>\n",
       "      <td>...</td>\n",
       "      <td>16.67</td>\n",
       "      <td>152.20</td>\n",
       "      <td>1575.0</td>\n",
       "      <td>0.13740</td>\n",
       "      <td>0.20500</td>\n",
       "      <td>0.4000</td>\n",
       "      <td>0.1625</td>\n",
       "      <td>0.2364</td>\n",
       "      <td>0.07678</td>\n",
       "      <td>NaN</td>\n",
       "    </tr>\n",
       "    <tr>\n",
       "      <th>...</th>\n",
       "      <td>...</td>\n",
       "      <td>...</td>\n",
       "      <td>...</td>\n",
       "      <td>...</td>\n",
       "      <td>...</td>\n",
       "      <td>...</td>\n",
       "      <td>...</td>\n",
       "      <td>...</td>\n",
       "      <td>...</td>\n",
       "      <td>...</td>\n",
       "      <td>...</td>\n",
       "      <td>...</td>\n",
       "      <td>...</td>\n",
       "      <td>...</td>\n",
       "      <td>...</td>\n",
       "      <td>...</td>\n",
       "      <td>...</td>\n",
       "      <td>...</td>\n",
       "      <td>...</td>\n",
       "      <td>...</td>\n",
       "      <td>...</td>\n",
       "    </tr>\n",
       "    <tr>\n",
       "      <th>564</th>\n",
       "      <td>926424</td>\n",
       "      <td>M</td>\n",
       "      <td>21.56</td>\n",
       "      <td>22.39</td>\n",
       "      <td>142.00</td>\n",
       "      <td>1479.0</td>\n",
       "      <td>0.11100</td>\n",
       "      <td>0.11590</td>\n",
       "      <td>0.24390</td>\n",
       "      <td>0.13890</td>\n",
       "      <td>...</td>\n",
       "      <td>26.40</td>\n",
       "      <td>166.10</td>\n",
       "      <td>2027.0</td>\n",
       "      <td>0.14100</td>\n",
       "      <td>0.21130</td>\n",
       "      <td>0.4107</td>\n",
       "      <td>0.2216</td>\n",
       "      <td>0.2060</td>\n",
       "      <td>0.07115</td>\n",
       "      <td>NaN</td>\n",
       "    </tr>\n",
       "    <tr>\n",
       "      <th>565</th>\n",
       "      <td>926682</td>\n",
       "      <td>M</td>\n",
       "      <td>20.13</td>\n",
       "      <td>28.25</td>\n",
       "      <td>131.20</td>\n",
       "      <td>1261.0</td>\n",
       "      <td>0.09780</td>\n",
       "      <td>0.10340</td>\n",
       "      <td>0.14400</td>\n",
       "      <td>0.09791</td>\n",
       "      <td>...</td>\n",
       "      <td>38.25</td>\n",
       "      <td>155.00</td>\n",
       "      <td>1731.0</td>\n",
       "      <td>0.11660</td>\n",
       "      <td>0.19220</td>\n",
       "      <td>0.3215</td>\n",
       "      <td>0.1628</td>\n",
       "      <td>0.2572</td>\n",
       "      <td>0.06637</td>\n",
       "      <td>NaN</td>\n",
       "    </tr>\n",
       "    <tr>\n",
       "      <th>566</th>\n",
       "      <td>926954</td>\n",
       "      <td>M</td>\n",
       "      <td>16.60</td>\n",
       "      <td>28.08</td>\n",
       "      <td>108.30</td>\n",
       "      <td>858.1</td>\n",
       "      <td>0.08455</td>\n",
       "      <td>0.10230</td>\n",
       "      <td>0.09251</td>\n",
       "      <td>0.05302</td>\n",
       "      <td>...</td>\n",
       "      <td>34.12</td>\n",
       "      <td>126.70</td>\n",
       "      <td>1124.0</td>\n",
       "      <td>0.11390</td>\n",
       "      <td>0.30940</td>\n",
       "      <td>0.3403</td>\n",
       "      <td>0.1418</td>\n",
       "      <td>0.2218</td>\n",
       "      <td>0.07820</td>\n",
       "      <td>NaN</td>\n",
       "    </tr>\n",
       "    <tr>\n",
       "      <th>567</th>\n",
       "      <td>927241</td>\n",
       "      <td>M</td>\n",
       "      <td>20.60</td>\n",
       "      <td>29.33</td>\n",
       "      <td>140.10</td>\n",
       "      <td>1265.0</td>\n",
       "      <td>0.11780</td>\n",
       "      <td>0.27700</td>\n",
       "      <td>0.35140</td>\n",
       "      <td>0.15200</td>\n",
       "      <td>...</td>\n",
       "      <td>39.42</td>\n",
       "      <td>184.60</td>\n",
       "      <td>1821.0</td>\n",
       "      <td>0.16500</td>\n",
       "      <td>0.86810</td>\n",
       "      <td>0.9387</td>\n",
       "      <td>0.2650</td>\n",
       "      <td>0.4087</td>\n",
       "      <td>0.12400</td>\n",
       "      <td>NaN</td>\n",
       "    </tr>\n",
       "    <tr>\n",
       "      <th>568</th>\n",
       "      <td>92751</td>\n",
       "      <td>B</td>\n",
       "      <td>7.76</td>\n",
       "      <td>24.54</td>\n",
       "      <td>47.92</td>\n",
       "      <td>181.0</td>\n",
       "      <td>0.05263</td>\n",
       "      <td>0.04362</td>\n",
       "      <td>0.00000</td>\n",
       "      <td>0.00000</td>\n",
       "      <td>...</td>\n",
       "      <td>30.37</td>\n",
       "      <td>59.16</td>\n",
       "      <td>268.6</td>\n",
       "      <td>0.08996</td>\n",
       "      <td>0.06444</td>\n",
       "      <td>0.0000</td>\n",
       "      <td>0.0000</td>\n",
       "      <td>0.2871</td>\n",
       "      <td>0.07039</td>\n",
       "      <td>NaN</td>\n",
       "    </tr>\n",
       "  </tbody>\n",
       "</table>\n",
       "<p>569 rows × 33 columns</p>\n",
       "</div>"
      ],
      "text/plain": [
       "           id diagnosis  radius_mean  texture_mean  perimeter_mean  area_mean  \\\n",
       "0      842302         M        17.99         10.38          122.80     1001.0   \n",
       "1      842517         M        20.57         17.77          132.90     1326.0   \n",
       "2    84300903         M        19.69         21.25          130.00     1203.0   \n",
       "3    84348301         M        11.42         20.38           77.58      386.1   \n",
       "4    84358402         M        20.29         14.34          135.10     1297.0   \n",
       "..        ...       ...          ...           ...             ...        ...   \n",
       "564    926424         M        21.56         22.39          142.00     1479.0   \n",
       "565    926682         M        20.13         28.25          131.20     1261.0   \n",
       "566    926954         M        16.60         28.08          108.30      858.1   \n",
       "567    927241         M        20.60         29.33          140.10     1265.0   \n",
       "568     92751         B         7.76         24.54           47.92      181.0   \n",
       "\n",
       "     smoothness_mean  compactness_mean  concavity_mean  concave points_mean  \\\n",
       "0            0.11840           0.27760         0.30010              0.14710   \n",
       "1            0.08474           0.07864         0.08690              0.07017   \n",
       "2            0.10960           0.15990         0.19740              0.12790   \n",
       "3            0.14250           0.28390         0.24140              0.10520   \n",
       "4            0.10030           0.13280         0.19800              0.10430   \n",
       "..               ...               ...             ...                  ...   \n",
       "564          0.11100           0.11590         0.24390              0.13890   \n",
       "565          0.09780           0.10340         0.14400              0.09791   \n",
       "566          0.08455           0.10230         0.09251              0.05302   \n",
       "567          0.11780           0.27700         0.35140              0.15200   \n",
       "568          0.05263           0.04362         0.00000              0.00000   \n",
       "\n",
       "     ...  texture_worst  perimeter_worst  area_worst  smoothness_worst  \\\n",
       "0    ...          17.33           184.60      2019.0           0.16220   \n",
       "1    ...          23.41           158.80      1956.0           0.12380   \n",
       "2    ...          25.53           152.50      1709.0           0.14440   \n",
       "3    ...          26.50            98.87       567.7           0.20980   \n",
       "4    ...          16.67           152.20      1575.0           0.13740   \n",
       "..   ...            ...              ...         ...               ...   \n",
       "564  ...          26.40           166.10      2027.0           0.14100   \n",
       "565  ...          38.25           155.00      1731.0           0.11660   \n",
       "566  ...          34.12           126.70      1124.0           0.11390   \n",
       "567  ...          39.42           184.60      1821.0           0.16500   \n",
       "568  ...          30.37            59.16       268.6           0.08996   \n",
       "\n",
       "     compactness_worst  concavity_worst  concave points_worst  symmetry_worst  \\\n",
       "0              0.66560           0.7119                0.2654          0.4601   \n",
       "1              0.18660           0.2416                0.1860          0.2750   \n",
       "2              0.42450           0.4504                0.2430          0.3613   \n",
       "3              0.86630           0.6869                0.2575          0.6638   \n",
       "4              0.20500           0.4000                0.1625          0.2364   \n",
       "..                 ...              ...                   ...             ...   \n",
       "564            0.21130           0.4107                0.2216          0.2060   \n",
       "565            0.19220           0.3215                0.1628          0.2572   \n",
       "566            0.30940           0.3403                0.1418          0.2218   \n",
       "567            0.86810           0.9387                0.2650          0.4087   \n",
       "568            0.06444           0.0000                0.0000          0.2871   \n",
       "\n",
       "     fractal_dimension_worst  Unnamed: 32  \n",
       "0                    0.11890          NaN  \n",
       "1                    0.08902          NaN  \n",
       "2                    0.08758          NaN  \n",
       "3                    0.17300          NaN  \n",
       "4                    0.07678          NaN  \n",
       "..                       ...          ...  \n",
       "564                  0.07115          NaN  \n",
       "565                  0.06637          NaN  \n",
       "566                  0.07820          NaN  \n",
       "567                  0.12400          NaN  \n",
       "568                  0.07039          NaN  \n",
       "\n",
       "[569 rows x 33 columns]"
      ]
     },
     "execution_count": 1,
     "metadata": {},
     "output_type": "execute_result"
    }
   ],
   "source": [
    "import pandas as pd\n",
    "\n",
    "df = pd.read_csv(\"data/Chap1/bc.csv\")\n",
    "df"
   ]
  },
  {
   "attachments": {},
   "cell_type": "markdown",
   "metadata": {},
   "source": [
    "Numbers of rows and columns can be read below the data frame: 569 rows × 33 columns"
   ]
  },
  {
   "attachments": {},
   "cell_type": "markdown",
   "metadata": {},
   "source": [
    "**TODO 2**: Insert the bc.csv in the sqlite format."
   ]
  },
  {
   "cell_type": "code",
   "execution_count": 2,
   "metadata": {},
   "outputs": [],
   "source": [
    "import sqlite3\n",
    "\n",
    "# Establishes a connection to an SQLite database file. The only argument is the path (If the file does not exist an empty file is created)\n",
    "conn = sqlite3.connect('data/Chap1/bc.db')\n",
    "\n",
    "# A cursor in SQL databases is a database object that allows you to retrieve and manipulate a set of data rows returned by a SQL statement, one row at a time.\n",
    "c = conn.cursor()"
   ]
  },
  {
   "attachments": {},
   "cell_type": "markdown",
   "metadata": {},
   "source": [
    "Then go on to SQLite to import bc.csv as a new table."
   ]
  },
  {
   "attachments": {},
   "cell_type": "markdown",
   "metadata": {},
   "source": [
    "**TODO 3**: In the same db create a new table called tomatch with two variables id_ and rdm_float. "
   ]
  },
  {
   "cell_type": "code",
   "execution_count": 3,
   "metadata": {},
   "outputs": [
    {
     "name": "stdout",
     "output_type": "stream",
     "text": [
      "no such table: main.id\n"
     ]
    }
   ],
   "source": [
    "# Simple function to create table tomatch\n",
    "\n",
    "def create_table_tomatch():\n",
    "    try:\n",
    "        c.execute(\"\"\"CREATE TABLE IF NOT EXISTS tomatch(id_ INT PRIMARY KEY, \n",
    "                     \"rdm_float\" FLOAT)\"\"\")\n",
    "        c.execute(\"CREATE INDEX fast_id ON id(id)\")\n",
    "        conn.commit()\n",
    "    except Exception as e:\n",
    "        print(str(e))\n",
    "        \n",
    "create_table_tomatch()"
   ]
  },
  {
   "attachments": {},
   "cell_type": "markdown",
   "metadata": {},
   "source": [
    "**TODO 4**: In the table tomatch insert observations where the id_ starts from 50k, ends at 10000000 and is only even numbers. rdm_float is a float random for each observation."
   ]
  },
  {
   "cell_type": "code",
   "execution_count": 4,
   "metadata": {},
   "outputs": [
    {
     "name": "stderr",
     "output_type": "stream",
     "text": [
      "100%|██████████| 4975000/4975000 [00:30<00:00, 165308.25it/s]\n"
     ]
    }
   ],
   "source": [
    "import tqdm\n",
    "import random\n",
    "\n",
    "query = \"\"\"INSERT INTO tomatch(id_, rdm_float) VALUES (?,?)\"\"\"\n",
    "\n",
    "list_of_insertion = []\n",
    "rdm_float = 0\n",
    "for i in tqdm.tqdm(range(50000,10000000,2)):\n",
    "    rdm_float = round(random.uniform(0, 100), 2)\n",
    "    values = (i, rdm_float)\n",
    "    list_of_insertion.append(values)\n",
    "    if len(list_of_insertion) == 10000:\n",
    "        c.executemany(query, list_of_insertion)\n",
    "        conn.commit()\n",
    "        list_of_insertion = []"
   ]
  },
  {
   "attachments": {},
   "cell_type": "markdown",
   "metadata": {},
   "source": [
    "**TODO 5**: Do an Inner join between the two tables and compute the different aggregate functions on a column of your choice."
   ]
  },
  {
   "cell_type": "code",
   "execution_count": 20,
   "metadata": {},
   "outputs": [
    {
     "name": "stdout",
     "output_type": "stream",
     "text": [
      "[(13.997218106995879, 3401.3239999999987, 243, 6.981, 27.22)]\n"
     ]
    }
   ],
   "source": [
    "c.execute(\"\"\"SELECT AVG(\"radius_mean\"), SUM(\"radius_mean\"), COUNT(\"radius_mean\"), MIN(\"radius_mean\"), MAX(\"radius_mean\")\n",
    "             FROM bc\n",
    "             INNER JOIN tomatch ON bc.id = tomatch.id_\"\"\")\n",
    "\n",
    "docs = c.fetchall()\n",
    "print(docs)"
   ]
  },
  {
   "attachments": {},
   "cell_type": "markdown",
   "metadata": {},
   "source": [
    "**TODO 6**: How many observations have a radius_mean greater than 15 ? From them how many have a texture_mean greater than 20 ?"
   ]
  },
  {
   "cell_type": "code",
   "execution_count": 6,
   "metadata": {},
   "outputs": [
    {
     "name": "stdout",
     "output_type": "stream",
     "text": [
      "173\n"
     ]
    }
   ],
   "source": [
    "c.execute(\"\"\"SELECT * FROM bc WHERE \"radius_mean\" > 15 \"\"\")\n",
    "\n",
    "n = 0\n",
    "for i in c:\n",
    "    n = n + 1\n",
    "\n",
    "print(n)"
   ]
  },
  {
   "cell_type": "code",
   "execution_count": 7,
   "metadata": {},
   "outputs": [
    {
     "name": "stdout",
     "output_type": "stream",
     "text": [
      "106\n"
     ]
    }
   ],
   "source": [
    "c.execute(\"\"\"SELECT * FROM bc WHERE \"radius_mean\" > 15\n",
    "             INTERSECT\n",
    "             SELECT * FROM bc WHERE \"texture_mean\" > 20\"\"\")\n",
    "\n",
    "n = 0\n",
    "for i in c:\n",
    "    n = n + 1\n",
    "\n",
    "print(n)"
   ]
  },
  {
   "cell_type": "code",
   "execution_count": 27,
   "metadata": {},
   "outputs": [
    {
     "name": "stdout",
     "output_type": "stream",
     "text": [
      "106\n"
     ]
    }
   ],
   "source": [
    "#Another way to do it with AND instead of INTERSECT:\n",
    "\n",
    "c.execute(\"\"\"SELECT * FROM bc \n",
    "             WHERE \"radius_mean\" > 15\n",
    "                AND \"texture_mean\" > 20\"\"\")\n",
    "\n",
    "n = 0\n",
    "for i in c:\n",
    "    n = n + 1\n",
    "\n",
    "print(n)"
   ]
  },
  {
   "attachments": {},
   "cell_type": "markdown",
   "metadata": {},
   "source": [
    "**TODO 7**: For each category in diagnosis do the mean of a variable and round it to get only 2 numbers after the comma. Compute the difference between the mean of both groups\n"
   ]
  },
  {
   "cell_type": "code",
   "execution_count": 8,
   "metadata": {},
   "outputs": [
    {
     "name": "stdout",
     "output_type": "stream",
     "text": [
      "[('B', 12.15), ('M', 17.46)]\n"
     ]
    }
   ],
   "source": [
    "c.execute(\"\"\"SELECT \"diagnosis\", ROUND(AVG(\"radius_mean\"), 2)\n",
    "             FROM bc \n",
    "             GROUP BY \"diagnosis\"\n",
    "             \"\"\")\n",
    "\n",
    "docs = c.fetchall()\n",
    "print(docs)"
   ]
  },
  {
   "cell_type": "code",
   "execution_count": 9,
   "metadata": {},
   "outputs": [
    {
     "data": {
      "text/plain": [
       "5.3100000000000005"
      ]
     },
     "execution_count": 9,
     "metadata": {},
     "output_type": "execute_result"
    }
   ],
   "source": [
    "#Compute the difference between the mean of both groups with python (it might not be the cleanest way to do it):\n",
    "abs(docs[0][1]-docs[1][1])"
   ]
  },
  {
   "attachments": {},
   "cell_type": "markdown",
   "metadata": {},
   "source": [
    "**TODO 8**: Change the name of the column \"diagnosis\" to \"label\""
   ]
  },
  {
   "cell_type": "code",
   "execution_count": 10,
   "metadata": {},
   "outputs": [],
   "source": [
    "c.execute(\"\"\"ALTER TABLE bc \n",
    "             RENAME COLUMN diagnosis TO label\"\"\")\n",
    "\n",
    "conn.commit()"
   ]
  },
  {
   "attachments": {},
   "cell_type": "markdown",
   "metadata": {},
   "source": [
    "**TODO 9**: Change the type of the column \"area_mean\" to int (hint, not possible on sqlite, create a new column)"
   ]
  },
  {
   "cell_type": "code",
   "execution_count": 11,
   "metadata": {},
   "outputs": [],
   "source": [
    "c.execute(\"\"\"ALTER TABLE bc\n",
    "             ADD COLUMN \"area_mean_int\" INT\"\"\")\n",
    "\n",
    "conn.commit()\n",
    "\n",
    "#Copy the column \"area_mean\" as an integer in the new column \"area_mean_int\":\n",
    "c.execute(\"\"\"UPDATE bc\n",
    "             SET \"area_mean_int\" = CAST(\"area_mean\" AS INT)\"\"\")\n",
    "\n",
    "conn.commit()"
   ]
  },
  {
   "attachments": {},
   "cell_type": "markdown",
   "metadata": {},
   "source": [
    "**TODO 10**: Add a column named \"day\" of type DATE."
   ]
  },
  {
   "cell_type": "code",
   "execution_count": 12,
   "metadata": {},
   "outputs": [],
   "source": [
    "c.execute(\"\"\"ALTER TABLE bc\n",
    "             ADD COLUMN \"day\" DATE\"\"\")\n",
    "\n",
    "conn.commit()"
   ]
  },
  {
   "attachments": {},
   "cell_type": "markdown",
   "metadata": {},
   "source": [
    "**TODO 11**: create a new table called tomatch2 exactly the same way as tomatch except you increment id_ by 10."
   ]
  },
  {
   "cell_type": "code",
   "execution_count": 13,
   "metadata": {},
   "outputs": [
    {
     "name": "stdout",
     "output_type": "stream",
     "text": [
      "no such table: main.id\n"
     ]
    }
   ],
   "source": [
    "# Simple function to create table tomatch2\n",
    "\n",
    "def create_table_tomatch2():\n",
    "    try:\n",
    "        c.execute(\"\"\"CREATE TABLE IF NOT EXISTS tomatch2(id_ INT PRIMARY KEY, \n",
    "                     \"rdm_float\" FLOAT)\"\"\")\n",
    "        c.execute(\"CREATE INDEX fast_id ON id(id)\")\n",
    "        conn.commit()\n",
    "    except Exception as e:\n",
    "        print(str(e))\n",
    "        \n",
    "create_table_tomatch2()"
   ]
  },
  {
   "cell_type": "code",
   "execution_count": 14,
   "metadata": {},
   "outputs": [
    {
     "name": "stderr",
     "output_type": "stream",
     "text": [
      "100%|██████████| 995000/995000 [00:06<00:00, 146847.54it/s]\n"
     ]
    }
   ],
   "source": [
    "#query and loop to insert values into table tomatch2\n",
    "\n",
    "import tqdm\n",
    "import random\n",
    "\n",
    "query = \"\"\"INSERT INTO tomatch2(id_, rdm_float) VALUES (?,?)\"\"\"\n",
    "\n",
    "list_of_insertion = []\n",
    "rdm_float = 0\n",
    "for i in tqdm.tqdm(range(50000,10000000,10)):\n",
    "    rdm_float = round(random.uniform(0, 100), 2)\n",
    "    values = (i, rdm_float)\n",
    "    list_of_insertion.append(values)\n",
    "    if len(list_of_insertion) == 10000:\n",
    "        c.executemany(query, list_of_insertion)\n",
    "        conn.commit()\n",
    "        list_of_insertion = []"
   ]
  },
  {
   "attachments": {},
   "cell_type": "markdown",
   "metadata": {},
   "source": [
    "**TODO 12**: Do an inner join of bc, tomatch and tomatch2 where the radius_mean is greater than 15, and the rdm_float is greater than 50 in tomatch AND tomatch2. \n",
    "\n",
    "\n"
   ]
  },
  {
   "cell_type": "code",
   "execution_count": 26,
   "metadata": {},
   "outputs": [
    {
     "name": "stdout",
     "output_type": "stream",
     "text": [
      "(879830, 17.01, 879830, 54.08, 879830, 89.36)\n",
      "(895100, 20.34, 895100, 77.2, 895100, 72.41)\n",
      "(915460, 15.46, 915460, 77.01, 915460, 87.21)\n"
     ]
    }
   ],
   "source": [
    "c.execute(\"\"\"SELECT bc.id, bc.radius_mean, tomatch.id_, tomatch.rdm_float, tomatch2.id_, tomatch2.rdm_float\n",
    "             FROM bc\n",
    "                INNER JOIN tomatch ON bc.id = tomatch.id_\n",
    "                INNER JOIN tomatch2 ON tomatch.id_ = tomatch2.id_\n",
    "             WHERE bc.radius_mean > 15\n",
    "                AND tomatch.rdm_float > 50\n",
    "                AND tomatch2.rdm_float > 50\"\"\")\n",
    "\n",
    "for i in c:\n",
    "    print(i)"
   ]
  }
 ],
 "metadata": {
  "kernelspec": {
   "display_name": "Python 3",
   "language": "python",
   "name": "python3"
  },
  "language_info": {
   "codemirror_mode": {
    "name": "ipython",
    "version": 3
   },
   "file_extension": ".py",
   "mimetype": "text/x-python",
   "name": "python",
   "nbconvert_exporter": "python",
   "pygments_lexer": "ipython3",
   "version": "3.9.13"
  }
 },
 "nbformat": 4,
 "nbformat_minor": 4
}
