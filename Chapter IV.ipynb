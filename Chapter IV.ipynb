{
 "cells": [
  {
   "cell_type": "markdown",
   "metadata": {},
   "source": [
    "## Neo4j\n",
    "\n",
    "## Short intro to graph theory\n",
    "\n",
    "To understand Neo4j you need some intuition to graph theory.\n",
    "\n",
    "Graph theory is the study of graphs (usually called networks in our domain). Graphs are mathematical structures used to model pairwise relations (edges) between object(nodes). A graph can be either undirected (symetrical relation) or directed (asymetrical realtion). An edge connects only two nodes (It can be twice the same node). Here's an example of a graph:\n",
    "\n",
    "<img src=\"./img/network.png\">\n",
    "\n",
    "A network can be represented in the three following format:\n",
    "\n",
    "### Adjacency matrix\n",
    "A network can be represented as an adjacency matrix. The row names and col names of this matrix is the names of the node. The cells are the relation between nodes. This matrix is symetric if the network is undirected. If directed the rows are the starting point of the edge (also called \"source\") and the columns are the end (\"target\"). Here's the adjacency matrix for the previous network:\n",
    "\n",
    "/  | Spider-man | Nick Fury | Capitain America | Iron man | \n",
    "--- | --- | --- | --- | --- |\n",
    "Spider-man | 0 | 0 | 0 | 0 |\n",
    "Nick Fury | 1 | 0 | 0 | 0 |\n",
    "Capitain America | 1 | 1 | 0 | 1 |\n",
    "Iron man | 1 | 1 | 0 | 0 |\n",
    "\n",
    "### Edge list\n",
    "\n",
    "An edge list is composed of three columns: A source, a target and a weight. In others words we focus on the edge instead of the node. A source is the node from which the edge is going out and the target the node where the edge comes in. Here's the edge list of the previous network:\n",
    "\n",
    "| Source | Target | Weight | \n",
    "| --- | --- | --- |\n",
    "| Nick Fury | Spider-man | 1 |\n",
    "| Capitain America | Spider-man | 1 |\n",
    "| Capitain America | Nick Fury | 1 |\n",
    "| Capitain America | Iron man | 1 |\n",
    "| Iron man | Spider-man | 1 |\n",
    "| Iron man | Nick Fury | 1 |\n",
    "\n",
    "### Incidence matrix\n",
    "\n",
    "An incidence matrix is probably the less used format. It's a matrix where the columns are the edges and the rows the nodes.\n",
    "\n",
    "\n",
    "/  | edge 1 | edge 2 | edge 3 | edge 4 | edge 5 | edge 6 | \n",
    "--- | --- | --- | --- | --- | --- | --- |\n",
    "Spider-man | 0 | -1 | 0 | 0 | -1 | -1 |\n",
    "Nick Fury | -1 | 0 | 0 | -1 | 0 | 1 |\n",
    "Capitain America | 1 | 1 | 1 | 0 | 0 | 0 |\n",
    "Iron man | 0 | 0 | -1 | 1 | 1 | 0 |\n"
   ]
  },
  {
   "attachments": {},
   "cell_type": "markdown",
   "metadata": {},
   "source": [
    "## Neo4j DB\n",
    "\n",
    "The last chapter we worked on a document store architecture noSQL DB. Now we will focus our attention on a graph database.\n",
    "If you followed the instructions of the readme you should be able to do the next steps.\n",
    "\n",
    "If you use neo4j desktop the procedure is easy Let's start by creating a new project with the password \"password_tuts\". the default user and collection name is \"neo4j\"\n",
    "\n",
    "Otherwise the procedure is a bit more complex :\n",
    "\n",
    "\n",
    "\n",
    "[comment]: <> (First thing to do is to change the db. with neo4j to change the database you will access through the browser you need to change the conf file: conf/neo4j.conf Open this file with a text editor and add this next line: ``` dbms.active_database = tutorial``` )\n",
    "\n",
    "Go to the bin file of neo4j (if you added it to the path you can run it from anywhere)\n",
    "\n",
    "```\n",
    "start neo4j console\n",
    "``` \n",
    "\n",
    "goto: http://localhost:7474/\n",
    "\n",
    "On this url you will be prompted to enter your username and password. default username,dbname and password is neo4j.\n",
    "\n",
    "For the good of the lecture I used the username \"neo4j\" and password \"password_tuts\"."
   ]
  },
  {
   "cell_type": "code",
   "execution_count": 4,
   "metadata": {},
   "outputs": [],
   "source": [
    "import py2neo\n",
    "\n",
    "# Connect to graph db , default user is neo4j and default collection is neo4j\n",
    "# to change default auth just go to the localhost\n",
    "\n",
    "graph = py2neo.Graph(\"bolt://localhost:11005\", auth=(\"neo4j\", \"password_tuts\"), name=\"neo4j\")\n",
    "graph.delete_all()\n"
   ]
  },
  {
   "attachments": {},
   "cell_type": "markdown",
   "metadata": {},
   "source": [
    "In order to change the name of the DB you are working on run the following in the neo4j console\n",
    "\n",
    "```\n",
    "create database tutorial\n",
    ":use tutorial\n",
    "``` "
   ]
  },
  {
   "cell_type": "code",
   "execution_count": 5,
   "metadata": {},
   "outputs": [
    {
     "name": "stdout",
     "output_type": "stream",
     "text": [
      "True\n"
     ]
    },
    {
     "name": "stderr",
     "output_type": "stream",
     "text": [
      "C:\\Users\\Jason\\AppData\\Local\\Temp\\ipykernel_21896\\3197296594.py:25: DeprecationWarning: The transaction.commit() method is deprecated, use graph.commit(transaction) instead\n",
      "  transaction.commit()\n"
     ]
    }
   ],
   "source": [
    "# First steps in py2neo\n",
    "\n",
    "import py2neo\n",
    "\n",
    "# Connect to graph db , default is auth=(\"neo4j\", \"neo4j\")\n",
    "# to change default auth just go to the localhost\n",
    "\n",
    "graph = py2neo.Graph(\"bolt://localhost:11005\", auth=(\"neo4j\", \"password_tuts\"), name=\"tutorial\")\n",
    "graph.delete_all()\n",
    "# Node method: first argument is Node label and then arbitrary number of characteristics\n",
    "Person1 = py2neo.Node(\"Person\", name=\"Person1\", age = 25, hobbies = \"foot\") \n",
    "Person2 = py2neo.Node(\"Person\", name=\"Person2\", age = 27)\n",
    "Person3 = py2neo.Node(\"Person\", name=\"Person3\", age = 24)\n",
    "\n",
    "ab = py2neo.Relationship(Person1, \"COLLABORATED\", Person2, n_collab = 3)\n",
    "ba = py2neo.Relationship(Person2, \"COLLABORATED\", Person1, n_collab = 2)\n",
    "# You need to commit these node before they appear in the db\n",
    "# We will do that by using a transaction\n",
    "\n",
    "\n",
    "transaction = graph.begin()\n",
    "transaction.create(Person1|Person2|Person3)\n",
    "transaction.create(ab)\n",
    "transaction.create(ba)\n",
    "transaction.commit()\n",
    "\n",
    "print(graph.exists(ab))"
   ]
  },
  {
   "cell_type": "markdown",
   "metadata": {},
   "source": [
    "You can also create your own class of node type with specific argument (more structured)."
   ]
  },
  {
   "cell_type": "code",
   "execution_count": 9,
   "metadata": {},
   "outputs": [
    {
     "name": "stderr",
     "output_type": "stream",
     "text": [
      " 99%|█████████▉| 988/1000 [00:05<00:00, 145.09it/s]C:\\Users\\Jason\\AppData\\Local\\Temp\\ipykernel_127756\\2649315599.py:43: DeprecationWarning: The transaction.commit() method is deprecated, use graph.commit(transaction) instead\n",
      "  transaction.commit()\n",
      "100%|██████████| 1000/1000 [00:05<00:00, 174.50it/s]\n"
     ]
    }
   ],
   "source": [
    "import py2neo\n",
    "from py2neo import ogm\n",
    "import numpy as np\n",
    "import tqdm\n",
    "\n",
    "graph = py2neo.Graph(\"bolt://localhost:11005\", auth=(\"neo4j\", \"password_tuts\"), name=\"tutorial\")\n",
    "# Delete every node and relation\n",
    "graph.delete_all()\n",
    "\n",
    "# The class Person will inherit from ogm.GraphObject\n",
    "class Person(ogm.GraphObject):\n",
    "    __primarykey__ = \"id_\"\n",
    "    \n",
    "    id_ = ogm.Property()\n",
    "    name = ogm.Property()\n",
    "    age = ogm.Property()\n",
    "    \n",
    "    def __init__(self):\n",
    "        self.node = self.__ogm__.node\n",
    "\n",
    "# Init dict with the different name for random attribution     \n",
    "names = {\"0\":\"Person1\",\n",
    "        \"1\":\"Person2\",\n",
    "        \"2\":\"Person3\"}\n",
    "# Init the transaction or you will insert every node one by one which is really slow.\n",
    "transaction = graph.begin()\n",
    "iteration = 0\n",
    "for i in tqdm.tqdm(range(1000)):\n",
    "    # Create instance of class\n",
    "    ind = Person()\n",
    "    # Init variable of ind\n",
    "    ind.id_ = int(iteration)\n",
    "    name = names[str(np.random.random(3).argmax())]\n",
    "    ind.name = name\n",
    "    ind.age = int(np.random.randint(low=20, high=60, size=1)[0])\n",
    "    \n",
    "    # init transaction  \n",
    "    transaction.create(ind.node)\n",
    "    iteration += 1\n",
    "    \n",
    "    # commit transaction and reset it every 1000 iterations\n",
    "    if (i+1) % 1000 == 0:\n",
    "        transaction.commit()\n",
    "        transaction = graph.begin()"
   ]
  },
  {
   "attachments": {},
   "cell_type": "markdown",
   "metadata": {},
   "source": [
    "Works pretty well but it is pretty slow. To overcome this problem you can use Cypher queries. Cypher is Neo4j’s graph query language and is way faster than the py2neo wrapper. Cypher is, like SQL, a declarative, textual query language, but for graphs. If you have a small project you can ignore Cypher queries but if you are indeed interested by neo4j I really recommend to learn Cypher queries. We will learn CRUD operation with Cypher queries. https://neo4j.com/docs/cypher-refcard/current/."
   ]
  },
  {
   "cell_type": "markdown",
   "metadata": {},
   "source": [
    "### CREATE"
   ]
  },
  {
   "cell_type": "code",
   "execution_count": 6,
   "metadata": {},
   "outputs": [
    {
     "name": "stderr",
     "output_type": "stream",
     "text": [
      "100%|██████████| 100000/100000 [00:09<00:00, 10036.61it/s]\n"
     ]
    }
   ],
   "source": [
    "import tqdm\n",
    "import py2neo\n",
    "import numpy as np\n",
    "graph = py2neo.Graph(\"bolt://localhost:11005\", auth=(\"neo4j\", \"password_tuts\"), name=\"tutorial\")\n",
    "graph.delete_all()\n",
    "\n",
    "names = {\"0\":\"Person1\",\n",
    "        \"1\":\"Person2\",\n",
    "        \"2\":\"Person3\"}\n",
    "\n",
    "# Execute a query with graph.run\n",
    "# Here the query creates a \"constraint\" on the id_ of the person asking for it to be unique i.e Primary key\n",
    "try:\n",
    "    graph.run(\"CREATE CONSTRAINT ON (n:Person) ASSERT n.id_ IS UNIQUE\") #donne le nom n à la caractéristique Person\n",
    "except:\n",
    "    print(\"Constraint already exists\")\n",
    "    \n",
    "# init a list of transaction that we will commit at the same time\n",
    "transaction_list = []\n",
    "\n",
    "iteration = 0\n",
    "for i in tqdm.tqdm(range(100000)):\n",
    "    id_ = iteration\n",
    "    name = names[str(np.random.random(3).argmax())] #sert à choisir un name random\n",
    "    age = int(np.random.randint(low=20, high=60, size=1)[0])\n",
    "    # Append a dict, 1 dict per person \n",
    "    transaction_list.append({\"id_\":id_,\"name\":name,\"age\":age})\n",
    "    iteration += 1\n",
    "    if i % 1000 == 0:\n",
    "        # To commit a list of transaction with cypher you can use the UNWIND parameter\n",
    "        # $json => json will be the argument of run with the data\n",
    "        transaction = \"UNWIND $json as data CREATE (n:Person) SET n = data\" #UNWIND -> sort tous les éléments de la liste $json\n",
    "        graph.run(transaction, json=transaction_list) #précise ce qu'est le $json\n",
    "        transaction_list = []\n",
    "\n",
    "graph.run(transaction, json=transaction_list)\n",
    "\n",
    "# CREATE Relation\n",
    "\n",
    "# MATCH search for the pattern described in it\n",
    "# WHERE = condition\n",
    "# CREATE an edge (node)-[:Relationtype]-(node2)\n",
    "\n",
    "for i in range(10):\n",
    "    query = \"\"\"MATCH (a:Person),(b:Person)\n",
    "    WHERE a.id_ = {} AND b.id_ = {}\n",
    "    CREATE (a)-[r:COLLAB]->(b) \n",
    "    \"\"\".format(str(i),str(i+1)) #pas de caractéristique associée à l'edge\n",
    "    graph.run(query)\n",
    "\n",
    "for i in range(21,25,1):\n",
    "    query = \"\"\"MATCH (a:Person),(b:Person)\n",
    "    WHERE a.id_ = %s AND b.id_ = %s\n",
    "    CREATE (a)-[:COLLAB {n_collab: %s}]->(b)\n",
    "    \"\"\"% (str(i),str(i+1),2) #il y a des caractéristiques associées à l'edge\n",
    "    graph.run(query)\n",
    "    \n",
    "\n",
    "transaction_list = []\n",
    "    \n",
    "for i in range(20,40,1):\n",
    "    transaction_list.append({\"id_1\":i,\"id_2\":(i+1), \"n_collab\":i*2})\n",
    "    \n",
    "transaction = \"\"\"UNWIND $json as data\n",
    "MATCH (a:Person),(b:Person)\n",
    "WHERE a.id_ = data.id_1 AND b.id_ = data.id_2\n",
    "CREATE (a)-[:COLLAB {n_collab: data.n_collab}]->(b)\n",
    "\"\"\"\n",
    "graph.run(transaction, json=transaction_list)\n",
    "pass\n",
    "# You can't create an undirected edge but you can have the notion of undirected edges at query time.    "
   ]
  },
  {
   "cell_type": "markdown",
   "metadata": {},
   "source": [
    "### READ"
   ]
  },
  {
   "cell_type": "code",
   "execution_count": 7,
   "metadata": {},
   "outputs": [
    {
     "name": "stdout",
     "output_type": "stream",
     "text": [
      "100000\n"
     ]
    },
    {
     "name": "stderr",
     "output_type": "stream",
     "text": [
      "100%|█████████▉| 99607/100000 [00:00<00:00, 255288.27it/s]"
     ]
    },
    {
     "name": "stdout",
     "output_type": "stream",
     "text": [
      "Person3\n",
      "59\n",
      "99996\n"
     ]
    },
    {
     "name": "stderr",
     "output_type": "stream",
     "text": [
      "100%|██████████| 100000/100000 [00:18<00:00, 255288.27it/s]"
     ]
    }
   ],
   "source": [
    "# READ\n",
    "\n",
    "import tqdm\n",
    "import py2neo\n",
    "\n",
    "graph = py2neo.Graph(\"bolt://localhost:11005\", auth=(\"neo4j\", \"password_tuts\"), name=\"tutorial\")\n",
    "\n",
    "# RETURN returns variable specified\n",
    "\n",
    "# Count number of observation (n_node) with label Person.\n",
    "query = \"\"\"\n",
    "MATCH(person:Person)\n",
    "WITH count(person) AS n_node\n",
    "RETURN n_node\n",
    "\"\"\"\n",
    "data = graph.run(query)\n",
    "n_node = next(data)[\"n_node\"]\n",
    "print(n_node)\n",
    "\n",
    "# Return every node with Label Person\n",
    "query = \"\"\"\n",
    "MATCH(person:Person)\n",
    "RETURN person.name AS name, person.age AS age, person.id_ as id_\n",
    "\"\"\"\n",
    "\n",
    "# Returns a generator\n",
    "data = graph.run(query)\n",
    "\n",
    "#iterate through all elements\n",
    "iteration = 0\n",
    "pbar = tqdm.tqdm(total=n_node) #créer manuellement un tqdm\n",
    "\n",
    "for i in data:\n",
    "    iteration += 1\n",
    "    if iteration == n_node:\n",
    "        print(data[\"name\"])\n",
    "        print(data[\"age\"])\n",
    "        print(data[\"id_\"])\n",
    "    pbar.update(1)\n",
    "\n",
    "# print last element\n"
   ]
  },
  {
   "cell_type": "markdown",
   "metadata": {},
   "source": [
    "### UPDATE"
   ]
  },
  {
   "cell_type": "code",
   "execution_count": 17,
   "metadata": {},
   "outputs": [
    {
     "name": "stdout",
     "output_type": "stream",
     "text": [
      "   person.id_  person.newobs\n",
      "0           0             36\n",
      "1           1             36\n",
      "2           2             36\n",
      "3           3             36\n",
      "4           4             36\n",
      "5           5             36\n",
      "6           6             36\n",
      "7           7             36\n",
      "8           8             36\n",
      "9           9             36\n"
     ]
    }
   ],
   "source": [
    "## update\n",
    "#\n",
    "\n",
    "query = \"\"\"\n",
    "    MATCH (person:Person) \n",
    "    WHERE person.id_ < 10\n",
    "    SET person.newobs = %s\n",
    "    RETURN person.id_, person.newobs\n",
    "    \"\"\" % (36)\n",
    "\n",
    "df = graph.run(query).to_data_frame()\n",
    "print(df)"
   ]
  },
  {
   "cell_type": "markdown",
   "metadata": {},
   "source": [
    "### DELETE"
   ]
  },
  {
   "cell_type": "code",
   "execution_count": 8,
   "metadata": {},
   "outputs": [],
   "source": [
    "# Delete\n",
    "# DETACH to remove edges then DELETE the node\n",
    "query = \"\"\"\n",
    "    MATCH (person:Person) \n",
    "    WHERE person.id_ < 10\n",
    "    DETACH DELETE person\n",
    "    \"\"\" \n",
    "\n",
    "graph.run(query)\n",
    "pass"
   ]
  },
  {
   "cell_type": "markdown",
   "metadata": {},
   "source": [
    "### A study case\n",
    "\n",
    "To become more familiar with neo4j we will convert a csv file to a network and do some stats using cypher queries. The data can be found [here](https://www.kaggle.com/dannielr/marvel-superheroes?select=characters.csv) and I stored it in the folder data in github. First thing to do is to switch the DB. We will call it \"MCU\". Our goal will be to create a node per character and link them by apperance in a comic (Simple binary graph, if they appeared once in the same comic then a link is created). Finally we give each node different properties (power, stats, ....) and finish by doing some query to see basics stats"
   ]
  },
  {
   "cell_type": "code",
   "execution_count": 1,
   "metadata": {},
   "outputs": [
    {
     "name": "stdout",
     "output_type": "stream",
     "text": [
      "Constraint already exists\n"
     ]
    },
    {
     "name": "stderr",
     "output_type": "stream",
     "text": [
      "1170it [00:01, 686.23it/s]\n"
     ]
    }
   ],
   "source": [
    "# initial creation\n",
    "#Create NODES\n",
    "import pandas as pd\n",
    "import tqdm\n",
    "import py2neo\n",
    "\n",
    "# pandas to read_csv , header = True\n",
    "characters = pd.read_csv(\"data/Chap4/Marvel_Superheroes/characters.csv\")\n",
    "graph = py2neo.Graph(\"bolt://localhost:11005\", auth=(\"neo4j\", \"password_tuts\"), name=\"mcu\")\n",
    "\n",
    "graph.delete_all()\n",
    "\n",
    "# CONSTRAINT if condition (here n.id_ is unique) not respected => error\n",
    "# If constraint already exists pass (IF NOT EXISTS probably works too)\n",
    "try:\n",
    "    graph.run(\"CREATE CONSTRAINT ON (n:Superhero) ASSERT n.id_ IS UNIQUE\") #n est le label du node\n",
    "except:\n",
    "    print(\"Constraint already exists\")\n",
    "\n",
    "# Init the list that will contains dicts for each node\n",
    "transaction_list = []\n",
    "\n",
    "# iterrows = line by line iterators of the df row[0] = id row[1] = the variables in columns\n",
    "for row in tqdm.tqdm(characters.iterrows()):\n",
    "    id_ = row[1][\"characterID\"] #Pourquoi il faut ajouter [1] ici ? -> parce que iterrows renvoie un tupple dont le premier élément est un index -> on ne veut pas l'index mais bien l'info présente dans les colonnes\n",
    "    name = row[1][\"name\"]\n",
    "    transaction_list.append({\"id_\":id_,\"name\":name})\n",
    "    # Commit when list = 1000, vary it depending of the case\n",
    "    if len(transaction_list) == 1000:\n",
    "        # UNWIND = split the list given to it (here $json because json=transaction_list)\n",
    "        # For each dict do the following query CREATE (n:Superhero) SET n = data\n",
    "        transaction = \"UNWIND $json as data CREATE (n:Superhero) SET n = data\"\n",
    "        graph.run(transaction, json=transaction_list)\n",
    "        transaction_list = []\n",
    "\n",
    "# Some observation left (e.g 7700 node, will commit every 1000 so 700 left)\n",
    "graph.run(transaction, json=transaction_list)\n",
    "\n",
    "pass"
   ]
  },
  {
   "cell_type": "code",
   "execution_count": 2,
   "metadata": {},
   "outputs": [
    {
     "data": {
      "text/html": [
       "<div>\n",
       "<style scoped>\n",
       "    .dataframe tbody tr th:only-of-type {\n",
       "        vertical-align: middle;\n",
       "    }\n",
       "\n",
       "    .dataframe tbody tr th {\n",
       "        vertical-align: top;\n",
       "    }\n",
       "\n",
       "    .dataframe thead th {\n",
       "        text-align: right;\n",
       "    }\n",
       "</style>\n",
       "<table border=\"1\" class=\"dataframe\">\n",
       "  <thead>\n",
       "    <tr style=\"text-align: right;\">\n",
       "      <th></th>\n",
       "      <th>characterID</th>\n",
       "      <th>name</th>\n",
       "    </tr>\n",
       "  </thead>\n",
       "  <tbody>\n",
       "    <tr>\n",
       "      <th>0</th>\n",
       "      <td>1009220</td>\n",
       "      <td>Captain America</td>\n",
       "    </tr>\n",
       "    <tr>\n",
       "      <th>1</th>\n",
       "      <td>1010740</td>\n",
       "      <td>Winter Soldier</td>\n",
       "    </tr>\n",
       "    <tr>\n",
       "      <th>2</th>\n",
       "      <td>1009471</td>\n",
       "      <td>Nick Fury</td>\n",
       "    </tr>\n",
       "    <tr>\n",
       "      <th>3</th>\n",
       "      <td>1009552</td>\n",
       "      <td>S.H.I.E.L.D.</td>\n",
       "    </tr>\n",
       "    <tr>\n",
       "      <th>4</th>\n",
       "      <td>1009228</td>\n",
       "      <td>Sharon Carter</td>\n",
       "    </tr>\n",
       "    <tr>\n",
       "      <th>...</th>\n",
       "      <td>...</td>\n",
       "      <td>...</td>\n",
       "    </tr>\n",
       "    <tr>\n",
       "      <th>1165</th>\n",
       "      <td>1011395</td>\n",
       "      <td>Talon (Fraternity of Raptors)</td>\n",
       "    </tr>\n",
       "    <tr>\n",
       "      <th>1166</th>\n",
       "      <td>1011196</td>\n",
       "      <td>Captain Flint</td>\n",
       "    </tr>\n",
       "    <tr>\n",
       "      <th>1167</th>\n",
       "      <td>1009397</td>\n",
       "      <td>Lava-Man</td>\n",
       "    </tr>\n",
       "    <tr>\n",
       "      <th>1168</th>\n",
       "      <td>1011113</td>\n",
       "      <td>Blue Blade</td>\n",
       "    </tr>\n",
       "    <tr>\n",
       "      <th>1169</th>\n",
       "      <td>1011094</td>\n",
       "      <td>Xavin</td>\n",
       "    </tr>\n",
       "  </tbody>\n",
       "</table>\n",
       "<p>1170 rows × 2 columns</p>\n",
       "</div>"
      ],
      "text/plain": [
       "      characterID                           name\n",
       "0         1009220                Captain America\n",
       "1         1010740                 Winter Soldier\n",
       "2         1009471                      Nick Fury\n",
       "3         1009552                   S.H.I.E.L.D.\n",
       "4         1009228                  Sharon Carter\n",
       "...           ...                            ...\n",
       "1165      1011395  Talon (Fraternity of Raptors)\n",
       "1166      1011196                  Captain Flint\n",
       "1167      1009397                       Lava-Man\n",
       "1168      1011113                     Blue Blade\n",
       "1169      1011094                          Xavin\n",
       "\n",
       "[1170 rows x 2 columns]"
      ]
     },
     "execution_count": 2,
     "metadata": {},
     "output_type": "execute_result"
    }
   ],
   "source": [
    "characters"
   ]
  },
  {
   "cell_type": "code",
   "execution_count": 3,
   "metadata": {},
   "outputs": [
    {
     "name": "stderr",
     "output_type": "stream",
     "text": [
      "611it [00:00, 7123.73it/s]\n"
     ]
    }
   ],
   "source": [
    "#Add some CARACTERISTICS\n",
    "import pandas as pd\n",
    "import py2neo\n",
    "\n",
    "stats = pd.read_csv(\"data/Chap4/Marvel_Superheroes/characters_stats.csv\")\n",
    "graph = py2neo.Graph(\"bolt://localhost:11005\", auth=(\"neo4j\", \"password_tuts\"), name=\"mcu\")\n",
    "\n",
    "\n",
    "# OPTIONAL MATCH =>  search for the pattern described in it, while using nulls for missing parts of the pattern.\n",
    "transaction = \"\"\"UNWIND $json as data\n",
    "OPTIONAL MATCH (a:Superhero {name:data.Name})\n",
    "SET a += {Alignement:data.Alignement,Intelligence:data.Intelligence,Strength:data.Strength,Speed:data.Speed,Durability:data.Durability,\n",
    "         Power:data.Power,Combat:data.Combat,Total:data.Total} \n",
    "\"\"\"\n",
    "\n",
    "transaction_list = []\n",
    "\n",
    "iteration = 0\n",
    "for row in tqdm.tqdm(stats.iterrows()):\n",
    "    transaction_list.append(dict(row[1]))\n",
    "    iteration += 1\n",
    "    if iteration % 1000 == 0:\n",
    "        graph.run(transaction, json=transaction_list)\n",
    "        transaction_list = []\n",
    "        \n",
    "graph.run(transaction, json=transaction_list)\n",
    "\n",
    "pass"
   ]
  },
  {
   "cell_type": "code",
   "execution_count": 4,
   "metadata": {},
   "outputs": [
    {
     "name": "stderr",
     "output_type": "stream",
     "text": [
      "100%|██████████| 22250/22250 [00:20<00:00, 1084.64it/s]\n"
     ]
    }
   ],
   "source": [
    "# edges\n",
    "import pandas as pd\n",
    "import tqdm\n",
    "import py2neo\n",
    "import itertools\n",
    "\n",
    "graph = py2neo.Graph(\"bolt://localhost:11005\", auth=(\"neo4j\", \"password_tuts\"), name=\"mcu\")\n",
    "\n",
    "characters2comics = pd.read_csv(\"data/Chap4/Marvel_Superheroes/charactersToComics.csv\")\n",
    "characters2comics = characters2comics.drop_duplicates()\n",
    "transaction_list = []\n",
    "\n",
    "# MERGE = if pattern does not exists ON CREATE\n",
    "# If pattern exists do ON MATCH\n",
    "\n",
    "\n",
    "\n",
    "transaction = \"\"\"UNWIND $json as data\n",
    "MATCH (a:Superhero),(b:Superhero)\n",
    "WHERE a.id_ = data.id_1 AND b.id_ = data.id_2\n",
    "MERGE (a)-[r:RELATION]->(b)\n",
    "ON CREATE\n",
    "    SET r.n_collab = 1\n",
    "ON MATCH\n",
    "    SET r.n_collab = r.n_collab + 1\n",
    "\"\"\" #Le merge fonctionne comme un if : set r.n_collab s'il n'existe pas encore OU set r.n_collab = r.n_collab + 1 s'il existe déjà\n",
    "\n",
    "it = 0   \n",
    "for comic in tqdm.tqdm(characters2comics.groupby([\"comicID\"])):\n",
    "    related_ids = comic[1][\"characterID\"]\n",
    "    if it == 0:\n",
    "        print(comic)\n",
    "        print(list(itertools.combinations(related_ids, 2)))\n",
    "    for combi in list(itertools.combinations(related_ids, 2)):\n",
    "        sh1 = combi[0]\n",
    "        sh2 = combi[1]\n",
    "        transaction_list.append({\"id_1\":sh1,\"id_2\":sh2})\n",
    "        it +=1\n",
    "        if it % 1000 == 0:\n",
    "            graph.run(transaction, json=transaction_list)\n",
    "            transaction_list = []\n",
    "\n",
    "graph.run(transaction, json=transaction_list)\n",
    "pass"
   ]
  },
  {
   "cell_type": "code",
   "execution_count": 1,
   "metadata": {},
   "outputs": [
    {
     "name": "stdout",
     "output_type": "stream",
     "text": [
      "                  r                                         a  \\\n",
      "0  {'n_collab': 68}  {'name': 'Pepper Potts', 'id_': 1009494}   \n",
      "\n",
      "                                                   b  \n",
      "0  {'Speed': 58, 'Intelligence': 100, 'id_': 1009...  \n"
     ]
    }
   ],
   "source": [
    "# Let's see if everything works well\n",
    "import py2neo\n",
    "\n",
    "graph = py2neo.Graph(\"bolt://localhost:11005\", auth=(\"neo4j\", \"password_tuts\"), name=\"mcu\")\n",
    "\n",
    "query = \"\"\"MATCH (a:Superhero{name:'Pepper Potts'})-[r:RELATION]-(b:Superhero{name:'Iron Man'}) RETURN r,a,b\"\"\"\n",
    "#Les signes - autour de [r:RELATION] servent à préciser le sens de la relation.\n",
    "#S'il n'y a pas de sens (a -> b par exemple) : on ne met pas de flèche\n",
    "data = graph.run(query).to_data_frame()\n",
    "print(data[\"r\"],data[\"a\"],data[\"b\"])\n",
    "#print(data)"
   ]
  },
  {
   "cell_type": "code",
   "execution_count": 7,
   "metadata": {},
   "outputs": [],
   "source": [
    "# Time to do some interesting stats\n",
    "\n",
    "import seaborn as sns\n",
    "import py2neo\n",
    "import pandas as pd\n",
    "\n",
    "graph = py2neo.Graph(\"bolt://localhost:11005\", auth=(\"neo4j\", \"password_tuts\"), name=\"mcu\")\n",
    "\n",
    "# Get every property key and some basic stats\n",
    "\n",
    "# Get unique keys to init df\n",
    "query = \"\"\"MATCH (p:Superhero)\n",
    "WHERE exists(p.Total)\n",
    "WITH p, keys(p) as pKeys\n",
    "UNWIND pKeys as Key\n",
    "RETURN distinct Key\"\"\"\n",
    "#p.Total est la somme des caractéristiques. C'est une façon de s'assurer que toutes les caractéristiques sont dispo pour un superhéro donné.\n",
    "\n",
    "data = graph.run(query).to_data_frame()\n",
    "df = pd.DataFrame(columns = list(data[\"Key\"]),dtype=\"int8\")\n"
   ]
  },
  {
   "cell_type": "code",
   "execution_count": 8,
   "metadata": {},
   "outputs": [
    {
     "name": "stdout",
     "output_type": "stream",
     "text": [
      "Empty DataFrame\n",
      "Columns: [Durability, Strength, Power, Speed, Intelligence, Combat, Total, id_, name]\n",
      "Index: []\n"
     ]
    }
   ],
   "source": [
    "print(df)"
   ]
  },
  {
   "cell_type": "code",
   "execution_count": 10,
   "metadata": {},
   "outputs": [
    {
     "name": "stderr",
     "output_type": "stream",
     "text": [
      "C:\\Users\\Jason\\AppData\\Local\\Temp\\ipykernel_135540\\122808287.py:7: FutureWarning: The frame.append method is deprecated and will be removed from pandas in a future version. Use pandas.concat instead.\n",
      "  df = df.append(dict(node), ignore_index=True)\n",
      "C:\\Users\\Jason\\AppData\\Local\\Temp\\ipykernel_135540\\122808287.py:7: FutureWarning: The frame.append method is deprecated and will be removed from pandas in a future version. Use pandas.concat instead.\n",
      "  df = df.append(dict(node), ignore_index=True)\n",
      "C:\\Users\\Jason\\AppData\\Local\\Temp\\ipykernel_135540\\122808287.py:7: FutureWarning: The frame.append method is deprecated and will be removed from pandas in a future version. Use pandas.concat instead.\n",
      "  df = df.append(dict(node), ignore_index=True)\n",
      "C:\\Users\\Jason\\AppData\\Local\\Temp\\ipykernel_135540\\122808287.py:7: FutureWarning: The frame.append method is deprecated and will be removed from pandas in a future version. Use pandas.concat instead.\n",
      "  df = df.append(dict(node), ignore_index=True)\n",
      "C:\\Users\\Jason\\AppData\\Local\\Temp\\ipykernel_135540\\122808287.py:7: FutureWarning: The frame.append method is deprecated and will be removed from pandas in a future version. Use pandas.concat instead.\n",
      "  df = df.append(dict(node), ignore_index=True)\n",
      "C:\\Users\\Jason\\AppData\\Local\\Temp\\ipykernel_135540\\122808287.py:7: FutureWarning: The frame.append method is deprecated and will be removed from pandas in a future version. Use pandas.concat instead.\n",
      "  df = df.append(dict(node), ignore_index=True)\n",
      "C:\\Users\\Jason\\AppData\\Local\\Temp\\ipykernel_135540\\122808287.py:7: FutureWarning: The frame.append method is deprecated and will be removed from pandas in a future version. Use pandas.concat instead.\n",
      "  df = df.append(dict(node), ignore_index=True)\n",
      "C:\\Users\\Jason\\AppData\\Local\\Temp\\ipykernel_135540\\122808287.py:7: FutureWarning: The frame.append method is deprecated and will be removed from pandas in a future version. Use pandas.concat instead.\n",
      "  df = df.append(dict(node), ignore_index=True)\n",
      "C:\\Users\\Jason\\AppData\\Local\\Temp\\ipykernel_135540\\122808287.py:7: FutureWarning: The frame.append method is deprecated and will be removed from pandas in a future version. Use pandas.concat instead.\n",
      "  df = df.append(dict(node), ignore_index=True)\n",
      "C:\\Users\\Jason\\AppData\\Local\\Temp\\ipykernel_135540\\122808287.py:7: FutureWarning: The frame.append method is deprecated and will be removed from pandas in a future version. Use pandas.concat instead.\n",
      "  df = df.append(dict(node), ignore_index=True)\n",
      "C:\\Users\\Jason\\AppData\\Local\\Temp\\ipykernel_135540\\122808287.py:7: FutureWarning: The frame.append method is deprecated and will be removed from pandas in a future version. Use pandas.concat instead.\n",
      "  df = df.append(dict(node), ignore_index=True)\n",
      "C:\\Users\\Jason\\AppData\\Local\\Temp\\ipykernel_135540\\122808287.py:7: FutureWarning: The frame.append method is deprecated and will be removed from pandas in a future version. Use pandas.concat instead.\n",
      "  df = df.append(dict(node), ignore_index=True)\n",
      "C:\\Users\\Jason\\AppData\\Local\\Temp\\ipykernel_135540\\122808287.py:7: FutureWarning: The frame.append method is deprecated and will be removed from pandas in a future version. Use pandas.concat instead.\n",
      "  df = df.append(dict(node), ignore_index=True)\n",
      "C:\\Users\\Jason\\AppData\\Local\\Temp\\ipykernel_135540\\122808287.py:7: FutureWarning: The frame.append method is deprecated and will be removed from pandas in a future version. Use pandas.concat instead.\n",
      "  df = df.append(dict(node), ignore_index=True)\n",
      "C:\\Users\\Jason\\AppData\\Local\\Temp\\ipykernel_135540\\122808287.py:7: FutureWarning: The frame.append method is deprecated and will be removed from pandas in a future version. Use pandas.concat instead.\n",
      "  df = df.append(dict(node), ignore_index=True)\n",
      "C:\\Users\\Jason\\AppData\\Local\\Temp\\ipykernel_135540\\122808287.py:7: FutureWarning: The frame.append method is deprecated and will be removed from pandas in a future version. Use pandas.concat instead.\n",
      "  df = df.append(dict(node), ignore_index=True)\n",
      "C:\\Users\\Jason\\AppData\\Local\\Temp\\ipykernel_135540\\122808287.py:7: FutureWarning: The frame.append method is deprecated and will be removed from pandas in a future version. Use pandas.concat instead.\n",
      "  df = df.append(dict(node), ignore_index=True)\n",
      "C:\\Users\\Jason\\AppData\\Local\\Temp\\ipykernel_135540\\122808287.py:7: FutureWarning: The frame.append method is deprecated and will be removed from pandas in a future version. Use pandas.concat instead.\n",
      "  df = df.append(dict(node), ignore_index=True)\n",
      "C:\\Users\\Jason\\AppData\\Local\\Temp\\ipykernel_135540\\122808287.py:7: FutureWarning: The frame.append method is deprecated and will be removed from pandas in a future version. Use pandas.concat instead.\n",
      "  df = df.append(dict(node), ignore_index=True)\n",
      "C:\\Users\\Jason\\AppData\\Local\\Temp\\ipykernel_135540\\122808287.py:7: FutureWarning: The frame.append method is deprecated and will be removed from pandas in a future version. Use pandas.concat instead.\n",
      "  df = df.append(dict(node), ignore_index=True)\n",
      "C:\\Users\\Jason\\AppData\\Local\\Temp\\ipykernel_135540\\122808287.py:7: FutureWarning: The frame.append method is deprecated and will be removed from pandas in a future version. Use pandas.concat instead.\n",
      "  df = df.append(dict(node), ignore_index=True)\n",
      "C:\\Users\\Jason\\AppData\\Local\\Temp\\ipykernel_135540\\122808287.py:7: FutureWarning: The frame.append method is deprecated and will be removed from pandas in a future version. Use pandas.concat instead.\n",
      "  df = df.append(dict(node), ignore_index=True)\n",
      "C:\\Users\\Jason\\AppData\\Local\\Temp\\ipykernel_135540\\122808287.py:7: FutureWarning: The frame.append method is deprecated and will be removed from pandas in a future version. Use pandas.concat instead.\n",
      "  df = df.append(dict(node), ignore_index=True)\n",
      "C:\\Users\\Jason\\AppData\\Local\\Temp\\ipykernel_135540\\122808287.py:7: FutureWarning: The frame.append method is deprecated and will be removed from pandas in a future version. Use pandas.concat instead.\n",
      "  df = df.append(dict(node), ignore_index=True)\n",
      "C:\\Users\\Jason\\AppData\\Local\\Temp\\ipykernel_135540\\122808287.py:7: FutureWarning: The frame.append method is deprecated and will be removed from pandas in a future version. Use pandas.concat instead.\n",
      "  df = df.append(dict(node), ignore_index=True)\n",
      "C:\\Users\\Jason\\AppData\\Local\\Temp\\ipykernel_135540\\122808287.py:7: FutureWarning: The frame.append method is deprecated and will be removed from pandas in a future version. Use pandas.concat instead.\n",
      "  df = df.append(dict(node), ignore_index=True)\n",
      "C:\\Users\\Jason\\AppData\\Local\\Temp\\ipykernel_135540\\122808287.py:7: FutureWarning: The frame.append method is deprecated and will be removed from pandas in a future version. Use pandas.concat instead.\n",
      "  df = df.append(dict(node), ignore_index=True)\n",
      "C:\\Users\\Jason\\AppData\\Local\\Temp\\ipykernel_135540\\122808287.py:7: FutureWarning: The frame.append method is deprecated and will be removed from pandas in a future version. Use pandas.concat instead.\n",
      "  df = df.append(dict(node), ignore_index=True)\n",
      "C:\\Users\\Jason\\AppData\\Local\\Temp\\ipykernel_135540\\122808287.py:7: FutureWarning: The frame.append method is deprecated and will be removed from pandas in a future version. Use pandas.concat instead.\n",
      "  df = df.append(dict(node), ignore_index=True)\n",
      "C:\\Users\\Jason\\AppData\\Local\\Temp\\ipykernel_135540\\122808287.py:7: FutureWarning: The frame.append method is deprecated and will be removed from pandas in a future version. Use pandas.concat instead.\n",
      "  df = df.append(dict(node), ignore_index=True)\n",
      "C:\\Users\\Jason\\AppData\\Local\\Temp\\ipykernel_135540\\122808287.py:7: FutureWarning: The frame.append method is deprecated and will be removed from pandas in a future version. Use pandas.concat instead.\n",
      "  df = df.append(dict(node), ignore_index=True)\n",
      "C:\\Users\\Jason\\AppData\\Local\\Temp\\ipykernel_135540\\122808287.py:7: FutureWarning: The frame.append method is deprecated and will be removed from pandas in a future version. Use pandas.concat instead.\n",
      "  df = df.append(dict(node), ignore_index=True)\n",
      "C:\\Users\\Jason\\AppData\\Local\\Temp\\ipykernel_135540\\122808287.py:7: FutureWarning: The frame.append method is deprecated and will be removed from pandas in a future version. Use pandas.concat instead.\n",
      "  df = df.append(dict(node), ignore_index=True)\n",
      "C:\\Users\\Jason\\AppData\\Local\\Temp\\ipykernel_135540\\122808287.py:7: FutureWarning: The frame.append method is deprecated and will be removed from pandas in a future version. Use pandas.concat instead.\n",
      "  df = df.append(dict(node), ignore_index=True)\n",
      "C:\\Users\\Jason\\AppData\\Local\\Temp\\ipykernel_135540\\122808287.py:7: FutureWarning: The frame.append method is deprecated and will be removed from pandas in a future version. Use pandas.concat instead.\n",
      "  df = df.append(dict(node), ignore_index=True)\n",
      "C:\\Users\\Jason\\AppData\\Local\\Temp\\ipykernel_135540\\122808287.py:7: FutureWarning: The frame.append method is deprecated and will be removed from pandas in a future version. Use pandas.concat instead.\n",
      "  df = df.append(dict(node), ignore_index=True)\n",
      "C:\\Users\\Jason\\AppData\\Local\\Temp\\ipykernel_135540\\122808287.py:7: FutureWarning: The frame.append method is deprecated and will be removed from pandas in a future version. Use pandas.concat instead.\n",
      "  df = df.append(dict(node), ignore_index=True)\n",
      "C:\\Users\\Jason\\AppData\\Local\\Temp\\ipykernel_135540\\122808287.py:7: FutureWarning: The frame.append method is deprecated and will be removed from pandas in a future version. Use pandas.concat instead.\n",
      "  df = df.append(dict(node), ignore_index=True)\n",
      "C:\\Users\\Jason\\AppData\\Local\\Temp\\ipykernel_135540\\122808287.py:7: FutureWarning: The frame.append method is deprecated and will be removed from pandas in a future version. Use pandas.concat instead.\n",
      "  df = df.append(dict(node), ignore_index=True)\n",
      "C:\\Users\\Jason\\AppData\\Local\\Temp\\ipykernel_135540\\122808287.py:7: FutureWarning: The frame.append method is deprecated and will be removed from pandas in a future version. Use pandas.concat instead.\n",
      "  df = df.append(dict(node), ignore_index=True)\n",
      "C:\\Users\\Jason\\AppData\\Local\\Temp\\ipykernel_135540\\122808287.py:7: FutureWarning: The frame.append method is deprecated and will be removed from pandas in a future version. Use pandas.concat instead.\n",
      "  df = df.append(dict(node), ignore_index=True)\n",
      "C:\\Users\\Jason\\AppData\\Local\\Temp\\ipykernel_135540\\122808287.py:7: FutureWarning: The frame.append method is deprecated and will be removed from pandas in a future version. Use pandas.concat instead.\n",
      "  df = df.append(dict(node), ignore_index=True)\n",
      "C:\\Users\\Jason\\AppData\\Local\\Temp\\ipykernel_135540\\122808287.py:7: FutureWarning: The frame.append method is deprecated and will be removed from pandas in a future version. Use pandas.concat instead.\n",
      "  df = df.append(dict(node), ignore_index=True)\n",
      "C:\\Users\\Jason\\AppData\\Local\\Temp\\ipykernel_135540\\122808287.py:7: FutureWarning: The frame.append method is deprecated and will be removed from pandas in a future version. Use pandas.concat instead.\n",
      "  df = df.append(dict(node), ignore_index=True)\n",
      "C:\\Users\\Jason\\AppData\\Local\\Temp\\ipykernel_135540\\122808287.py:7: FutureWarning: The frame.append method is deprecated and will be removed from pandas in a future version. Use pandas.concat instead.\n",
      "  df = df.append(dict(node), ignore_index=True)\n",
      "C:\\Users\\Jason\\AppData\\Local\\Temp\\ipykernel_135540\\122808287.py:7: FutureWarning: The frame.append method is deprecated and will be removed from pandas in a future version. Use pandas.concat instead.\n",
      "  df = df.append(dict(node), ignore_index=True)\n",
      "C:\\Users\\Jason\\AppData\\Local\\Temp\\ipykernel_135540\\122808287.py:7: FutureWarning: The frame.append method is deprecated and will be removed from pandas in a future version. Use pandas.concat instead.\n",
      "  df = df.append(dict(node), ignore_index=True)\n",
      "C:\\Users\\Jason\\AppData\\Local\\Temp\\ipykernel_135540\\122808287.py:7: FutureWarning: The frame.append method is deprecated and will be removed from pandas in a future version. Use pandas.concat instead.\n",
      "  df = df.append(dict(node), ignore_index=True)\n",
      "C:\\Users\\Jason\\AppData\\Local\\Temp\\ipykernel_135540\\122808287.py:7: FutureWarning: The frame.append method is deprecated and will be removed from pandas in a future version. Use pandas.concat instead.\n",
      "  df = df.append(dict(node), ignore_index=True)\n",
      "C:\\Users\\Jason\\AppData\\Local\\Temp\\ipykernel_135540\\122808287.py:7: FutureWarning: The frame.append method is deprecated and will be removed from pandas in a future version. Use pandas.concat instead.\n",
      "  df = df.append(dict(node), ignore_index=True)\n",
      "C:\\Users\\Jason\\AppData\\Local\\Temp\\ipykernel_135540\\122808287.py:7: FutureWarning: The frame.append method is deprecated and will be removed from pandas in a future version. Use pandas.concat instead.\n",
      "  df = df.append(dict(node), ignore_index=True)\n",
      "C:\\Users\\Jason\\AppData\\Local\\Temp\\ipykernel_135540\\122808287.py:7: FutureWarning: The frame.append method is deprecated and will be removed from pandas in a future version. Use pandas.concat instead.\n",
      "  df = df.append(dict(node), ignore_index=True)\n",
      "C:\\Users\\Jason\\AppData\\Local\\Temp\\ipykernel_135540\\122808287.py:7: FutureWarning: The frame.append method is deprecated and will be removed from pandas in a future version. Use pandas.concat instead.\n",
      "  df = df.append(dict(node), ignore_index=True)\n",
      "C:\\Users\\Jason\\AppData\\Local\\Temp\\ipykernel_135540\\122808287.py:7: FutureWarning: The frame.append method is deprecated and will be removed from pandas in a future version. Use pandas.concat instead.\n",
      "  df = df.append(dict(node), ignore_index=True)\n",
      "C:\\Users\\Jason\\AppData\\Local\\Temp\\ipykernel_135540\\122808287.py:7: FutureWarning: The frame.append method is deprecated and will be removed from pandas in a future version. Use pandas.concat instead.\n",
      "  df = df.append(dict(node), ignore_index=True)\n",
      "C:\\Users\\Jason\\AppData\\Local\\Temp\\ipykernel_135540\\122808287.py:7: FutureWarning: The frame.append method is deprecated and will be removed from pandas in a future version. Use pandas.concat instead.\n",
      "  df = df.append(dict(node), ignore_index=True)\n",
      "C:\\Users\\Jason\\AppData\\Local\\Temp\\ipykernel_135540\\122808287.py:7: FutureWarning: The frame.append method is deprecated and will be removed from pandas in a future version. Use pandas.concat instead.\n",
      "  df = df.append(dict(node), ignore_index=True)\n",
      "C:\\Users\\Jason\\AppData\\Local\\Temp\\ipykernel_135540\\122808287.py:7: FutureWarning: The frame.append method is deprecated and will be removed from pandas in a future version. Use pandas.concat instead.\n",
      "  df = df.append(dict(node), ignore_index=True)\n",
      "C:\\Users\\Jason\\AppData\\Local\\Temp\\ipykernel_135540\\122808287.py:7: FutureWarning: The frame.append method is deprecated and will be removed from pandas in a future version. Use pandas.concat instead.\n",
      "  df = df.append(dict(node), ignore_index=True)\n",
      "C:\\Users\\Jason\\AppData\\Local\\Temp\\ipykernel_135540\\122808287.py:7: FutureWarning: The frame.append method is deprecated and will be removed from pandas in a future version. Use pandas.concat instead.\n",
      "  df = df.append(dict(node), ignore_index=True)\n",
      "C:\\Users\\Jason\\AppData\\Local\\Temp\\ipykernel_135540\\122808287.py:7: FutureWarning: The frame.append method is deprecated and will be removed from pandas in a future version. Use pandas.concat instead.\n",
      "  df = df.append(dict(node), ignore_index=True)\n",
      "C:\\Users\\Jason\\AppData\\Local\\Temp\\ipykernel_135540\\122808287.py:7: FutureWarning: The frame.append method is deprecated and will be removed from pandas in a future version. Use pandas.concat instead.\n",
      "  df = df.append(dict(node), ignore_index=True)\n",
      "C:\\Users\\Jason\\AppData\\Local\\Temp\\ipykernel_135540\\122808287.py:7: FutureWarning: The frame.append method is deprecated and will be removed from pandas in a future version. Use pandas.concat instead.\n",
      "  df = df.append(dict(node), ignore_index=True)\n",
      "C:\\Users\\Jason\\AppData\\Local\\Temp\\ipykernel_135540\\122808287.py:7: FutureWarning: The frame.append method is deprecated and will be removed from pandas in a future version. Use pandas.concat instead.\n",
      "  df = df.append(dict(node), ignore_index=True)\n",
      "C:\\Users\\Jason\\AppData\\Local\\Temp\\ipykernel_135540\\122808287.py:7: FutureWarning: The frame.append method is deprecated and will be removed from pandas in a future version. Use pandas.concat instead.\n",
      "  df = df.append(dict(node), ignore_index=True)\n",
      "C:\\Users\\Jason\\AppData\\Local\\Temp\\ipykernel_135540\\122808287.py:7: FutureWarning: The frame.append method is deprecated and will be removed from pandas in a future version. Use pandas.concat instead.\n",
      "  df = df.append(dict(node), ignore_index=True)\n",
      "C:\\Users\\Jason\\AppData\\Local\\Temp\\ipykernel_135540\\122808287.py:7: FutureWarning: The frame.append method is deprecated and will be removed from pandas in a future version. Use pandas.concat instead.\n",
      "  df = df.append(dict(node), ignore_index=True)\n",
      "C:\\Users\\Jason\\AppData\\Local\\Temp\\ipykernel_135540\\122808287.py:7: FutureWarning: The frame.append method is deprecated and will be removed from pandas in a future version. Use pandas.concat instead.\n",
      "  df = df.append(dict(node), ignore_index=True)\n",
      "C:\\Users\\Jason\\AppData\\Local\\Temp\\ipykernel_135540\\122808287.py:7: FutureWarning: The frame.append method is deprecated and will be removed from pandas in a future version. Use pandas.concat instead.\n",
      "  df = df.append(dict(node), ignore_index=True)\n",
      "C:\\Users\\Jason\\AppData\\Local\\Temp\\ipykernel_135540\\122808287.py:7: FutureWarning: The frame.append method is deprecated and will be removed from pandas in a future version. Use pandas.concat instead.\n",
      "  df = df.append(dict(node), ignore_index=True)\n",
      "C:\\Users\\Jason\\AppData\\Local\\Temp\\ipykernel_135540\\122808287.py:7: FutureWarning: The frame.append method is deprecated and will be removed from pandas in a future version. Use pandas.concat instead.\n",
      "  df = df.append(dict(node), ignore_index=True)\n",
      "C:\\Users\\Jason\\AppData\\Local\\Temp\\ipykernel_135540\\122808287.py:7: FutureWarning: The frame.append method is deprecated and will be removed from pandas in a future version. Use pandas.concat instead.\n",
      "  df = df.append(dict(node), ignore_index=True)\n",
      "C:\\Users\\Jason\\AppData\\Local\\Temp\\ipykernel_135540\\122808287.py:7: FutureWarning: The frame.append method is deprecated and will be removed from pandas in a future version. Use pandas.concat instead.\n",
      "  df = df.append(dict(node), ignore_index=True)\n",
      "C:\\Users\\Jason\\AppData\\Local\\Temp\\ipykernel_135540\\122808287.py:7: FutureWarning: The frame.append method is deprecated and will be removed from pandas in a future version. Use pandas.concat instead.\n",
      "  df = df.append(dict(node), ignore_index=True)\n",
      "C:\\Users\\Jason\\AppData\\Local\\Temp\\ipykernel_135540\\122808287.py:7: FutureWarning: The frame.append method is deprecated and will be removed from pandas in a future version. Use pandas.concat instead.\n",
      "  df = df.append(dict(node), ignore_index=True)\n",
      "C:\\Users\\Jason\\AppData\\Local\\Temp\\ipykernel_135540\\122808287.py:7: FutureWarning: The frame.append method is deprecated and will be removed from pandas in a future version. Use pandas.concat instead.\n",
      "  df = df.append(dict(node), ignore_index=True)\n",
      "C:\\Users\\Jason\\AppData\\Local\\Temp\\ipykernel_135540\\122808287.py:7: FutureWarning: The frame.append method is deprecated and will be removed from pandas in a future version. Use pandas.concat instead.\n",
      "  df = df.append(dict(node), ignore_index=True)\n",
      "C:\\Users\\Jason\\AppData\\Local\\Temp\\ipykernel_135540\\122808287.py:7: FutureWarning: The frame.append method is deprecated and will be removed from pandas in a future version. Use pandas.concat instead.\n",
      "  df = df.append(dict(node), ignore_index=True)\n",
      "C:\\Users\\Jason\\AppData\\Local\\Temp\\ipykernel_135540\\122808287.py:7: FutureWarning: The frame.append method is deprecated and will be removed from pandas in a future version. Use pandas.concat instead.\n",
      "  df = df.append(dict(node), ignore_index=True)\n",
      "C:\\Users\\Jason\\AppData\\Local\\Temp\\ipykernel_135540\\122808287.py:7: FutureWarning: The frame.append method is deprecated and will be removed from pandas in a future version. Use pandas.concat instead.\n",
      "  df = df.append(dict(node), ignore_index=True)\n",
      "C:\\Users\\Jason\\AppData\\Local\\Temp\\ipykernel_135540\\122808287.py:7: FutureWarning: The frame.append method is deprecated and will be removed from pandas in a future version. Use pandas.concat instead.\n",
      "  df = df.append(dict(node), ignore_index=True)\n",
      "C:\\Users\\Jason\\AppData\\Local\\Temp\\ipykernel_135540\\122808287.py:7: FutureWarning: The frame.append method is deprecated and will be removed from pandas in a future version. Use pandas.concat instead.\n",
      "  df = df.append(dict(node), ignore_index=True)\n",
      "C:\\Users\\Jason\\AppData\\Local\\Temp\\ipykernel_135540\\122808287.py:7: FutureWarning: The frame.append method is deprecated and will be removed from pandas in a future version. Use pandas.concat instead.\n",
      "  df = df.append(dict(node), ignore_index=True)\n",
      "C:\\Users\\Jason\\AppData\\Local\\Temp\\ipykernel_135540\\122808287.py:7: FutureWarning: The frame.append method is deprecated and will be removed from pandas in a future version. Use pandas.concat instead.\n",
      "  df = df.append(dict(node), ignore_index=True)\n",
      "C:\\Users\\Jason\\AppData\\Local\\Temp\\ipykernel_135540\\122808287.py:7: FutureWarning: The frame.append method is deprecated and will be removed from pandas in a future version. Use pandas.concat instead.\n",
      "  df = df.append(dict(node), ignore_index=True)\n",
      "C:\\Users\\Jason\\AppData\\Local\\Temp\\ipykernel_135540\\122808287.py:7: FutureWarning: The frame.append method is deprecated and will be removed from pandas in a future version. Use pandas.concat instead.\n",
      "  df = df.append(dict(node), ignore_index=True)\n",
      "C:\\Users\\Jason\\AppData\\Local\\Temp\\ipykernel_135540\\122808287.py:7: FutureWarning: The frame.append method is deprecated and will be removed from pandas in a future version. Use pandas.concat instead.\n",
      "  df = df.append(dict(node), ignore_index=True)\n",
      "C:\\Users\\Jason\\AppData\\Local\\Temp\\ipykernel_135540\\122808287.py:7: FutureWarning: The frame.append method is deprecated and will be removed from pandas in a future version. Use pandas.concat instead.\n",
      "  df = df.append(dict(node), ignore_index=True)\n",
      "C:\\Users\\Jason\\AppData\\Local\\Temp\\ipykernel_135540\\122808287.py:7: FutureWarning: The frame.append method is deprecated and will be removed from pandas in a future version. Use pandas.concat instead.\n",
      "  df = df.append(dict(node), ignore_index=True)\n",
      "C:\\Users\\Jason\\AppData\\Local\\Temp\\ipykernel_135540\\122808287.py:7: FutureWarning: The frame.append method is deprecated and will be removed from pandas in a future version. Use pandas.concat instead.\n",
      "  df = df.append(dict(node), ignore_index=True)\n",
      "C:\\Users\\Jason\\AppData\\Local\\Temp\\ipykernel_135540\\122808287.py:7: FutureWarning: The frame.append method is deprecated and will be removed from pandas in a future version. Use pandas.concat instead.\n",
      "  df = df.append(dict(node), ignore_index=True)\n",
      "C:\\Users\\Jason\\AppData\\Local\\Temp\\ipykernel_135540\\122808287.py:7: FutureWarning: The frame.append method is deprecated and will be removed from pandas in a future version. Use pandas.concat instead.\n",
      "  df = df.append(dict(node), ignore_index=True)\n",
      "C:\\Users\\Jason\\AppData\\Local\\Temp\\ipykernel_135540\\122808287.py:7: FutureWarning: The frame.append method is deprecated and will be removed from pandas in a future version. Use pandas.concat instead.\n",
      "  df = df.append(dict(node), ignore_index=True)\n",
      "C:\\Users\\Jason\\AppData\\Local\\Temp\\ipykernel_135540\\122808287.py:7: FutureWarning: The frame.append method is deprecated and will be removed from pandas in a future version. Use pandas.concat instead.\n",
      "  df = df.append(dict(node), ignore_index=True)\n",
      "C:\\Users\\Jason\\AppData\\Local\\Temp\\ipykernel_135540\\122808287.py:7: FutureWarning: The frame.append method is deprecated and will be removed from pandas in a future version. Use pandas.concat instead.\n",
      "  df = df.append(dict(node), ignore_index=True)\n",
      "C:\\Users\\Jason\\AppData\\Local\\Temp\\ipykernel_135540\\122808287.py:7: FutureWarning: The frame.append method is deprecated and will be removed from pandas in a future version. Use pandas.concat instead.\n",
      "  df = df.append(dict(node), ignore_index=True)\n",
      "C:\\Users\\Jason\\AppData\\Local\\Temp\\ipykernel_135540\\122808287.py:7: FutureWarning: The frame.append method is deprecated and will be removed from pandas in a future version. Use pandas.concat instead.\n",
      "  df = df.append(dict(node), ignore_index=True)\n",
      "C:\\Users\\Jason\\AppData\\Local\\Temp\\ipykernel_135540\\122808287.py:7: FutureWarning: The frame.append method is deprecated and will be removed from pandas in a future version. Use pandas.concat instead.\n",
      "  df = df.append(dict(node), ignore_index=True)\n",
      "C:\\Users\\Jason\\AppData\\Local\\Temp\\ipykernel_135540\\122808287.py:7: FutureWarning: The frame.append method is deprecated and will be removed from pandas in a future version. Use pandas.concat instead.\n",
      "  df = df.append(dict(node), ignore_index=True)\n",
      "C:\\Users\\Jason\\AppData\\Local\\Temp\\ipykernel_135540\\122808287.py:7: FutureWarning: The frame.append method is deprecated and will be removed from pandas in a future version. Use pandas.concat instead.\n",
      "  df = df.append(dict(node), ignore_index=True)\n",
      "C:\\Users\\Jason\\AppData\\Local\\Temp\\ipykernel_135540\\122808287.py:7: FutureWarning: The frame.append method is deprecated and will be removed from pandas in a future version. Use pandas.concat instead.\n",
      "  df = df.append(dict(node), ignore_index=True)\n",
      "C:\\Users\\Jason\\AppData\\Local\\Temp\\ipykernel_135540\\122808287.py:7: FutureWarning: The frame.append method is deprecated and will be removed from pandas in a future version. Use pandas.concat instead.\n",
      "  df = df.append(dict(node), ignore_index=True)\n",
      "C:\\Users\\Jason\\AppData\\Local\\Temp\\ipykernel_135540\\122808287.py:7: FutureWarning: The frame.append method is deprecated and will be removed from pandas in a future version. Use pandas.concat instead.\n",
      "  df = df.append(dict(node), ignore_index=True)\n",
      "C:\\Users\\Jason\\AppData\\Local\\Temp\\ipykernel_135540\\122808287.py:7: FutureWarning: The frame.append method is deprecated and will be removed from pandas in a future version. Use pandas.concat instead.\n",
      "  df = df.append(dict(node), ignore_index=True)\n",
      "C:\\Users\\Jason\\AppData\\Local\\Temp\\ipykernel_135540\\122808287.py:7: FutureWarning: The frame.append method is deprecated and will be removed from pandas in a future version. Use pandas.concat instead.\n",
      "  df = df.append(dict(node), ignore_index=True)\n",
      "C:\\Users\\Jason\\AppData\\Local\\Temp\\ipykernel_135540\\122808287.py:7: FutureWarning: The frame.append method is deprecated and will be removed from pandas in a future version. Use pandas.concat instead.\n",
      "  df = df.append(dict(node), ignore_index=True)\n",
      "C:\\Users\\Jason\\AppData\\Local\\Temp\\ipykernel_135540\\122808287.py:7: FutureWarning: The frame.append method is deprecated and will be removed from pandas in a future version. Use pandas.concat instead.\n",
      "  df = df.append(dict(node), ignore_index=True)\n",
      "C:\\Users\\Jason\\AppData\\Local\\Temp\\ipykernel_135540\\122808287.py:7: FutureWarning: The frame.append method is deprecated and will be removed from pandas in a future version. Use pandas.concat instead.\n",
      "  df = df.append(dict(node), ignore_index=True)\n",
      "C:\\Users\\Jason\\AppData\\Local\\Temp\\ipykernel_135540\\122808287.py:7: FutureWarning: The frame.append method is deprecated and will be removed from pandas in a future version. Use pandas.concat instead.\n",
      "  df = df.append(dict(node), ignore_index=True)\n",
      "C:\\Users\\Jason\\AppData\\Local\\Temp\\ipykernel_135540\\122808287.py:7: FutureWarning: The frame.append method is deprecated and will be removed from pandas in a future version. Use pandas.concat instead.\n",
      "  df = df.append(dict(node), ignore_index=True)\n",
      "C:\\Users\\Jason\\AppData\\Local\\Temp\\ipykernel_135540\\122808287.py:7: FutureWarning: The frame.append method is deprecated and will be removed from pandas in a future version. Use pandas.concat instead.\n",
      "  df = df.append(dict(node), ignore_index=True)\n",
      "C:\\Users\\Jason\\AppData\\Local\\Temp\\ipykernel_135540\\122808287.py:7: FutureWarning: The frame.append method is deprecated and will be removed from pandas in a future version. Use pandas.concat instead.\n",
      "  df = df.append(dict(node), ignore_index=True)\n",
      "C:\\Users\\Jason\\AppData\\Local\\Temp\\ipykernel_135540\\122808287.py:7: FutureWarning: The frame.append method is deprecated and will be removed from pandas in a future version. Use pandas.concat instead.\n",
      "  df = df.append(dict(node), ignore_index=True)\n",
      "C:\\Users\\Jason\\AppData\\Local\\Temp\\ipykernel_135540\\122808287.py:7: FutureWarning: The frame.append method is deprecated and will be removed from pandas in a future version. Use pandas.concat instead.\n",
      "  df = df.append(dict(node), ignore_index=True)\n",
      "C:\\Users\\Jason\\AppData\\Local\\Temp\\ipykernel_135540\\122808287.py:7: FutureWarning: The frame.append method is deprecated and will be removed from pandas in a future version. Use pandas.concat instead.\n",
      "  df = df.append(dict(node), ignore_index=True)\n",
      "C:\\Users\\Jason\\AppData\\Local\\Temp\\ipykernel_135540\\122808287.py:7: FutureWarning: The frame.append method is deprecated and will be removed from pandas in a future version. Use pandas.concat instead.\n",
      "  df = df.append(dict(node), ignore_index=True)\n",
      "C:\\Users\\Jason\\AppData\\Local\\Temp\\ipykernel_135540\\122808287.py:7: FutureWarning: The frame.append method is deprecated and will be removed from pandas in a future version. Use pandas.concat instead.\n",
      "  df = df.append(dict(node), ignore_index=True)\n",
      "C:\\Users\\Jason\\AppData\\Local\\Temp\\ipykernel_135540\\122808287.py:7: FutureWarning: The frame.append method is deprecated and will be removed from pandas in a future version. Use pandas.concat instead.\n",
      "  df = df.append(dict(node), ignore_index=True)\n",
      "C:\\Users\\Jason\\AppData\\Local\\Temp\\ipykernel_135540\\122808287.py:7: FutureWarning: The frame.append method is deprecated and will be removed from pandas in a future version. Use pandas.concat instead.\n",
      "  df = df.append(dict(node), ignore_index=True)\n",
      "C:\\Users\\Jason\\AppData\\Local\\Temp\\ipykernel_135540\\122808287.py:7: FutureWarning: The frame.append method is deprecated and will be removed from pandas in a future version. Use pandas.concat instead.\n",
      "  df = df.append(dict(node), ignore_index=True)\n",
      "C:\\Users\\Jason\\AppData\\Local\\Temp\\ipykernel_135540\\122808287.py:7: FutureWarning: The frame.append method is deprecated and will be removed from pandas in a future version. Use pandas.concat instead.\n",
      "  df = df.append(dict(node), ignore_index=True)\n",
      "C:\\Users\\Jason\\AppData\\Local\\Temp\\ipykernel_135540\\122808287.py:7: FutureWarning: The frame.append method is deprecated and will be removed from pandas in a future version. Use pandas.concat instead.\n",
      "  df = df.append(dict(node), ignore_index=True)\n",
      "C:\\Users\\Jason\\AppData\\Local\\Temp\\ipykernel_135540\\122808287.py:7: FutureWarning: The frame.append method is deprecated and will be removed from pandas in a future version. Use pandas.concat instead.\n",
      "  df = df.append(dict(node), ignore_index=True)\n",
      "C:\\Users\\Jason\\AppData\\Local\\Temp\\ipykernel_135540\\122808287.py:7: FutureWarning: The frame.append method is deprecated and will be removed from pandas in a future version. Use pandas.concat instead.\n",
      "  df = df.append(dict(node), ignore_index=True)\n",
      "C:\\Users\\Jason\\AppData\\Local\\Temp\\ipykernel_135540\\122808287.py:7: FutureWarning: The frame.append method is deprecated and will be removed from pandas in a future version. Use pandas.concat instead.\n",
      "  df = df.append(dict(node), ignore_index=True)\n",
      "C:\\Users\\Jason\\AppData\\Local\\Temp\\ipykernel_135540\\122808287.py:7: FutureWarning: The frame.append method is deprecated and will be removed from pandas in a future version. Use pandas.concat instead.\n",
      "  df = df.append(dict(node), ignore_index=True)\n",
      "C:\\Users\\Jason\\AppData\\Local\\Temp\\ipykernel_135540\\122808287.py:7: FutureWarning: The frame.append method is deprecated and will be removed from pandas in a future version. Use pandas.concat instead.\n",
      "  df = df.append(dict(node), ignore_index=True)\n",
      "C:\\Users\\Jason\\AppData\\Local\\Temp\\ipykernel_135540\\122808287.py:7: FutureWarning: The frame.append method is deprecated and will be removed from pandas in a future version. Use pandas.concat instead.\n",
      "  df = df.append(dict(node), ignore_index=True)\n",
      "C:\\Users\\Jason\\AppData\\Local\\Temp\\ipykernel_135540\\122808287.py:7: FutureWarning: The frame.append method is deprecated and will be removed from pandas in a future version. Use pandas.concat instead.\n",
      "  df = df.append(dict(node), ignore_index=True)\n",
      "C:\\Users\\Jason\\AppData\\Local\\Temp\\ipykernel_135540\\122808287.py:7: FutureWarning: The frame.append method is deprecated and will be removed from pandas in a future version. Use pandas.concat instead.\n",
      "  df = df.append(dict(node), ignore_index=True)\n",
      "C:\\Users\\Jason\\AppData\\Local\\Temp\\ipykernel_135540\\122808287.py:7: FutureWarning: The frame.append method is deprecated and will be removed from pandas in a future version. Use pandas.concat instead.\n",
      "  df = df.append(dict(node), ignore_index=True)\n",
      "C:\\Users\\Jason\\AppData\\Local\\Temp\\ipykernel_135540\\122808287.py:7: FutureWarning: The frame.append method is deprecated and will be removed from pandas in a future version. Use pandas.concat instead.\n",
      "  df = df.append(dict(node), ignore_index=True)\n",
      "C:\\Users\\Jason\\AppData\\Local\\Temp\\ipykernel_135540\\122808287.py:7: FutureWarning: The frame.append method is deprecated and will be removed from pandas in a future version. Use pandas.concat instead.\n",
      "  df = df.append(dict(node), ignore_index=True)\n",
      "C:\\Users\\Jason\\AppData\\Local\\Temp\\ipykernel_135540\\122808287.py:7: FutureWarning: The frame.append method is deprecated and will be removed from pandas in a future version. Use pandas.concat instead.\n",
      "  df = df.append(dict(node), ignore_index=True)\n",
      "C:\\Users\\Jason\\AppData\\Local\\Temp\\ipykernel_135540\\122808287.py:7: FutureWarning: The frame.append method is deprecated and will be removed from pandas in a future version. Use pandas.concat instead.\n",
      "  df = df.append(dict(node), ignore_index=True)\n",
      "C:\\Users\\Jason\\AppData\\Local\\Temp\\ipykernel_135540\\122808287.py:7: FutureWarning: The frame.append method is deprecated and will be removed from pandas in a future version. Use pandas.concat instead.\n",
      "  df = df.append(dict(node), ignore_index=True)\n",
      "C:\\Users\\Jason\\AppData\\Local\\Temp\\ipykernel_135540\\122808287.py:7: FutureWarning: The frame.append method is deprecated and will be removed from pandas in a future version. Use pandas.concat instead.\n",
      "  df = df.append(dict(node), ignore_index=True)\n",
      "C:\\Users\\Jason\\AppData\\Local\\Temp\\ipykernel_135540\\122808287.py:7: FutureWarning: The frame.append method is deprecated and will be removed from pandas in a future version. Use pandas.concat instead.\n",
      "  df = df.append(dict(node), ignore_index=True)\n",
      "C:\\Users\\Jason\\AppData\\Local\\Temp\\ipykernel_135540\\122808287.py:7: FutureWarning: The frame.append method is deprecated and will be removed from pandas in a future version. Use pandas.concat instead.\n",
      "  df = df.append(dict(node), ignore_index=True)\n",
      "C:\\Users\\Jason\\AppData\\Local\\Temp\\ipykernel_135540\\122808287.py:7: FutureWarning: The frame.append method is deprecated and will be removed from pandas in a future version. Use pandas.concat instead.\n",
      "  df = df.append(dict(node), ignore_index=True)\n",
      "C:\\Users\\Jason\\AppData\\Local\\Temp\\ipykernel_135540\\122808287.py:7: FutureWarning: The frame.append method is deprecated and will be removed from pandas in a future version. Use pandas.concat instead.\n",
      "  df = df.append(dict(node), ignore_index=True)\n",
      "C:\\Users\\Jason\\AppData\\Local\\Temp\\ipykernel_135540\\122808287.py:7: FutureWarning: The frame.append method is deprecated and will be removed from pandas in a future version. Use pandas.concat instead.\n",
      "  df = df.append(dict(node), ignore_index=True)\n",
      "C:\\Users\\Jason\\AppData\\Local\\Temp\\ipykernel_135540\\122808287.py:7: FutureWarning: The frame.append method is deprecated and will be removed from pandas in a future version. Use pandas.concat instead.\n",
      "  df = df.append(dict(node), ignore_index=True)\n",
      "C:\\Users\\Jason\\AppData\\Local\\Temp\\ipykernel_135540\\122808287.py:7: FutureWarning: The frame.append method is deprecated and will be removed from pandas in a future version. Use pandas.concat instead.\n",
      "  df = df.append(dict(node), ignore_index=True)\n",
      "C:\\Users\\Jason\\AppData\\Local\\Temp\\ipykernel_135540\\122808287.py:7: FutureWarning: The frame.append method is deprecated and will be removed from pandas in a future version. Use pandas.concat instead.\n",
      "  df = df.append(dict(node), ignore_index=True)\n",
      "C:\\Users\\Jason\\AppData\\Local\\Temp\\ipykernel_135540\\122808287.py:7: FutureWarning: The frame.append method is deprecated and will be removed from pandas in a future version. Use pandas.concat instead.\n",
      "  df = df.append(dict(node), ignore_index=True)\n",
      "C:\\Users\\Jason\\AppData\\Local\\Temp\\ipykernel_135540\\122808287.py:7: FutureWarning: The frame.append method is deprecated and will be removed from pandas in a future version. Use pandas.concat instead.\n",
      "  df = df.append(dict(node), ignore_index=True)\n",
      "C:\\Users\\Jason\\AppData\\Local\\Temp\\ipykernel_135540\\122808287.py:7: FutureWarning: The frame.append method is deprecated and will be removed from pandas in a future version. Use pandas.concat instead.\n",
      "  df = df.append(dict(node), ignore_index=True)\n",
      "C:\\Users\\Jason\\AppData\\Local\\Temp\\ipykernel_135540\\122808287.py:7: FutureWarning: The frame.append method is deprecated and will be removed from pandas in a future version. Use pandas.concat instead.\n",
      "  df = df.append(dict(node), ignore_index=True)\n",
      "C:\\Users\\Jason\\AppData\\Local\\Temp\\ipykernel_135540\\122808287.py:7: FutureWarning: The frame.append method is deprecated and will be removed from pandas in a future version. Use pandas.concat instead.\n",
      "  df = df.append(dict(node), ignore_index=True)\n",
      "C:\\Users\\Jason\\AppData\\Local\\Temp\\ipykernel_135540\\122808287.py:7: FutureWarning: The frame.append method is deprecated and will be removed from pandas in a future version. Use pandas.concat instead.\n",
      "  df = df.append(dict(node), ignore_index=True)\n",
      "C:\\Users\\Jason\\AppData\\Local\\Temp\\ipykernel_135540\\122808287.py:7: FutureWarning: The frame.append method is deprecated and will be removed from pandas in a future version. Use pandas.concat instead.\n",
      "  df = df.append(dict(node), ignore_index=True)\n",
      "C:\\Users\\Jason\\AppData\\Local\\Temp\\ipykernel_135540\\122808287.py:7: FutureWarning: The frame.append method is deprecated and will be removed from pandas in a future version. Use pandas.concat instead.\n",
      "  df = df.append(dict(node), ignore_index=True)\n",
      "C:\\Users\\Jason\\AppData\\Local\\Temp\\ipykernel_135540\\122808287.py:7: FutureWarning: The frame.append method is deprecated and will be removed from pandas in a future version. Use pandas.concat instead.\n",
      "  df = df.append(dict(node), ignore_index=True)\n",
      "C:\\Users\\Jason\\AppData\\Local\\Temp\\ipykernel_135540\\122808287.py:7: FutureWarning: The frame.append method is deprecated and will be removed from pandas in a future version. Use pandas.concat instead.\n",
      "  df = df.append(dict(node), ignore_index=True)\n",
      "C:\\Users\\Jason\\AppData\\Local\\Temp\\ipykernel_135540\\122808287.py:7: FutureWarning: The frame.append method is deprecated and will be removed from pandas in a future version. Use pandas.concat instead.\n",
      "  df = df.append(dict(node), ignore_index=True)\n",
      "C:\\Users\\Jason\\AppData\\Local\\Temp\\ipykernel_135540\\122808287.py:7: FutureWarning: The frame.append method is deprecated and will be removed from pandas in a future version. Use pandas.concat instead.\n",
      "  df = df.append(dict(node), ignore_index=True)\n",
      "C:\\Users\\Jason\\AppData\\Local\\Temp\\ipykernel_135540\\122808287.py:7: FutureWarning: The frame.append method is deprecated and will be removed from pandas in a future version. Use pandas.concat instead.\n",
      "  df = df.append(dict(node), ignore_index=True)\n",
      "C:\\Users\\Jason\\AppData\\Local\\Temp\\ipykernel_135540\\122808287.py:7: FutureWarning: The frame.append method is deprecated and will be removed from pandas in a future version. Use pandas.concat instead.\n",
      "  df = df.append(dict(node), ignore_index=True)\n",
      "C:\\Users\\Jason\\AppData\\Local\\Temp\\ipykernel_135540\\122808287.py:7: FutureWarning: The frame.append method is deprecated and will be removed from pandas in a future version. Use pandas.concat instead.\n",
      "  df = df.append(dict(node), ignore_index=True)\n",
      "C:\\Users\\Jason\\AppData\\Local\\Temp\\ipykernel_135540\\122808287.py:7: FutureWarning: The frame.append method is deprecated and will be removed from pandas in a future version. Use pandas.concat instead.\n",
      "  df = df.append(dict(node), ignore_index=True)\n",
      "C:\\Users\\Jason\\AppData\\Local\\Temp\\ipykernel_135540\\122808287.py:7: FutureWarning: The frame.append method is deprecated and will be removed from pandas in a future version. Use pandas.concat instead.\n",
      "  df = df.append(dict(node), ignore_index=True)\n",
      "C:\\Users\\Jason\\AppData\\Local\\Temp\\ipykernel_135540\\122808287.py:7: FutureWarning: The frame.append method is deprecated and will be removed from pandas in a future version. Use pandas.concat instead.\n",
      "  df = df.append(dict(node), ignore_index=True)\n",
      "C:\\Users\\Jason\\AppData\\Local\\Temp\\ipykernel_135540\\122808287.py:7: FutureWarning: The frame.append method is deprecated and will be removed from pandas in a future version. Use pandas.concat instead.\n",
      "  df = df.append(dict(node), ignore_index=True)\n",
      "C:\\Users\\Jason\\AppData\\Local\\Temp\\ipykernel_135540\\122808287.py:7: FutureWarning: The frame.append method is deprecated and will be removed from pandas in a future version. Use pandas.concat instead.\n",
      "  df = df.append(dict(node), ignore_index=True)\n",
      "C:\\Users\\Jason\\AppData\\Local\\Temp\\ipykernel_135540\\122808287.py:7: FutureWarning: The frame.append method is deprecated and will be removed from pandas in a future version. Use pandas.concat instead.\n",
      "  df = df.append(dict(node), ignore_index=True)\n",
      "C:\\Users\\Jason\\AppData\\Local\\Temp\\ipykernel_135540\\122808287.py:7: FutureWarning: The frame.append method is deprecated and will be removed from pandas in a future version. Use pandas.concat instead.\n",
      "  df = df.append(dict(node), ignore_index=True)\n",
      "C:\\Users\\Jason\\AppData\\Local\\Temp\\ipykernel_135540\\122808287.py:7: FutureWarning: The frame.append method is deprecated and will be removed from pandas in a future version. Use pandas.concat instead.\n",
      "  df = df.append(dict(node), ignore_index=True)\n",
      "C:\\Users\\Jason\\AppData\\Local\\Temp\\ipykernel_135540\\122808287.py:7: FutureWarning: The frame.append method is deprecated and will be removed from pandas in a future version. Use pandas.concat instead.\n",
      "  df = df.append(dict(node), ignore_index=True)\n",
      "C:\\Users\\Jason\\AppData\\Local\\Temp\\ipykernel_135540\\122808287.py:7: FutureWarning: The frame.append method is deprecated and will be removed from pandas in a future version. Use pandas.concat instead.\n",
      "  df = df.append(dict(node), ignore_index=True)\n",
      "C:\\Users\\Jason\\AppData\\Local\\Temp\\ipykernel_135540\\122808287.py:7: FutureWarning: The frame.append method is deprecated and will be removed from pandas in a future version. Use pandas.concat instead.\n",
      "  df = df.append(dict(node), ignore_index=True)\n",
      "C:\\Users\\Jason\\AppData\\Local\\Temp\\ipykernel_135540\\122808287.py:7: FutureWarning: The frame.append method is deprecated and will be removed from pandas in a future version. Use pandas.concat instead.\n",
      "  df = df.append(dict(node), ignore_index=True)\n",
      "C:\\Users\\Jason\\AppData\\Local\\Temp\\ipykernel_135540\\122808287.py:7: FutureWarning: The frame.append method is deprecated and will be removed from pandas in a future version. Use pandas.concat instead.\n",
      "  df = df.append(dict(node), ignore_index=True)\n",
      "C:\\Users\\Jason\\AppData\\Local\\Temp\\ipykernel_135540\\122808287.py:7: FutureWarning: The frame.append method is deprecated and will be removed from pandas in a future version. Use pandas.concat instead.\n",
      "  df = df.append(dict(node), ignore_index=True)\n",
      "C:\\Users\\Jason\\AppData\\Local\\Temp\\ipykernel_135540\\122808287.py:7: FutureWarning: The frame.append method is deprecated and will be removed from pandas in a future version. Use pandas.concat instead.\n",
      "  df = df.append(dict(node), ignore_index=True)\n",
      "C:\\Users\\Jason\\AppData\\Local\\Temp\\ipykernel_135540\\122808287.py:7: FutureWarning: The frame.append method is deprecated and will be removed from pandas in a future version. Use pandas.concat instead.\n",
      "  df = df.append(dict(node), ignore_index=True)\n",
      "C:\\Users\\Jason\\AppData\\Local\\Temp\\ipykernel_135540\\122808287.py:7: FutureWarning: The frame.append method is deprecated and will be removed from pandas in a future version. Use pandas.concat instead.\n",
      "  df = df.append(dict(node), ignore_index=True)\n",
      "C:\\Users\\Jason\\AppData\\Local\\Temp\\ipykernel_135540\\122808287.py:7: FutureWarning: The frame.append method is deprecated and will be removed from pandas in a future version. Use pandas.concat instead.\n",
      "  df = df.append(dict(node), ignore_index=True)\n",
      "C:\\Users\\Jason\\AppData\\Local\\Temp\\ipykernel_135540\\122808287.py:7: FutureWarning: The frame.append method is deprecated and will be removed from pandas in a future version. Use pandas.concat instead.\n",
      "  df = df.append(dict(node), ignore_index=True)\n",
      "C:\\Users\\Jason\\AppData\\Local\\Temp\\ipykernel_135540\\122808287.py:7: FutureWarning: The frame.append method is deprecated and will be removed from pandas in a future version. Use pandas.concat instead.\n",
      "  df = df.append(dict(node), ignore_index=True)\n",
      "C:\\Users\\Jason\\AppData\\Local\\Temp\\ipykernel_135540\\122808287.py:7: FutureWarning: The frame.append method is deprecated and will be removed from pandas in a future version. Use pandas.concat instead.\n",
      "  df = df.append(dict(node), ignore_index=True)\n",
      "C:\\Users\\Jason\\AppData\\Local\\Temp\\ipykernel_135540\\122808287.py:7: FutureWarning: The frame.append method is deprecated and will be removed from pandas in a future version. Use pandas.concat instead.\n",
      "  df = df.append(dict(node), ignore_index=True)\n",
      "C:\\Users\\Jason\\AppData\\Local\\Temp\\ipykernel_135540\\122808287.py:7: FutureWarning: The frame.append method is deprecated and will be removed from pandas in a future version. Use pandas.concat instead.\n",
      "  df = df.append(dict(node), ignore_index=True)\n",
      "C:\\Users\\Jason\\AppData\\Local\\Temp\\ipykernel_135540\\122808287.py:7: FutureWarning: The frame.append method is deprecated and will be removed from pandas in a future version. Use pandas.concat instead.\n",
      "  df = df.append(dict(node), ignore_index=True)\n",
      "C:\\Users\\Jason\\AppData\\Local\\Temp\\ipykernel_135540\\122808287.py:7: FutureWarning: The frame.append method is deprecated and will be removed from pandas in a future version. Use pandas.concat instead.\n",
      "  df = df.append(dict(node), ignore_index=True)\n",
      "C:\\Users\\Jason\\AppData\\Local\\Temp\\ipykernel_135540\\122808287.py:7: FutureWarning: The frame.append method is deprecated and will be removed from pandas in a future version. Use pandas.concat instead.\n",
      "  df = df.append(dict(node), ignore_index=True)\n",
      "C:\\Users\\Jason\\AppData\\Local\\Temp\\ipykernel_135540\\122808287.py:7: FutureWarning: The frame.append method is deprecated and will be removed from pandas in a future version. Use pandas.concat instead.\n",
      "  df = df.append(dict(node), ignore_index=True)\n",
      "C:\\Users\\Jason\\AppData\\Local\\Temp\\ipykernel_135540\\122808287.py:7: FutureWarning: The frame.append method is deprecated and will be removed from pandas in a future version. Use pandas.concat instead.\n",
      "  df = df.append(dict(node), ignore_index=True)\n",
      "C:\\Users\\Jason\\AppData\\Local\\Temp\\ipykernel_135540\\122808287.py:7: FutureWarning: The frame.append method is deprecated and will be removed from pandas in a future version. Use pandas.concat instead.\n",
      "  df = df.append(dict(node), ignore_index=True)\n",
      "C:\\Users\\Jason\\AppData\\Local\\Temp\\ipykernel_135540\\122808287.py:7: FutureWarning: The frame.append method is deprecated and will be removed from pandas in a future version. Use pandas.concat instead.\n",
      "  df = df.append(dict(node), ignore_index=True)\n",
      "C:\\Users\\Jason\\AppData\\Local\\Temp\\ipykernel_135540\\122808287.py:7: FutureWarning: The frame.append method is deprecated and will be removed from pandas in a future version. Use pandas.concat instead.\n",
      "  df = df.append(dict(node), ignore_index=True)\n"
     ]
    },
    {
     "name": "stdout",
     "output_type": "stream",
     "text": [
      "     Durability  Strength  Power  Speed  Intelligence  Combat\n",
      "0            56        19     46     35            63     100\n",
      "1            65        32     60     35            56      84\n",
      "2            42        11     25     23            75     100\n",
      "3            28        16     22     23            50     100\n",
      "4            14        10     19     12            75      80\n",
      "..          ...       ...    ...    ...           ...     ...\n",
      "192          14         5     62     12            25      14\n",
      "193          35        48     54     42            50      60\n",
      "194           1         1      0      1             1       1\n",
      "195          80        80     84     33            63      84\n",
      "196          80        32     38     45            63      65\n",
      "\n",
      "[197 rows x 6 columns]\n"
     ]
    },
    {
     "name": "stderr",
     "output_type": "stream",
     "text": [
      "C:\\Users\\Jason\\AppData\\Local\\Temp\\ipykernel_135540\\122808287.py:7: FutureWarning: The frame.append method is deprecated and will be removed from pandas in a future version. Use pandas.concat instead.\n",
      "  df = df.append(dict(node), ignore_index=True)\n",
      "C:\\Users\\Jason\\AppData\\Local\\Temp\\ipykernel_135540\\122808287.py:7: FutureWarning: The frame.append method is deprecated and will be removed from pandas in a future version. Use pandas.concat instead.\n",
      "  df = df.append(dict(node), ignore_index=True)\n",
      "C:\\Users\\Jason\\AppData\\Local\\Temp\\ipykernel_135540\\122808287.py:7: FutureWarning: The frame.append method is deprecated and will be removed from pandas in a future version. Use pandas.concat instead.\n",
      "  df = df.append(dict(node), ignore_index=True)\n",
      "C:\\Users\\Jason\\AppData\\Local\\Temp\\ipykernel_135540\\122808287.py:7: FutureWarning: The frame.append method is deprecated and will be removed from pandas in a future version. Use pandas.concat instead.\n",
      "  df = df.append(dict(node), ignore_index=True)\n",
      "C:\\Users\\Jason\\AppData\\Local\\Temp\\ipykernel_135540\\122808287.py:7: FutureWarning: The frame.append method is deprecated and will be removed from pandas in a future version. Use pandas.concat instead.\n",
      "  df = df.append(dict(node), ignore_index=True)\n",
      "C:\\Users\\Jason\\AppData\\Local\\Temp\\ipykernel_135540\\122808287.py:7: FutureWarning: The frame.append method is deprecated and will be removed from pandas in a future version. Use pandas.concat instead.\n",
      "  df = df.append(dict(node), ignore_index=True)\n"
     ]
    }
   ],
   "source": [
    "# For each author append the dict to dataframe\n",
    "query = \"\"\"MATCH (p)\n",
    "WHERE exists(p.Total)\n",
    "RETURN p\"\"\"\n",
    "data = graph.run(query).to_data_frame()\n",
    "for node in data[\"p\"]:\n",
    "    df = df.append(dict(node), ignore_index=True)\n",
    "\n",
    "print(df.loc[:,\"Durability\":\"Combat\"])    "
   ]
  },
  {
   "cell_type": "code",
   "execution_count": 21,
   "metadata": {},
   "outputs": [
    {
     "data": {
      "text/plain": [
       "<seaborn.axisgrid.FacetGrid at 0x28dd1a36550>"
      ]
     },
     "execution_count": 21,
     "metadata": {},
     "output_type": "execute_result"
    },
    {
     "data": {
      "image/png": "[encoded data removed]",
      "text/plain": [
       "<Figure size 500x500 with 1 Axes>"
      ]
     },
     "metadata": {},
     "output_type": "display_data"
    }
   ],
   "source": [
    "sns.displot(df[\"Strength\"])"
   ]
  },
  {
   "cell_type": "code",
   "execution_count": 27,
   "metadata": {},
   "outputs": [
    {
     "data": {
      "image/png": "[encoded data removed]",
      "text/plain": [
       "<Figure size 640x480 with 1 Axes>"
      ]
     },
     "metadata": {},
     "output_type": "display_data"
    }
   ],
   "source": [
    "# density of degrees\n",
    "\n",
    "#degrès = nombre de liens qui vont vers quelqu'un -> mesure à quel point un individu est central\n",
    "\n",
    "# The WITH clause allows query parts to be chained together, \n",
    "# piping the results from one to be used as starting points or criteria in the next.\n",
    "# size(()-[:RELATION]->(p)) = number of relation that goes into node p  \n",
    "query =  \"\"\"\n",
    "MATCH (p)\n",
    "WITH p, size(()-[:RELATION]->(p)) as degree\n",
    "RETURN degree\n",
    "\"\"\"\n",
    "#()-[:RELATION]->(p) est une liste \n",
    "#size() renvoie la taille de la liste (nombre de fois qu'un lien arrive vers p)\n",
    "data = graph.run(query).to_data_frame()\n",
    "ax = sns.kdeplot(data[\"degree\"])\n",
    "ax.title.set_text(\"Density of degrees\")\n",
    "\n",
    "#C'est une distribution NORMALE (courante) en théorie des graphes"
   ]
  },
  {
   "cell_type": "code",
   "execution_count": 28,
   "metadata": {},
   "outputs": [
    {
     "data": {
      "image/png": "[encoded data removed]",
      "text/plain": [
       "<Figure size 640x480 with 1 Axes>"
      ]
     },
     "metadata": {},
     "output_type": "display_data"
    }
   ],
   "source": [
    "# density of weights\n",
    "\n",
    "# Return the n_collab attribute from link = weight of the edge\n",
    "query = \"\"\"MATCH (a:Superhero)-[r:RELATION]-(b:Superhero) RETURN r.n_collab\"\"\"\n",
    "data = graph.run(query).to_data_frame()\n",
    "ax = sns.kdeplot(data[\"r.n_collab\"])\n",
    "ax.title.set_text(\"Density of weights\")\n",
    "\n",
    "#C'est la densité des collaborations entre superhéros"
   ]
  },
  {
   "cell_type": "code",
   "execution_count": 29,
   "metadata": {},
   "outputs": [
    {
     "data": {
      "text/plain": [
       "[Node('Superhero', Combat=85, Durability=110, Intelligence=88, Power=100, Speed=100, Strength=85, Total=568, id_=1010764, name='Stardust'),\n",
       " Node('Superhero', Combat=70, Durability=100, Intelligence=100, Power=100, Speed=83, Strength=100, Total=553, id_=1009312, name='Galactus'),\n",
       " Node('Superhero', Combat=80, Durability=100, Intelligence=88, Power=100, Speed=83, Strength=95, Total=546, id_=1009280, name='Dormammu'),\n",
       " Node('Superhero', Combat=85, Durability=100, Intelligence=69, Power=100, Speed=92, Strength=100, Total=546, id_=1009664, name='Thor'),\n",
       " Node('Superhero', Combat=70, Durability=100, Intelligence=100, Power=100, Speed=67, Strength=80, Total=517, id_=1009496, name='Jean Grey'),\n",
       " Node('Superhero', Combat=70, Durability=100, Intelligence=100, Power=100, Speed=67, Strength=80, Total=517, id_=1009327, name='Jean Grey'),\n",
       " Node('Superhero', Combat=85, Durability=100, Intelligence=88, Power=100, Speed=47, Strength=85, Total=505, id_=1009483, name='Onslaught'),\n",
       " Node('Superhero', Combat=60, Durability=100, Intelligence=100, Power=100, Speed=33, Strength=100, Total=493, id_=1009156, name='Apocalypse'),\n",
       " Node('Superhero', Combat=64, Durability=85, Intelligence=100, Power=100, Speed=58, Strength=85, Total=492, id_=1009368, name='Iron Man'),\n",
       " Node('Superhero', Combat=80, Durability=100, Intelligence=88, Power=100, Speed=17, Strength=100, Total=485, id_=1009652, name='Thanos')]"
      ]
     },
     "execution_count": 29,
     "metadata": {},
     "output_type": "execute_result"
    }
   ],
   "source": [
    "# TOP 10\n",
    "\n",
    "# ORDER BY attribute of a node\n",
    "# Only 10 result\n",
    "\n",
    "query = \"\"\"MATCH (a:Superhero)\n",
    "WHERE exists(a.Total)\n",
    "RETURN a\n",
    "ORDER BY a.Total DESC\n",
    "LIMIT 10\"\"\"\n",
    "data = graph.run(query).to_data_frame()\n",
    "list(data[\"a\"])\n",
    "\n",
    "#Why does Jean Grey appear 2 times?\n",
    "#Parce que l'id est différent !"
   ]
  },
  {
   "cell_type": "code",
   "execution_count": 30,
   "metadata": {},
   "outputs": [
    {
     "data": {
      "image/png": "[encoded data removed]",
      "text/plain": [
       "<Figure size 640x480 with 1 Axes>"
      ]
     },
     "metadata": {},
     "output_type": "display_data"
    }
   ],
   "source": [
    "# Does total strength affect collaboration? seems not like it\n",
    "\n",
    "# One way is to test if strong heroes have a different density\n",
    "query = \"\"\"MATCH (a:Superhero)-[r:RELATION]-(b:Superhero) WHERE a.Total > 480 RETURN a.name,r.n_collab\"\"\"\n",
    "data = graph.run(query).to_data_frame()\n",
    "ax = sns.kdeplot(data[\"r.n_collab\"])\n",
    "ax.title.set_text(\"Density of weights\")"
   ]
  },
  {
   "cell_type": "code",
   "execution_count": 31,
   "metadata": {},
   "outputs": [
    {
     "name": "stderr",
     "output_type": "stream",
     "text": [
      "100%|█████████▉| 1165/1170 [00:16<00:00, 102.14it/s]"
     ]
    },
    {
     "name": "stderr",
     "output_type": "stream",
     "text": [
      "100%|██████████| 1170/1170 [00:30<00:00, 102.14it/s]"
     ]
    }
   ],
   "source": [
    "# Sometimes delete all can be slow, remove one by one this way:\n",
    "import py2neo\n",
    "\n",
    "graph = py2neo.Graph(\"bolt://localhost:11005\", auth=(\"neo4j\", \"password_tuts\"), name=\"mcu\")\n",
    "\n",
    "query = \"\"\"\n",
    "MATCH(p:Superhero)\n",
    "WITH count(p) AS n_node\n",
    "RETURN n_node\n",
    "\"\"\"\n",
    "\n",
    "data = graph.run(query)\n",
    "n_node = next(data)[\"n_node\"]\n",
    "\n",
    "query = \"\"\"\n",
    "MATCH(p:Superhero)\n",
    "RETURN p.id_\n",
    "\"\"\"\n",
    "\n",
    "# Returns a generator\n",
    "data = graph.run(query)\n",
    "\n",
    "#iterate through all elements\n",
    "iteration = 0\n",
    "pbar = tqdm.tqdm(total=n_node)\n",
    "\n",
    "for i in range(n_node):\n",
    "    Superhero = next(data)\n",
    "    query = \"\"\"\n",
    "    MATCH (p:Superhero) \n",
    "    WHERE p.id_ = {}\n",
    "    DETACH DELETE p\n",
    "    \"\"\".format(Superhero[\"p.id_\"])\n",
    "    iteration += 1\n",
    "    pbar.update(1)\n",
    "    graph.run(query)\n"
   ]
  },
  {
   "attachments": {},
   "cell_type": "markdown",
   "metadata": {},
   "source": [
    "### Exercises\n",
    "\n",
    "#### CRUD operations:\n",
    "\n",
    "\n",
    "**TODO 1**: You will continue to work on the MCU network for a while. Who are the 10 fastest in the MCU ? Are they related to each other ?"
   ]
  },
  {
   "cell_type": "code",
   "execution_count": 2,
   "metadata": {},
   "outputs": [
    {
     "data": {
      "text/plain": [
       "[Node('Superhero', Combat=56, Durability=84, Intelligence=75, Power=100, Speed=100, Strength=67, Total=482, id_=1009184, name='Black Bolt'),\n",
       " Node('Superhero', Combat=85, Durability=110, Intelligence=88, Power=100, Speed=100, Strength=85, Total=568, id_=1010764, name='Stardust'),\n",
       " Node('Superhero', Combat=56, Durability=60, Intelligence=63, Power=57, Speed=100, Strength=28, Total=364, id_=1009524, name='Quicksilver'),\n",
       " Node('Superhero', Combat=25, Durability=100, Intelligence=38, Power=100, Speed=100, Strength=60, Total=423, id_=1009477, name='Nova'),\n",
       " Node('Superhero', Combat=85, Durability=100, Intelligence=69, Power=100, Speed=92, Strength=100, Total=546, id_=1009664, name='Thor'),\n",
       " Node('Superhero', Combat=32, Durability=101, Intelligence=63, Power=100, Speed=84, Strength=100, Total=480, id_=1009592, name='Silver Surfer'),\n",
       " Node('Superhero', Combat=70, Durability=100, Intelligence=100, Power=100, Speed=83, Strength=100, Total=553, id_=1009312, name='Galactus'),\n",
       " Node('Superhero', Combat=80, Durability=100, Intelligence=88, Power=100, Speed=83, Strength=95, Total=546, id_=1009280, name='Dormammu'),\n",
       " Node('Superhero', Combat=28, Durability=99, Intelligence=88, Power=71, Speed=83, Strength=80, Total=449, id_=1011060, name='Ego'),\n",
       " Node('Superhero', Combat=70, Durability=56, Intelligence=50, Power=70, Speed=83, Strength=18, Total=347, id_=1009476, name='Northstar')]"
      ]
     },
     "execution_count": 2,
     "metadata": {},
     "output_type": "execute_result"
    }
   ],
   "source": [
    "# TOP 10 fastest\n",
    "\n",
    "# ORDER BY Speed of each node\n",
    "# Only 10 result\n",
    "\n",
    "query = \"\"\"MATCH (a:Superhero)\n",
    "WHERE exists(a.Total)\n",
    "RETURN a\n",
    "ORDER BY a.Speed DESC\n",
    "LIMIT 10\"\"\"\n",
    "data = graph.run(query).to_data_frame()\n",
    "list(data[\"a\"])"
   ]
  },
  {
   "attachments": {},
   "cell_type": "markdown",
   "metadata": {},
   "source": [
    "**TODO 2**: How many have collaborated at least more than 10 times with another superhero?"
   ]
  },
  {
   "cell_type": "code",
   "execution_count": 7,
   "metadata": {},
   "outputs": [
    {
     "data": {
      "text/plain": [
       "442"
      ]
     },
     "execution_count": 7,
     "metadata": {},
     "output_type": "execute_result"
    }
   ],
   "source": [
    "query =  \"\"\"\n",
    "MATCH (p)\n",
    "WITH p, size(()-[:RELATION]->(p)) as degree\n",
    "WHERE degree > 25\n",
    "RETURN p.name\n",
    "\"\"\"\n",
    "\n",
    "data = graph.run(query).to_data_frame()\n",
    "len(data)"
   ]
  },
  {
   "attachments": {},
   "cell_type": "markdown",
   "metadata": {},
   "source": [
    "**TODO 3**: Did the weakest of the MCU collaborated with the strongest?"
   ]
  },
  {
   "cell_type": "code",
   "execution_count": 8,
   "metadata": {},
   "outputs": [
    {
     "data": {
      "text/plain": [
       "[Node('Superhero', Combat=85, Durability=110, Intelligence=88, Power=100, Speed=100, Strength=85, Total=568, id_=1010764, name='Stardust')]"
      ]
     },
     "execution_count": 8,
     "metadata": {},
     "output_type": "execute_result"
    }
   ],
   "source": [
    "#Let's check if the the superhero with the highest Total (strongest) collaborated with the superhero with the lowest Total (weakest)\n",
    "\n",
    "# Get strongest superhero\n",
    "\n",
    "# ORDER BY Total of each node\n",
    "# Only 1 result\n",
    "\n",
    "query = \"\"\"MATCH (a:Superhero)\n",
    "WHERE exists(a.Total)\n",
    "RETURN a\n",
    "ORDER BY a.Total DESC\n",
    "LIMIT 1\"\"\"\n",
    "data = graph.run(query).to_data_frame()\n",
    "list(data[\"a\"])"
   ]
  },
  {
   "cell_type": "code",
   "execution_count": 9,
   "metadata": {},
   "outputs": [
    {
     "data": {
      "text/plain": [
       "[Node('Superhero', Combat=1, Durability=1, Intelligence=1, Power=0, Speed=1, Strength=1, Total=5, id_=1009393, name='Lady Deathstrike')]"
      ]
     },
     "execution_count": 9,
     "metadata": {},
     "output_type": "execute_result"
    }
   ],
   "source": [
    "# Get weakest superhero\n",
    "\n",
    "# ORDER BY Total of each node\n",
    "# Only 1 result\n",
    "\n",
    "query = \"\"\"MATCH (a:Superhero)\n",
    "WHERE exists(a.Total)\n",
    "RETURN a\n",
    "ORDER BY a.Total ASC\n",
    "LIMIT 1\"\"\"\n",
    "data = graph.run(query).to_data_frame()\n",
    "list(data[\"a\"])"
   ]
  },
  {
   "cell_type": "code",
   "execution_count": null,
   "metadata": {},
   "outputs": [],
   "source": [
    "#Check if Stardust and Lady Deathstrike collaborated\n",
    "\n",
    "query = \"\"\"MATCH (a:Superhero{name:'Stardust'})-[r:RELATION]-(b:Superhero)\n",
    "           RETURN r, a, b\"\"\"\n",
    "\n",
    "data = graph.run(query).to_data_frame()\n",
    "data"
   ]
  },
  {
   "cell_type": "code",
   "execution_count": 43,
   "metadata": {},
   "outputs": [
    {
     "ename": "ClientError",
     "evalue": "[Statement.SyntaxError] Variable `max` not defined (line 2, column 28 (offset: 47))\r\n\"           WHERE a.Total = max\"\r\n                            ^",
     "output_type": "error",
     "traceback": [
      "\u001b[1;31m---------------------------------------------------------------------------\u001b[0m",
      "\u001b[1;31mClientError\u001b[0m                               Traceback (most recent call last)",
      "\u001b[1;32m~\\AppData\\Local\\Temp\\ipykernel_29232\\1358901195.py\u001b[0m in \u001b[0;36m<module>\u001b[1;34m\u001b[0m\n\u001b[0;32m      3\u001b[0m            RETURN a.name, a.Total\"\"\"\n\u001b[0;32m      4\u001b[0m \u001b[1;33m\u001b[0m\u001b[0m\n\u001b[1;32m----> 5\u001b[1;33m \u001b[0mdata\u001b[0m \u001b[1;33m=\u001b[0m \u001b[0mgraph\u001b[0m\u001b[1;33m.\u001b[0m\u001b[0mrun\u001b[0m\u001b[1;33m(\u001b[0m\u001b[0mquery\u001b[0m\u001b[1;33m)\u001b[0m\u001b[1;33m.\u001b[0m\u001b[0mto_data_frame\u001b[0m\u001b[1;33m(\u001b[0m\u001b[1;33m)\u001b[0m\u001b[1;33m\u001b[0m\u001b[1;33m\u001b[0m\u001b[0m\n\u001b[0m\u001b[0;32m      6\u001b[0m \u001b[0mdata\u001b[0m\u001b[1;33m\u001b[0m\u001b[1;33m\u001b[0m\u001b[0m\n",
      "\u001b[1;32mc:\\Users\\Jason\\anaconda3\\lib\\site-packages\\py2neo\\database.py\u001b[0m in \u001b[0;36mrun\u001b[1;34m(self, cypher, parameters, **kwparameters)\u001b[0m\n\u001b[0;32m    403\u001b[0m         \u001b[1;33m:\u001b[0m\u001b[1;32mreturn\u001b[0m\u001b[1;33m:\u001b[0m\u001b[1;33m\u001b[0m\u001b[1;33m\u001b[0m\u001b[0m\n\u001b[0;32m    404\u001b[0m         \"\"\"\n\u001b[1;32m--> 405\u001b[1;33m         \u001b[1;32mreturn\u001b[0m \u001b[0mself\u001b[0m\u001b[1;33m.\u001b[0m\u001b[0mauto\u001b[0m\u001b[1;33m(\u001b[0m\u001b[1;33m)\u001b[0m\u001b[1;33m.\u001b[0m\u001b[0mrun\u001b[0m\u001b[1;33m(\u001b[0m\u001b[0mcypher\u001b[0m\u001b[1;33m,\u001b[0m \u001b[0mparameters\u001b[0m\u001b[1;33m,\u001b[0m \u001b[1;33m**\u001b[0m\u001b[0mkwparameters\u001b[0m\u001b[1;33m)\u001b[0m\u001b[1;33m\u001b[0m\u001b[1;33m\u001b[0m\u001b[0m\n\u001b[0m\u001b[0;32m    406\u001b[0m \u001b[1;33m\u001b[0m\u001b[0m\n\u001b[0;32m    407\u001b[0m     \u001b[1;32mdef\u001b[0m \u001b[0mevaluate\u001b[0m\u001b[1;33m(\u001b[0m\u001b[0mself\u001b[0m\u001b[1;33m,\u001b[0m \u001b[0mcypher\u001b[0m\u001b[1;33m,\u001b[0m \u001b[0mparameters\u001b[0m\u001b[1;33m=\u001b[0m\u001b[1;32mNone\u001b[0m\u001b[1;33m,\u001b[0m \u001b[1;33m**\u001b[0m\u001b[0mkwparameters\u001b[0m\u001b[1;33m)\u001b[0m\u001b[1;33m:\u001b[0m\u001b[1;33m\u001b[0m\u001b[1;33m\u001b[0m\u001b[0m\n",
      "\u001b[1;32mc:\\Users\\Jason\\anaconda3\\lib\\site-packages\\py2neo\\database.py\u001b[0m in \u001b[0;36mrun\u001b[1;34m(self, cypher, parameters, **kwparameters)\u001b[0m\n\u001b[0;32m    990\u001b[0m                                                   \u001b[0mgraph_name\u001b[0m\u001b[1;33m=\u001b[0m\u001b[0mself\u001b[0m\u001b[1;33m.\u001b[0m\u001b[0mgraph\u001b[0m\u001b[1;33m.\u001b[0m\u001b[0mname\u001b[0m\u001b[1;33m,\u001b[0m\u001b[1;33m\u001b[0m\u001b[1;33m\u001b[0m\u001b[0m\n\u001b[0;32m    991\u001b[0m                                                   readonly=self.readonly)\n\u001b[1;32m--> 992\u001b[1;33m             \u001b[0mself\u001b[0m\u001b[1;33m.\u001b[0m\u001b[0m_connector\u001b[0m\u001b[1;33m.\u001b[0m\u001b[0mpull\u001b[0m\u001b[1;33m(\u001b[0m\u001b[0mresult\u001b[0m\u001b[1;33m,\u001b[0m \u001b[1;33m-\u001b[0m\u001b[1;36m1\u001b[0m\u001b[1;33m)\u001b[0m\u001b[1;33m\u001b[0m\u001b[1;33m\u001b[0m\u001b[0m\n\u001b[0m\u001b[0;32m    993\u001b[0m             \u001b[1;32mreturn\u001b[0m \u001b[0mCursor\u001b[0m\u001b[1;33m(\u001b[0m\u001b[0mresult\u001b[0m\u001b[1;33m,\u001b[0m \u001b[0mhydrant\u001b[0m\u001b[1;33m)\u001b[0m\u001b[1;33m\u001b[0m\u001b[1;33m\u001b[0m\u001b[0m\n\u001b[0;32m    994\u001b[0m         \u001b[1;32mfinally\u001b[0m\u001b[1;33m:\u001b[0m\u001b[1;33m\u001b[0m\u001b[1;33m\u001b[0m\u001b[0m\n",
      "\u001b[1;32mc:\\Users\\Jason\\anaconda3\\lib\\site-packages\\py2neo\\client\\__init__.py\u001b[0m in \u001b[0;36mpull\u001b[1;34m(self, result, n)\u001b[0m\n\u001b[0;32m   1432\u001b[0m         \u001b[0mcx\u001b[0m \u001b[1;33m=\u001b[0m \u001b[0mself\u001b[0m\u001b[1;33m.\u001b[0m\u001b[0m_reacquire\u001b[0m\u001b[1;33m(\u001b[0m\u001b[0mresult\u001b[0m\u001b[1;33m.\u001b[0m\u001b[0mtransaction\u001b[0m\u001b[1;33m)\u001b[0m\u001b[1;33m\u001b[0m\u001b[1;33m\u001b[0m\u001b[0m\n\u001b[0;32m   1433\u001b[0m         \u001b[1;32mtry\u001b[0m\u001b[1;33m:\u001b[0m\u001b[1;33m\u001b[0m\u001b[1;33m\u001b[0m\u001b[0m\n\u001b[1;32m-> 1434\u001b[1;33m             \u001b[0mcx\u001b[0m\u001b[1;33m.\u001b[0m\u001b[0mpull\u001b[0m\u001b[1;33m(\u001b[0m\u001b[0mresult\u001b[0m\u001b[1;33m,\u001b[0m \u001b[0mn\u001b[0m\u001b[1;33m=\u001b[0m\u001b[0mn\u001b[0m\u001b[1;33m)\u001b[0m\u001b[1;33m\u001b[0m\u001b[1;33m\u001b[0m\u001b[0m\n\u001b[0m\u001b[0;32m   1435\u001b[0m         \u001b[1;32mexcept\u001b[0m \u001b[1;33m(\u001b[0m\u001b[0mConnectionUnavailable\u001b[0m\u001b[1;33m,\u001b[0m \u001b[0mConnectionBroken\u001b[0m\u001b[1;33m)\u001b[0m\u001b[1;33m:\u001b[0m\u001b[1;33m\u001b[0m\u001b[1;33m\u001b[0m\u001b[0m\n\u001b[0;32m   1436\u001b[0m             \u001b[0mself\u001b[0m\u001b[1;33m.\u001b[0m\u001b[0mprune\u001b[0m\u001b[1;33m(\u001b[0m\u001b[0mcx\u001b[0m\u001b[1;33m.\u001b[0m\u001b[0mprofile\u001b[0m\u001b[1;33m)\u001b[0m\u001b[1;33m\u001b[0m\u001b[1;33m\u001b[0m\u001b[0m\n",
      "\u001b[1;32mc:\\Users\\Jason\\anaconda3\\lib\\site-packages\\py2neo\\client\\bolt.py\u001b[0m in \u001b[0;36mpull\u001b[1;34m(self, result, n, capacity)\u001b[0m\n\u001b[0;32m    999\u001b[0m                                         \"during pull\"), error)\n\u001b[0;32m   1000\u001b[0m         \u001b[1;32melse\u001b[0m\u001b[1;33m:\u001b[0m\u001b[1;33m\u001b[0m\u001b[1;33m\u001b[0m\u001b[0m\n\u001b[1;32m-> 1001\u001b[1;33m             \u001b[0mself\u001b[0m\u001b[1;33m.\u001b[0m\u001b[0m_audit\u001b[0m\u001b[1;33m(\u001b[0m\u001b[0mself\u001b[0m\u001b[1;33m.\u001b[0m\u001b[0m_transaction\u001b[0m\u001b[1;33m)\u001b[0m\u001b[1;33m\u001b[0m\u001b[1;33m\u001b[0m\u001b[0m\n\u001b[0m\u001b[0;32m   1002\u001b[0m             \u001b[1;32mreturn\u001b[0m \u001b[0mresponse\u001b[0m\u001b[1;33m\u001b[0m\u001b[1;33m\u001b[0m\u001b[0m\n\u001b[0;32m   1003\u001b[0m \u001b[1;33m\u001b[0m\u001b[0m\n",
      "\u001b[1;32mc:\\Users\\Jason\\anaconda3\\lib\\site-packages\\py2neo\\client\\bolt.py\u001b[0m in \u001b[0;36m_audit\u001b[1;34m(self, task)\u001b[0m\n\u001b[0;32m    808\u001b[0m             \u001b[1;32mreturn\u001b[0m\u001b[1;33m\u001b[0m\u001b[1;33m\u001b[0m\u001b[0m\n\u001b[0;32m    809\u001b[0m         \u001b[1;32mtry\u001b[0m\u001b[1;33m:\u001b[0m\u001b[1;33m\u001b[0m\u001b[1;33m\u001b[0m\u001b[0m\n\u001b[1;32m--> 810\u001b[1;33m             \u001b[0mtask\u001b[0m\u001b[1;33m.\u001b[0m\u001b[0maudit\u001b[0m\u001b[1;33m(\u001b[0m\u001b[1;33m)\u001b[0m\u001b[1;33m\u001b[0m\u001b[1;33m\u001b[0m\u001b[0m\n\u001b[0m\u001b[0;32m    811\u001b[0m         \u001b[1;32mexcept\u001b[0m \u001b[0mNeo4jError\u001b[0m\u001b[1;33m:\u001b[0m\u001b[1;33m\u001b[0m\u001b[1;33m\u001b[0m\u001b[0m\n\u001b[0;32m    812\u001b[0m             \u001b[0mself\u001b[0m\u001b[1;33m.\u001b[0m\u001b[0mreset\u001b[0m\u001b[1;33m(\u001b[0m\u001b[0mforce\u001b[0m\u001b[1;33m=\u001b[0m\u001b[1;32mTrue\u001b[0m\u001b[1;33m)\u001b[0m\u001b[1;33m\u001b[0m\u001b[1;33m\u001b[0m\u001b[0m\n",
      "\u001b[1;32mc:\\Users\\Jason\\anaconda3\\lib\\site-packages\\py2neo\\client\\bolt.py\u001b[0m in \u001b[0;36maudit\u001b[1;34m(self)\u001b[0m\n\u001b[0;32m   1138\u001b[0m     \u001b[1;32mdef\u001b[0m \u001b[0maudit\u001b[0m\u001b[1;33m(\u001b[0m\u001b[0mself\u001b[0m\u001b[1;33m)\u001b[0m\u001b[1;33m:\u001b[0m\u001b[1;33m\u001b[0m\u001b[1;33m\u001b[0m\u001b[0m\n\u001b[0;32m   1139\u001b[0m         \u001b[1;32mfor\u001b[0m \u001b[0mitem\u001b[0m \u001b[1;32min\u001b[0m \u001b[0mself\u001b[0m\u001b[1;33m.\u001b[0m\u001b[0m_items\u001b[0m\u001b[1;33m:\u001b[0m\u001b[1;33m\u001b[0m\u001b[1;33m\u001b[0m\u001b[0m\n\u001b[1;32m-> 1140\u001b[1;33m             \u001b[0mitem\u001b[0m\u001b[1;33m.\u001b[0m\u001b[0maudit\u001b[0m\u001b[1;33m(\u001b[0m\u001b[1;33m)\u001b[0m\u001b[1;33m\u001b[0m\u001b[1;33m\u001b[0m\u001b[0m\n\u001b[0m\u001b[0;32m   1141\u001b[0m \u001b[1;33m\u001b[0m\u001b[0m\n\u001b[0;32m   1142\u001b[0m \u001b[1;33m\u001b[0m\u001b[0m\n",
      "\u001b[1;32mc:\\Users\\Jason\\anaconda3\\lib\\site-packages\\py2neo\\client\\bolt.py\u001b[0m in \u001b[0;36maudit\u001b[1;34m(self)\u001b[0m\n\u001b[0;32m   1138\u001b[0m     \u001b[1;32mdef\u001b[0m \u001b[0maudit\u001b[0m\u001b[1;33m(\u001b[0m\u001b[0mself\u001b[0m\u001b[1;33m)\u001b[0m\u001b[1;33m:\u001b[0m\u001b[1;33m\u001b[0m\u001b[1;33m\u001b[0m\u001b[0m\n\u001b[0;32m   1139\u001b[0m         \u001b[1;32mfor\u001b[0m \u001b[0mitem\u001b[0m \u001b[1;32min\u001b[0m \u001b[0mself\u001b[0m\u001b[1;33m.\u001b[0m\u001b[0m_items\u001b[0m\u001b[1;33m:\u001b[0m\u001b[1;33m\u001b[0m\u001b[1;33m\u001b[0m\u001b[0m\n\u001b[1;32m-> 1140\u001b[1;33m             \u001b[0mitem\u001b[0m\u001b[1;33m.\u001b[0m\u001b[0maudit\u001b[0m\u001b[1;33m(\u001b[0m\u001b[1;33m)\u001b[0m\u001b[1;33m\u001b[0m\u001b[1;33m\u001b[0m\u001b[0m\n\u001b[0m\u001b[0;32m   1141\u001b[0m \u001b[1;33m\u001b[0m\u001b[0m\n\u001b[0;32m   1142\u001b[0m \u001b[1;33m\u001b[0m\u001b[0m\n",
      "\u001b[1;32mc:\\Users\\Jason\\anaconda3\\lib\\site-packages\\py2neo\\client\\bolt.py\u001b[0m in \u001b[0;36maudit\u001b[1;34m(self)\u001b[0m\n\u001b[0;32m   1301\u001b[0m         \u001b[1;32mif\u001b[0m \u001b[0mself\u001b[0m\u001b[1;33m.\u001b[0m\u001b[0m_failure\u001b[0m\u001b[1;33m:\u001b[0m\u001b[1;33m\u001b[0m\u001b[1;33m\u001b[0m\u001b[0m\n\u001b[0;32m   1302\u001b[0m             \u001b[0mself\u001b[0m\u001b[1;33m.\u001b[0m\u001b[0mset_ignored\u001b[0m\u001b[1;33m(\u001b[0m\u001b[1;33m)\u001b[0m\u001b[1;33m\u001b[0m\u001b[1;33m\u001b[0m\u001b[0m\n\u001b[1;32m-> 1303\u001b[1;33m             \u001b[1;32mraise\u001b[0m \u001b[0mself\u001b[0m\u001b[1;33m.\u001b[0m\u001b[0m_failure\u001b[0m\u001b[1;33m\u001b[0m\u001b[1;33m\u001b[0m\u001b[0m\n\u001b[0m\u001b[0;32m   1304\u001b[0m \u001b[1;33m\u001b[0m\u001b[0m\n\u001b[0;32m   1305\u001b[0m     \u001b[1;33m@\u001b[0m\u001b[0mproperty\u001b[0m\u001b[1;33m\u001b[0m\u001b[1;33m\u001b[0m\u001b[0m\n",
      "\u001b[1;31mClientError\u001b[0m: [Statement.SyntaxError] Variable `max` not defined (line 2, column 28 (offset: 47))\r\n\"           WHERE a.Total = max\"\r\n                            ^"
     ]
    }
   ],
   "source": [
    "query = \"\"\"MATCH (a:Superhero)\n",
    "           WHERE a.Total = max\n",
    "           RETURN a.name, a.Total\"\"\"\n",
    "\n",
    "data = graph.run(query).to_data_frame()\n",
    "data"
   ]
  },
  {
   "cell_type": "code",
   "execution_count": 44,
   "metadata": {},
   "outputs": [
    {
     "ename": "KeyboardInterrupt",
     "evalue": "",
     "output_type": "error",
     "traceback": [
      "\u001b[1;31m---------------------------------------------------------------------------\u001b[0m",
      "\u001b[1;31mKeyboardInterrupt\u001b[0m                         Traceback (most recent call last)",
      "\u001b[1;32m~\\AppData\\Local\\Temp\\ipykernel_29232\\3248540559.py\u001b[0m in \u001b[0;36m<module>\u001b[1;34m\u001b[0m\n\u001b[0;32m      4\u001b[0m            RETURN r, MAX(a.Total), MIN(b.Total)\"\"\"\n\u001b[0;32m      5\u001b[0m \u001b[1;33m\u001b[0m\u001b[0m\n\u001b[1;32m----> 6\u001b[1;33m \u001b[0mdata\u001b[0m \u001b[1;33m=\u001b[0m \u001b[0mgraph\u001b[0m\u001b[1;33m.\u001b[0m\u001b[0mrun\u001b[0m\u001b[1;33m(\u001b[0m\u001b[0mquery\u001b[0m\u001b[1;33m)\u001b[0m\u001b[1;33m.\u001b[0m\u001b[0mto_data_frame\u001b[0m\u001b[1;33m(\u001b[0m\u001b[1;33m)\u001b[0m\u001b[1;33m\u001b[0m\u001b[1;33m\u001b[0m\u001b[0m\n\u001b[0m\u001b[0;32m      7\u001b[0m \u001b[0mdata\u001b[0m\u001b[1;33m\u001b[0m\u001b[1;33m\u001b[0m\u001b[0m\n",
      "\u001b[1;32mc:\\Users\\Jason\\anaconda3\\lib\\site-packages\\py2neo\\cypher\\__init__.py\u001b[0m in \u001b[0;36mto_data_frame\u001b[1;34m(self, index, columns, dtype)\u001b[0m\n\u001b[0;32m    370\u001b[0m         \"\"\"\n\u001b[0;32m    371\u001b[0m         \u001b[1;32mfrom\u001b[0m \u001b[0mpy2neo\u001b[0m\u001b[1;33m.\u001b[0m\u001b[0mintegration\u001b[0m\u001b[1;33m.\u001b[0m\u001b[0mpandas\u001b[0m \u001b[1;32mimport\u001b[0m \u001b[0mcursor_to_data_frame\u001b[0m\u001b[1;33m\u001b[0m\u001b[1;33m\u001b[0m\u001b[0m\n\u001b[1;32m--> 372\u001b[1;33m         \u001b[1;32mreturn\u001b[0m \u001b[0mcursor_to_data_frame\u001b[0m\u001b[1;33m(\u001b[0m\u001b[0mself\u001b[0m\u001b[1;33m,\u001b[0m \u001b[0mindex\u001b[0m\u001b[1;33m,\u001b[0m \u001b[0mcolumns\u001b[0m\u001b[1;33m,\u001b[0m \u001b[0mdtype\u001b[0m\u001b[1;33m)\u001b[0m\u001b[1;33m\u001b[0m\u001b[1;33m\u001b[0m\u001b[0m\n\u001b[0m\u001b[0;32m    373\u001b[0m \u001b[1;33m\u001b[0m\u001b[0m\n\u001b[0;32m    374\u001b[0m     \u001b[1;32mdef\u001b[0m \u001b[0mto_matrix\u001b[0m\u001b[1;33m(\u001b[0m\u001b[0mself\u001b[0m\u001b[1;33m,\u001b[0m \u001b[0mmutable\u001b[0m\u001b[1;33m=\u001b[0m\u001b[1;32mFalse\u001b[0m\u001b[1;33m)\u001b[0m\u001b[1;33m:\u001b[0m\u001b[1;33m\u001b[0m\u001b[1;33m\u001b[0m\u001b[0m\n",
      "\u001b[1;32mc:\\Users\\Jason\\anaconda3\\lib\\site-packages\\py2neo\\integration\\pandas.py\u001b[0m in \u001b[0;36mcursor_to_data_frame\u001b[1;34m(cursor, index, columns, dtype)\u001b[0m\n\u001b[0;32m     90\u001b[0m         \u001b[1;33m<\u001b[0m\u001b[0mhttps\u001b[0m\u001b[1;33m:\u001b[0m\u001b[1;33m//\u001b[0m\u001b[0mpandas\u001b[0m\u001b[1;33m.\u001b[0m\u001b[0mpydata\u001b[0m\u001b[1;33m.\u001b[0m\u001b[0morg\u001b[0m\u001b[1;33m/\u001b[0m\u001b[0mpandas\u001b[0m\u001b[1;33m-\u001b[0m\u001b[0mdocs\u001b[0m\u001b[1;33m/\u001b[0m\u001b[0mstable\u001b[0m\u001b[1;33m/\u001b[0m\u001b[0mdsintro\u001b[0m\u001b[1;33m.\u001b[0m\u001b[0mhtml\u001b[0m\u001b[1;31m#series>`__ object.\u001b[0m\u001b[1;33m\u001b[0m\u001b[1;33m\u001b[0m\u001b[0m\n\u001b[0;32m     91\u001b[0m     \"\"\"\n\u001b[1;32m---> 92\u001b[1;33m     \u001b[1;32mreturn\u001b[0m \u001b[0mDataFrame\u001b[0m\u001b[1;33m(\u001b[0m\u001b[0mlist\u001b[0m\u001b[1;33m(\u001b[0m\u001b[0mmap\u001b[0m\u001b[1;33m(\u001b[0m\u001b[0mdict\u001b[0m\u001b[1;33m,\u001b[0m \u001b[0mcursor\u001b[0m\u001b[1;33m)\u001b[0m\u001b[1;33m)\u001b[0m\u001b[1;33m,\u001b[0m \u001b[0mindex\u001b[0m\u001b[1;33m=\u001b[0m\u001b[0mindex\u001b[0m\u001b[1;33m,\u001b[0m \u001b[0mcolumns\u001b[0m\u001b[1;33m=\u001b[0m\u001b[0mcolumns\u001b[0m\u001b[1;33m,\u001b[0m \u001b[0mdtype\u001b[0m\u001b[1;33m=\u001b[0m\u001b[0mdtype\u001b[0m\u001b[1;33m)\u001b[0m\u001b[1;33m\u001b[0m\u001b[1;33m\u001b[0m\u001b[0m\n\u001b[0m\u001b[0;32m     93\u001b[0m \u001b[1;33m\u001b[0m\u001b[0m\n\u001b[0;32m     94\u001b[0m \u001b[1;33m\u001b[0m\u001b[0m\n",
      "\u001b[1;32mc:\\Users\\Jason\\anaconda3\\lib\\site-packages\\py2neo\\cypher\\__init__.py\u001b[0m in \u001b[0;36m__iter__\u001b[1;34m(self)\u001b[0m\n\u001b[0;32m    114\u001b[0m \u001b[1;33m\u001b[0m\u001b[0m\n\u001b[0;32m    115\u001b[0m     \u001b[1;32mdef\u001b[0m \u001b[0m__iter__\u001b[0m\u001b[1;33m(\u001b[0m\u001b[0mself\u001b[0m\u001b[1;33m)\u001b[0m\u001b[1;33m:\u001b[0m\u001b[1;33m\u001b[0m\u001b[1;33m\u001b[0m\u001b[0m\n\u001b[1;32m--> 116\u001b[1;33m         \u001b[1;32mwhile\u001b[0m \u001b[0mself\u001b[0m\u001b[1;33m.\u001b[0m\u001b[0mforward\u001b[0m\u001b[1;33m(\u001b[0m\u001b[1;33m)\u001b[0m\u001b[1;33m:\u001b[0m\u001b[1;33m\u001b[0m\u001b[1;33m\u001b[0m\u001b[0m\n\u001b[0m\u001b[0;32m    117\u001b[0m             \u001b[1;32myield\u001b[0m \u001b[0mself\u001b[0m\u001b[1;33m.\u001b[0m\u001b[0m_current\u001b[0m\u001b[1;33m\u001b[0m\u001b[1;33m\u001b[0m\u001b[0m\n\u001b[0;32m    118\u001b[0m \u001b[1;33m\u001b[0m\u001b[0m\n",
      "\u001b[1;32mc:\\Users\\Jason\\anaconda3\\lib\\site-packages\\py2neo\\cypher\\__init__.py\u001b[0m in \u001b[0;36mforward\u001b[1;34m(self, amount)\u001b[0m\n\u001b[0;32m    201\u001b[0m                 \u001b[1;32mbreak\u001b[0m\u001b[1;33m\u001b[0m\u001b[1;33m\u001b[0m\u001b[0m\n\u001b[0;32m    202\u001b[0m             \u001b[1;32mif\u001b[0m \u001b[0mself\u001b[0m\u001b[1;33m.\u001b[0m\u001b[0m_hydrant\u001b[0m\u001b[1;33m:\u001b[0m\u001b[1;33m\u001b[0m\u001b[1;33m\u001b[0m\u001b[0m\n\u001b[1;32m--> 203\u001b[1;33m                 \u001b[0mvalues\u001b[0m \u001b[1;33m=\u001b[0m \u001b[0mself\u001b[0m\u001b[1;33m.\u001b[0m\u001b[0m_hydrant\u001b[0m\u001b[1;33m.\u001b[0m\u001b[0mhydrate_list\u001b[0m\u001b[1;33m(\u001b[0m\u001b[0mvalues\u001b[0m\u001b[1;33m)\u001b[0m\u001b[1;33m\u001b[0m\u001b[1;33m\u001b[0m\u001b[0m\n\u001b[0m\u001b[0;32m    204\u001b[0m             \u001b[0mself\u001b[0m\u001b[1;33m.\u001b[0m\u001b[0m_current\u001b[0m \u001b[1;33m=\u001b[0m \u001b[0mRecord\u001b[0m\u001b[1;33m(\u001b[0m\u001b[0mself\u001b[0m\u001b[1;33m.\u001b[0m\u001b[0m_fields\u001b[0m\u001b[1;33m,\u001b[0m \u001b[0mvalues\u001b[0m\u001b[1;33m)\u001b[0m\u001b[1;33m\u001b[0m\u001b[1;33m\u001b[0m\u001b[0m\n\u001b[0;32m    205\u001b[0m             \u001b[0mmoved\u001b[0m \u001b[1;33m+=\u001b[0m \u001b[1;36m1\u001b[0m\u001b[1;33m\u001b[0m\u001b[1;33m\u001b[0m\u001b[0m\n",
      "\u001b[1;32mc:\\Users\\Jason\\anaconda3\\lib\\site-packages\\py2neo\\client\\bolt.py\u001b[0m in \u001b[0;36mhydrate_list\u001b[1;34m(self, obj)\u001b[0m\n\u001b[0;32m     92\u001b[0m                 \u001b[0mobj\u001b[0m\u001b[1;33m[\u001b[0m\u001b[0mi\u001b[0m\u001b[1;33m]\u001b[0m \u001b[1;33m=\u001b[0m \u001b[0mself\u001b[0m\u001b[1;33m.\u001b[0m\u001b[0mhydrate_dict\u001b[0m\u001b[1;33m(\u001b[0m\u001b[0mvalue\u001b[0m\u001b[1;33m)\u001b[0m\u001b[1;33m\u001b[0m\u001b[1;33m\u001b[0m\u001b[0m\n\u001b[0;32m     93\u001b[0m             \u001b[1;32melif\u001b[0m \u001b[0mt\u001b[0m \u001b[1;32mis\u001b[0m \u001b[0mStructure\u001b[0m\u001b[1;33m:\u001b[0m\u001b[1;33m\u001b[0m\u001b[1;33m\u001b[0m\u001b[0m\n\u001b[1;32m---> 94\u001b[1;33m                 \u001b[0mobj\u001b[0m\u001b[1;33m[\u001b[0m\u001b[0mi\u001b[0m\u001b[1;33m]\u001b[0m \u001b[1;33m=\u001b[0m \u001b[0mself\u001b[0m\u001b[1;33m.\u001b[0m\u001b[0mhydrate_structure\u001b[0m\u001b[1;33m(\u001b[0m\u001b[0mvalue\u001b[0m\u001b[1;33m)\u001b[0m\u001b[1;33m\u001b[0m\u001b[1;33m\u001b[0m\u001b[0m\n\u001b[0m\u001b[0;32m     95\u001b[0m         \u001b[1;32mreturn\u001b[0m \u001b[0mobj\u001b[0m\u001b[1;33m\u001b[0m\u001b[1;33m\u001b[0m\u001b[0m\n\u001b[0;32m     96\u001b[0m \u001b[1;33m\u001b[0m\u001b[0m\n",
      "\u001b[1;32mc:\\Users\\Jason\\anaconda3\\lib\\site-packages\\py2neo\\client\\bolt.py\u001b[0m in \u001b[0;36mhydrate_structure\u001b[1;34m(self, obj)\u001b[0m\n\u001b[0;32m    111\u001b[0m             \u001b[1;32mreturn\u001b[0m \u001b[0mself\u001b[0m\u001b[1;33m.\u001b[0m\u001b[0m_hydrate_node\u001b[0m\u001b[1;33m(\u001b[0m\u001b[1;33m*\u001b[0m\u001b[0mobj\u001b[0m\u001b[1;33m.\u001b[0m\u001b[0mfields\u001b[0m\u001b[1;33m)\u001b[0m\u001b[1;33m\u001b[0m\u001b[1;33m\u001b[0m\u001b[0m\n\u001b[0;32m    112\u001b[0m         \u001b[1;32melif\u001b[0m \u001b[0mtag\u001b[0m \u001b[1;33m==\u001b[0m \u001b[1;36m82\u001b[0m\u001b[1;33m:\u001b[0m\u001b[1;33m\u001b[0m\u001b[1;33m\u001b[0m\u001b[0m\n\u001b[1;32m--> 113\u001b[1;33m             \u001b[1;32mreturn\u001b[0m \u001b[0mself\u001b[0m\u001b[1;33m.\u001b[0m\u001b[0m_hydrate_relationship\u001b[0m\u001b[1;33m(\u001b[0m\u001b[1;33m*\u001b[0m\u001b[0mobj\u001b[0m\u001b[1;33m.\u001b[0m\u001b[0mfields\u001b[0m\u001b[1;33m)\u001b[0m\u001b[1;33m\u001b[0m\u001b[1;33m\u001b[0m\u001b[0m\n\u001b[0m\u001b[0;32m    114\u001b[0m         \u001b[1;32melif\u001b[0m \u001b[0mtag\u001b[0m \u001b[1;33m==\u001b[0m \u001b[1;36m80\u001b[0m\u001b[1;33m:\u001b[0m\u001b[1;33m\u001b[0m\u001b[1;33m\u001b[0m\u001b[0m\n\u001b[0;32m    115\u001b[0m             \u001b[1;32mreturn\u001b[0m \u001b[0mself\u001b[0m\u001b[1;33m.\u001b[0m\u001b[0m_hydrate_path\u001b[0m\u001b[1;33m(\u001b[0m\u001b[1;33m*\u001b[0m\u001b[0mobj\u001b[0m\u001b[1;33m.\u001b[0m\u001b[0mfields\u001b[0m\u001b[1;33m)\u001b[0m\u001b[1;33m\u001b[0m\u001b[1;33m\u001b[0m\u001b[0m\n",
      "\u001b[1;32mc:\\Users\\Jason\\anaconda3\\lib\\site-packages\\py2neo\\client\\bolt.py\u001b[0m in \u001b[0;36m_hydrate_relationship\u001b[1;34m(self, identity, start_node_id, end_node_id, r_type, properties)\u001b[0m\n\u001b[0;32m    128\u001b[0m         \u001b[0mstart_node\u001b[0m \u001b[1;33m=\u001b[0m \u001b[0mNode\u001b[0m\u001b[1;33m.\u001b[0m\u001b[0mref\u001b[0m\u001b[1;33m(\u001b[0m\u001b[0mself\u001b[0m\u001b[1;33m.\u001b[0m\u001b[0mgraph\u001b[0m\u001b[1;33m,\u001b[0m \u001b[0mstart_node_id\u001b[0m\u001b[1;33m)\u001b[0m\u001b[1;33m\u001b[0m\u001b[1;33m\u001b[0m\u001b[0m\n\u001b[0;32m    129\u001b[0m         \u001b[0mend_node\u001b[0m \u001b[1;33m=\u001b[0m \u001b[0mNode\u001b[0m\u001b[1;33m.\u001b[0m\u001b[0mref\u001b[0m\u001b[1;33m(\u001b[0m\u001b[0mself\u001b[0m\u001b[1;33m.\u001b[0m\u001b[0mgraph\u001b[0m\u001b[1;33m,\u001b[0m \u001b[0mend_node_id\u001b[0m\u001b[1;33m)\u001b[0m\u001b[1;33m\u001b[0m\u001b[1;33m\u001b[0m\u001b[0m\n\u001b[1;32m--> 130\u001b[1;33m         \u001b[0mrel\u001b[0m \u001b[1;33m=\u001b[0m \u001b[0mRelationship\u001b[0m\u001b[1;33m.\u001b[0m\u001b[0mref\u001b[0m\u001b[1;33m(\u001b[0m\u001b[0mself\u001b[0m\u001b[1;33m.\u001b[0m\u001b[0mgraph\u001b[0m\u001b[1;33m,\u001b[0m \u001b[0midentity\u001b[0m\u001b[1;33m,\u001b[0m \u001b[0mstart_node\u001b[0m\u001b[1;33m,\u001b[0m \u001b[0mr_type\u001b[0m\u001b[1;33m,\u001b[0m \u001b[0mend_node\u001b[0m\u001b[1;33m)\u001b[0m\u001b[1;33m\u001b[0m\u001b[1;33m\u001b[0m\u001b[0m\n\u001b[0m\u001b[0;32m    131\u001b[0m         \u001b[0mrel\u001b[0m\u001b[1;33m.\u001b[0m\u001b[0mclear\u001b[0m\u001b[1;33m(\u001b[0m\u001b[1;33m)\u001b[0m\u001b[1;33m\u001b[0m\u001b[1;33m\u001b[0m\u001b[0m\n\u001b[0;32m    132\u001b[0m         \u001b[0mrel\u001b[0m\u001b[1;33m.\u001b[0m\u001b[0mupdate\u001b[0m\u001b[1;33m(\u001b[0m\u001b[0mproperties\u001b[0m\u001b[1;33m)\u001b[0m\u001b[1;33m\u001b[0m\u001b[1;33m\u001b[0m\u001b[0m\n",
      "\u001b[1;32mc:\\Users\\Jason\\anaconda3\\lib\\site-packages\\py2neo\\data.py\u001b[0m in \u001b[0;36mref\u001b[1;34m(cls, graph, identity, *nodes)\u001b[0m\n\u001b[0;32m    807\u001b[0m     \u001b[1;33m@\u001b[0m\u001b[0mclassmethod\u001b[0m\u001b[1;33m\u001b[0m\u001b[1;33m\u001b[0m\u001b[0m\n\u001b[0;32m    808\u001b[0m     \u001b[1;32mdef\u001b[0m \u001b[0mref\u001b[0m\u001b[1;33m(\u001b[0m\u001b[0mcls\u001b[0m\u001b[1;33m,\u001b[0m \u001b[0mgraph\u001b[0m\u001b[1;33m,\u001b[0m \u001b[0midentity\u001b[0m\u001b[1;33m,\u001b[0m \u001b[1;33m*\u001b[0m\u001b[0mnodes\u001b[0m\u001b[1;33m)\u001b[0m\u001b[1;33m:\u001b[0m\u001b[1;33m\u001b[0m\u001b[1;33m\u001b[0m\u001b[0m\n\u001b[1;32m--> 809\u001b[1;33m         \u001b[0mobj\u001b[0m \u001b[1;33m=\u001b[0m \u001b[0mcls\u001b[0m\u001b[1;33m(\u001b[0m\u001b[1;33m*\u001b[0m\u001b[0mnodes\u001b[0m\u001b[1;33m)\u001b[0m\u001b[1;33m\u001b[0m\u001b[1;33m\u001b[0m\u001b[0m\n\u001b[0m\u001b[0;32m    810\u001b[0m         \u001b[0mobj\u001b[0m\u001b[1;33m.\u001b[0m\u001b[0mgraph\u001b[0m \u001b[1;33m=\u001b[0m \u001b[0mgraph\u001b[0m\u001b[1;33m\u001b[0m\u001b[1;33m\u001b[0m\u001b[0m\n\u001b[0;32m    811\u001b[0m         \u001b[0mobj\u001b[0m\u001b[1;33m.\u001b[0m\u001b[0midentity\u001b[0m \u001b[1;33m=\u001b[0m \u001b[0midentity\u001b[0m\u001b[1;33m\u001b[0m\u001b[1;33m\u001b[0m\u001b[0m\n",
      "\u001b[1;32mc:\\Users\\Jason\\anaconda3\\lib\\site-packages\\py2neo\\data.py\u001b[0m in \u001b[0;36m__init__\u001b[1;34m(self, *nodes, **properties)\u001b[0m\n\u001b[0;32m    845\u001b[0m         \u001b[1;32melse\u001b[0m\u001b[1;33m:\u001b[0m\u001b[1;33m\u001b[0m\u001b[1;33m\u001b[0m\u001b[0m\n\u001b[0;32m    846\u001b[0m             \u001b[1;32mraise\u001b[0m \u001b[0mTypeError\u001b[0m\u001b[1;33m(\u001b[0m\u001b[1;34m\"Hyperedges not supported\"\u001b[0m\u001b[1;33m)\u001b[0m\u001b[1;33m\u001b[0m\u001b[1;33m\u001b[0m\u001b[0m\n\u001b[1;32m--> 847\u001b[1;33m         \u001b[0mEntity\u001b[0m\u001b[1;33m.\u001b[0m\u001b[0m__init__\u001b[0m\u001b[1;33m(\u001b[0m\u001b[0mself\u001b[0m\u001b[1;33m,\u001b[0m \u001b[1;33m(\u001b[0m\u001b[0mn\u001b[0m\u001b[1;33m[\u001b[0m\u001b[1;36m0\u001b[0m\u001b[1;33m]\u001b[0m\u001b[1;33m,\u001b[0m \u001b[0mself\u001b[0m\u001b[1;33m,\u001b[0m \u001b[0mn\u001b[0m\u001b[1;33m[\u001b[0m\u001b[1;36m1\u001b[0m\u001b[1;33m]\u001b[0m\u001b[1;33m)\u001b[0m\u001b[1;33m,\u001b[0m \u001b[0mproperties\u001b[0m\u001b[1;33m)\u001b[0m\u001b[1;33m\u001b[0m\u001b[1;33m\u001b[0m\u001b[0m\n\u001b[0m\u001b[0;32m    848\u001b[0m \u001b[1;33m\u001b[0m\u001b[0m\n\u001b[0;32m    849\u001b[0m     \u001b[1;32mdef\u001b[0m \u001b[0m__repr__\u001b[0m\u001b[1;33m(\u001b[0m\u001b[0mself\u001b[0m\u001b[1;33m)\u001b[0m\u001b[1;33m:\u001b[0m\u001b[1;33m\u001b[0m\u001b[1;33m\u001b[0m\u001b[0m\n",
      "\u001b[1;32mc:\\Users\\Jason\\anaconda3\\lib\\site-packages\\py2neo\\data.py\u001b[0m in \u001b[0;36m__init__\u001b[1;34m(self, iterable, properties)\u001b[0m\n\u001b[0;32m    551\u001b[0m \u001b[1;33m\u001b[0m\u001b[0m\n\u001b[0;32m    552\u001b[0m     \u001b[1;32mdef\u001b[0m \u001b[0m__init__\u001b[0m\u001b[1;33m(\u001b[0m\u001b[0mself\u001b[0m\u001b[1;33m,\u001b[0m \u001b[0miterable\u001b[0m\u001b[1;33m,\u001b[0m \u001b[0mproperties\u001b[0m\u001b[1;33m)\u001b[0m\u001b[1;33m:\u001b[0m\u001b[1;33m\u001b[0m\u001b[1;33m\u001b[0m\u001b[0m\n\u001b[1;32m--> 553\u001b[1;33m         \u001b[0mWalkable\u001b[0m\u001b[1;33m.\u001b[0m\u001b[0m__init__\u001b[0m\u001b[1;33m(\u001b[0m\u001b[0mself\u001b[0m\u001b[1;33m,\u001b[0m \u001b[0miterable\u001b[0m\u001b[1;33m)\u001b[0m\u001b[1;33m\u001b[0m\u001b[1;33m\u001b[0m\u001b[0m\n\u001b[0m\u001b[0;32m    554\u001b[0m         \u001b[0mPropertyDict\u001b[0m\u001b[1;33m.\u001b[0m\u001b[0m__init__\u001b[0m\u001b[1;33m(\u001b[0m\u001b[0mself\u001b[0m\u001b[1;33m,\u001b[0m \u001b[0mproperties\u001b[0m\u001b[1;33m)\u001b[0m\u001b[1;33m\u001b[0m\u001b[1;33m\u001b[0m\u001b[0m\n\u001b[0;32m    555\u001b[0m         \u001b[0muuid\u001b[0m \u001b[1;33m=\u001b[0m \u001b[0mstr\u001b[0m\u001b[1;33m(\u001b[0m\u001b[0muuid4\u001b[0m\u001b[1;33m(\u001b[0m\u001b[1;33m)\u001b[0m\u001b[1;33m)\u001b[0m\u001b[1;33m\u001b[0m\u001b[1;33m\u001b[0m\u001b[0m\n",
      "\u001b[1;32mc:\\Users\\Jason\\anaconda3\\lib\\site-packages\\py2neo\\data.py\u001b[0m in \u001b[0;36m__init__\u001b[1;34m(self, iterable)\u001b[0m\n\u001b[0;32m    451\u001b[0m         \u001b[0mnodes\u001b[0m \u001b[1;33m=\u001b[0m \u001b[0mself\u001b[0m\u001b[1;33m.\u001b[0m\u001b[0m__sequence\u001b[0m\u001b[1;33m[\u001b[0m\u001b[1;36m0\u001b[0m\u001b[1;33m:\u001b[0m\u001b[1;33m:\u001b[0m\u001b[1;36m2\u001b[0m\u001b[1;33m]\u001b[0m\u001b[1;33m\u001b[0m\u001b[1;33m\u001b[0m\u001b[0m\n\u001b[0;32m    452\u001b[0m         \u001b[1;32mfor\u001b[0m \u001b[0mnode\u001b[0m \u001b[1;32min\u001b[0m \u001b[0mnodes\u001b[0m\u001b[1;33m:\u001b[0m\u001b[1;33m\u001b[0m\u001b[1;33m\u001b[0m\u001b[0m\n\u001b[1;32m--> 453\u001b[1;33m             \u001b[0m_\u001b[0m \u001b[1;33m=\u001b[0m \u001b[0mnode\u001b[0m\u001b[1;33m.\u001b[0m\u001b[0mlabels\u001b[0m  \u001b[1;31m# ensure not stale\u001b[0m\u001b[1;33m\u001b[0m\u001b[1;33m\u001b[0m\u001b[0m\n\u001b[0m\u001b[0;32m    454\u001b[0m         \u001b[0mSubgraph\u001b[0m\u001b[1;33m.\u001b[0m\u001b[0m__init__\u001b[0m\u001b[1;33m(\u001b[0m\u001b[0mself\u001b[0m\u001b[1;33m,\u001b[0m \u001b[0mnodes\u001b[0m\u001b[1;33m,\u001b[0m \u001b[0mself\u001b[0m\u001b[1;33m.\u001b[0m\u001b[0m__sequence\u001b[0m\u001b[1;33m[\u001b[0m\u001b[1;36m1\u001b[0m\u001b[1;33m:\u001b[0m\u001b[1;33m:\u001b[0m\u001b[1;36m2\u001b[0m\u001b[1;33m]\u001b[0m\u001b[1;33m)\u001b[0m\u001b[1;33m\u001b[0m\u001b[1;33m\u001b[0m\u001b[0m\n\u001b[0;32m    455\u001b[0m \u001b[1;33m\u001b[0m\u001b[0m\n",
      "\u001b[1;32mc:\\Users\\Jason\\anaconda3\\lib\\site-packages\\py2neo\\data.py\u001b[0m in \u001b[0;36mlabels\u001b[1;34m(self)\u001b[0m\n\u001b[0;32m    716\u001b[0m         \u001b[1;33m:\u001b[0m\u001b[0mmeth\u001b[0m\u001b[1;33m:\u001b[0m\u001b[0;31m`\u001b[0m\u001b[1;33m.\u001b[0m\u001b[0mremove_label\u001b[0m\u001b[0;31m`\u001b[0m \u001b[1;32mfor\u001b[0m \u001b[0mthat\u001b[0m \u001b[0minstead\u001b[0m\u001b[1;33m.\u001b[0m\u001b[1;33m\u001b[0m\u001b[1;33m\u001b[0m\u001b[0m\n\u001b[0;32m    717\u001b[0m         \"\"\"\n\u001b[1;32m--> 718\u001b[1;33m         \u001b[0mself\u001b[0m\u001b[1;33m.\u001b[0m\u001b[0m__ensure_labels\u001b[0m\u001b[1;33m(\u001b[0m\u001b[1;33m)\u001b[0m\u001b[1;33m\u001b[0m\u001b[1;33m\u001b[0m\u001b[0m\n\u001b[0m\u001b[0;32m    719\u001b[0m         \u001b[1;32mreturn\u001b[0m \u001b[0mLabelSetView\u001b[0m\u001b[1;33m(\u001b[0m\u001b[0mself\u001b[0m\u001b[1;33m.\u001b[0m\u001b[0m_labels\u001b[0m\u001b[1;33m)\u001b[0m\u001b[1;33m\u001b[0m\u001b[1;33m\u001b[0m\u001b[0m\n\u001b[0;32m    720\u001b[0m \u001b[1;33m\u001b[0m\u001b[0m\n",
      "\u001b[1;32mc:\\Users\\Jason\\anaconda3\\lib\\site-packages\\py2neo\\data.py\u001b[0m in \u001b[0;36m__ensure_labels\u001b[1;34m(self)\u001b[0m\n\u001b[0;32m    701\u001b[0m     \u001b[1;32mdef\u001b[0m \u001b[0m__ensure_labels\u001b[0m\u001b[1;33m(\u001b[0m\u001b[0mself\u001b[0m\u001b[1;33m)\u001b[0m\u001b[1;33m:\u001b[0m\u001b[1;33m\u001b[0m\u001b[1;33m\u001b[0m\u001b[0m\n\u001b[0;32m    702\u001b[0m         \u001b[1;32mif\u001b[0m \u001b[0mself\u001b[0m\u001b[1;33m.\u001b[0m\u001b[0mgraph\u001b[0m \u001b[1;32mis\u001b[0m \u001b[1;32mnot\u001b[0m \u001b[1;32mNone\u001b[0m \u001b[1;32mand\u001b[0m \u001b[0mself\u001b[0m\u001b[1;33m.\u001b[0m\u001b[0midentity\u001b[0m \u001b[1;32mis\u001b[0m \u001b[1;32mnot\u001b[0m \u001b[1;32mNone\u001b[0m \u001b[1;32mand\u001b[0m \u001b[1;34m\"labels\"\u001b[0m \u001b[1;32min\u001b[0m \u001b[0mself\u001b[0m\u001b[1;33m.\u001b[0m\u001b[0m_stale\u001b[0m\u001b[1;33m:\u001b[0m\u001b[1;33m\u001b[0m\u001b[1;33m\u001b[0m\u001b[0m\n\u001b[1;32m--> 703\u001b[1;33m             \u001b[0mself\u001b[0m\u001b[1;33m.\u001b[0m\u001b[0mgraph\u001b[0m\u001b[1;33m.\u001b[0m\u001b[0mpull\u001b[0m\u001b[1;33m(\u001b[0m\u001b[0mself\u001b[0m\u001b[1;33m)\u001b[0m\u001b[1;33m\u001b[0m\u001b[1;33m\u001b[0m\u001b[0m\n\u001b[0m\u001b[0;32m    704\u001b[0m \u001b[1;33m\u001b[0m\u001b[0m\n\u001b[0;32m    705\u001b[0m     \u001b[1;32mdef\u001b[0m \u001b[0mkeys\u001b[0m\u001b[1;33m(\u001b[0m\u001b[0mself\u001b[0m\u001b[1;33m)\u001b[0m\u001b[1;33m:\u001b[0m\u001b[1;33m\u001b[0m\u001b[1;33m\u001b[0m\u001b[0m\n",
      "\u001b[1;32mc:\\Users\\Jason\\anaconda3\\lib\\site-packages\\py2neo\\database.py\u001b[0m in \u001b[0;36mpull\u001b[1;34m(self, subgraph)\u001b[0m\n\u001b[0;32m    707\u001b[0m         \u001b[1;33m:\u001b[0m\u001b[0mparam\u001b[0m \u001b[0msubgraph\u001b[0m\u001b[1;33m:\u001b[0m \u001b[0mthe\u001b[0m \u001b[0mcollection\u001b[0m \u001b[0mof\u001b[0m \u001b[0mnodes\u001b[0m \u001b[1;32mand\u001b[0m \u001b[0mrelationships\u001b[0m \u001b[0mto\u001b[0m \u001b[0mpull\u001b[0m\u001b[1;33m\u001b[0m\u001b[1;33m\u001b[0m\u001b[0m\n\u001b[0;32m    708\u001b[0m         \"\"\"\n\u001b[1;32m--> 709\u001b[1;33m         \u001b[0mself\u001b[0m\u001b[1;33m.\u001b[0m\u001b[0mupdate\u001b[0m\u001b[1;33m(\u001b[0m\u001b[1;32mlambda\u001b[0m \u001b[0mtx\u001b[0m\u001b[1;33m:\u001b[0m \u001b[0mtx\u001b[0m\u001b[1;33m.\u001b[0m\u001b[0mpull\u001b[0m\u001b[1;33m(\u001b[0m\u001b[0msubgraph\u001b[0m\u001b[1;33m)\u001b[0m\u001b[1;33m)\u001b[0m\u001b[1;33m\u001b[0m\u001b[1;33m\u001b[0m\u001b[0m\n\u001b[0m\u001b[0;32m    710\u001b[0m \u001b[1;33m\u001b[0m\u001b[0m\n\u001b[0;32m    711\u001b[0m     \u001b[1;32mdef\u001b[0m \u001b[0mpush\u001b[0m\u001b[1;33m(\u001b[0m\u001b[0mself\u001b[0m\u001b[1;33m,\u001b[0m \u001b[0msubgraph\u001b[0m\u001b[1;33m)\u001b[0m\u001b[1;33m:\u001b[0m\u001b[1;33m\u001b[0m\u001b[1;33m\u001b[0m\u001b[0m\n",
      "\u001b[1;32mc:\\Users\\Jason\\anaconda3\\lib\\site-packages\\py2neo\\database.py\u001b[0m in \u001b[0;36mupdate\u001b[1;34m(self, cypher, parameters, timeout)\u001b[0m\n\u001b[0;32m    443\u001b[0m         \u001b[1;32mif\u001b[0m \u001b[0mcallable\u001b[0m\u001b[1;33m(\u001b[0m\u001b[0mcypher\u001b[0m\u001b[1;33m)\u001b[0m\u001b[1;33m:\u001b[0m\u001b[1;33m\u001b[0m\u001b[1;33m\u001b[0m\u001b[0m\n\u001b[0;32m    444\u001b[0m             \u001b[1;32mif\u001b[0m \u001b[0mparameters\u001b[0m \u001b[1;32mis\u001b[0m \u001b[1;32mNone\u001b[0m\u001b[1;33m:\u001b[0m\u001b[1;33m\u001b[0m\u001b[1;33m\u001b[0m\u001b[0m\n\u001b[1;32m--> 445\u001b[1;33m                 \u001b[0mself\u001b[0m\u001b[1;33m.\u001b[0m\u001b[0m_update\u001b[0m\u001b[1;33m(\u001b[0m\u001b[0mcypher\u001b[0m\u001b[1;33m,\u001b[0m \u001b[0mtimeout\u001b[0m\u001b[1;33m=\u001b[0m\u001b[0mtimeout\u001b[0m\u001b[1;33m)\u001b[0m\u001b[1;33m\u001b[0m\u001b[1;33m\u001b[0m\u001b[0m\n\u001b[0m\u001b[0;32m    446\u001b[0m             elif (isinstance(parameters, tuple) and len(parameters) == 2 and\n\u001b[0;32m    447\u001b[0m                     isinstance(parameters[0], Sequence) and isinstance(parameters[1], Mapping)):\n",
      "\u001b[1;32mc:\\Users\\Jason\\anaconda3\\lib\\site-packages\\py2neo\\database.py\u001b[0m in \u001b[0;36m_update\u001b[1;34m(self, f, timeout)\u001b[0m\n\u001b[0;32m    468\u001b[0m                                 \u001b[1;31m# after=after, metadata=metadata, timeout=timeout\u001b[0m\u001b[1;33m\u001b[0m\u001b[1;33m\u001b[0m\u001b[0m\n\u001b[0;32m    469\u001b[0m                                 )\n\u001b[1;32m--> 470\u001b[1;33m                 \u001b[0mvalue\u001b[0m \u001b[1;33m=\u001b[0m \u001b[0mf\u001b[0m\u001b[1;33m(\u001b[0m\u001b[0mtx\u001b[0m\u001b[1;33m)\u001b[0m\u001b[1;33m\u001b[0m\u001b[1;33m\u001b[0m\u001b[0m\n\u001b[0m\u001b[0;32m    471\u001b[0m                 \u001b[1;32mif\u001b[0m \u001b[0misgenerator\u001b[0m\u001b[1;33m(\u001b[0m\u001b[0mvalue\u001b[0m\u001b[1;33m)\u001b[0m\u001b[1;33m:\u001b[0m\u001b[1;33m\u001b[0m\u001b[1;33m\u001b[0m\u001b[0m\n\u001b[0;32m    472\u001b[0m                     \u001b[0m_\u001b[0m \u001b[1;33m=\u001b[0m \u001b[0mlist\u001b[0m\u001b[1;33m(\u001b[0m\u001b[0mvalue\u001b[0m\u001b[1;33m)\u001b[0m     \u001b[1;31m# exhaust the generator\u001b[0m\u001b[1;33m\u001b[0m\u001b[1;33m\u001b[0m\u001b[0m\n",
      "\u001b[1;32mc:\\Users\\Jason\\anaconda3\\lib\\site-packages\\py2neo\\database.py\u001b[0m in \u001b[0;36m<lambda>\u001b[1;34m(tx)\u001b[0m\n\u001b[0;32m    707\u001b[0m         \u001b[1;33m:\u001b[0m\u001b[0mparam\u001b[0m \u001b[0msubgraph\u001b[0m\u001b[1;33m:\u001b[0m \u001b[0mthe\u001b[0m \u001b[0mcollection\u001b[0m \u001b[0mof\u001b[0m \u001b[0mnodes\u001b[0m \u001b[1;32mand\u001b[0m \u001b[0mrelationships\u001b[0m \u001b[0mto\u001b[0m \u001b[0mpull\u001b[0m\u001b[1;33m\u001b[0m\u001b[1;33m\u001b[0m\u001b[0m\n\u001b[0;32m    708\u001b[0m         \"\"\"\n\u001b[1;32m--> 709\u001b[1;33m         \u001b[0mself\u001b[0m\u001b[1;33m.\u001b[0m\u001b[0mupdate\u001b[0m\u001b[1;33m(\u001b[0m\u001b[1;32mlambda\u001b[0m \u001b[0mtx\u001b[0m\u001b[1;33m:\u001b[0m \u001b[0mtx\u001b[0m\u001b[1;33m.\u001b[0m\u001b[0mpull\u001b[0m\u001b[1;33m(\u001b[0m\u001b[0msubgraph\u001b[0m\u001b[1;33m)\u001b[0m\u001b[1;33m)\u001b[0m\u001b[1;33m\u001b[0m\u001b[1;33m\u001b[0m\u001b[0m\n\u001b[0m\u001b[0;32m    710\u001b[0m \u001b[1;33m\u001b[0m\u001b[0m\n\u001b[0;32m    711\u001b[0m     \u001b[1;32mdef\u001b[0m \u001b[0mpush\u001b[0m\u001b[1;33m(\u001b[0m\u001b[0mself\u001b[0m\u001b[1;33m,\u001b[0m \u001b[0msubgraph\u001b[0m\u001b[1;33m)\u001b[0m\u001b[1;33m:\u001b[0m\u001b[1;33m\u001b[0m\u001b[1;33m\u001b[0m\u001b[0m\n",
      "\u001b[1;32mc:\\Users\\Jason\\anaconda3\\lib\\site-packages\\py2neo\\database.py\u001b[0m in \u001b[0;36mpull\u001b[1;34m(self, subgraph)\u001b[0m\n\u001b[0;32m   1148\u001b[0m             \u001b[1;32mraise\u001b[0m \u001b[0mTypeError\u001b[0m\u001b[1;33m(\u001b[0m\u001b[1;34m\"No method defined to pull object %r\"\u001b[0m \u001b[1;33m%\u001b[0m \u001b[0msubgraph\u001b[0m\u001b[1;33m)\u001b[0m\u001b[1;33m\u001b[0m\u001b[1;33m\u001b[0m\u001b[0m\n\u001b[0;32m   1149\u001b[0m         \u001b[1;32melse\u001b[0m\u001b[1;33m:\u001b[0m\u001b[1;33m\u001b[0m\u001b[1;33m\u001b[0m\u001b[0m\n\u001b[1;32m-> 1150\u001b[1;33m             \u001b[1;32mreturn\u001b[0m \u001b[0mpull\u001b[0m\u001b[1;33m(\u001b[0m\u001b[0mself\u001b[0m\u001b[1;33m)\u001b[0m\u001b[1;33m\u001b[0m\u001b[1;33m\u001b[0m\u001b[0m\n\u001b[0m\u001b[0;32m   1151\u001b[0m \u001b[1;33m\u001b[0m\u001b[0m\n\u001b[0;32m   1152\u001b[0m     \u001b[1;32mdef\u001b[0m \u001b[0mpush\u001b[0m\u001b[1;33m(\u001b[0m\u001b[0mself\u001b[0m\u001b[1;33m,\u001b[0m \u001b[0msubgraph\u001b[0m\u001b[1;33m)\u001b[0m\u001b[1;33m:\u001b[0m\u001b[1;33m\u001b[0m\u001b[1;33m\u001b[0m\u001b[0m\n",
      "\u001b[1;32mc:\\Users\\Jason\\anaconda3\\lib\\site-packages\\py2neo\\data.py\u001b[0m in \u001b[0;36m__db_pull__\u001b[1;34m(self, tx)\u001b[0m\n\u001b[0;32m    347\u001b[0m             \u001b[1;32mif\u001b[0m \u001b[0mself\u001b[0m\u001b[1;33m.\u001b[0m\u001b[0m_is_bound\u001b[0m\u001b[1;33m(\u001b[0m\u001b[0mnode\u001b[0m\u001b[1;33m,\u001b[0m \u001b[0mtx\u001b[0m\u001b[1;33m.\u001b[0m\u001b[0mgraph\u001b[0m\u001b[1;33m)\u001b[0m\u001b[1;33m:\u001b[0m\u001b[1;33m\u001b[0m\u001b[1;33m\u001b[0m\u001b[0m\n\u001b[0;32m    348\u001b[0m                 \u001b[0mnodes\u001b[0m\u001b[1;33m[\u001b[0m\u001b[0mnode\u001b[0m\u001b[1;33m.\u001b[0m\u001b[0midentity\u001b[0m\u001b[1;33m]\u001b[0m \u001b[1;33m=\u001b[0m \u001b[0mnode\u001b[0m\u001b[1;33m\u001b[0m\u001b[1;33m\u001b[0m\u001b[0m\n\u001b[1;32m--> 349\u001b[1;33m         query = tx.run(\"MATCH (_) WHERE id(_) in $x \"\n\u001b[0m\u001b[0;32m    350\u001b[0m                        \"RETURN id(_), labels(_), properties(_)\", x=list(nodes.keys()))\n\u001b[0;32m    351\u001b[0m         \u001b[1;32mfor\u001b[0m \u001b[0midentity\u001b[0m\u001b[1;33m,\u001b[0m \u001b[0mnew_labels\u001b[0m\u001b[1;33m,\u001b[0m \u001b[0mnew_properties\u001b[0m \u001b[1;32min\u001b[0m \u001b[0mquery\u001b[0m\u001b[1;33m:\u001b[0m\u001b[1;33m\u001b[0m\u001b[1;33m\u001b[0m\u001b[0m\n",
      "\u001b[1;32mc:\\Users\\Jason\\anaconda3\\lib\\site-packages\\py2neo\\database.py\u001b[0m in \u001b[0;36mrun\u001b[1;34m(self, cypher, parameters, **kwparameters)\u001b[0m\n\u001b[0;32m    990\u001b[0m                                                   \u001b[0mgraph_name\u001b[0m\u001b[1;33m=\u001b[0m\u001b[0mself\u001b[0m\u001b[1;33m.\u001b[0m\u001b[0mgraph\u001b[0m\u001b[1;33m.\u001b[0m\u001b[0mname\u001b[0m\u001b[1;33m,\u001b[0m\u001b[1;33m\u001b[0m\u001b[1;33m\u001b[0m\u001b[0m\n\u001b[0;32m    991\u001b[0m                                                   readonly=self.readonly)\n\u001b[1;32m--> 992\u001b[1;33m             \u001b[0mself\u001b[0m\u001b[1;33m.\u001b[0m\u001b[0m_connector\u001b[0m\u001b[1;33m.\u001b[0m\u001b[0mpull\u001b[0m\u001b[1;33m(\u001b[0m\u001b[0mresult\u001b[0m\u001b[1;33m,\u001b[0m \u001b[1;33m-\u001b[0m\u001b[1;36m1\u001b[0m\u001b[1;33m)\u001b[0m\u001b[1;33m\u001b[0m\u001b[1;33m\u001b[0m\u001b[0m\n\u001b[0m\u001b[0;32m    993\u001b[0m             \u001b[1;32mreturn\u001b[0m \u001b[0mCursor\u001b[0m\u001b[1;33m(\u001b[0m\u001b[0mresult\u001b[0m\u001b[1;33m,\u001b[0m \u001b[0mhydrant\u001b[0m\u001b[1;33m)\u001b[0m\u001b[1;33m\u001b[0m\u001b[1;33m\u001b[0m\u001b[0m\n\u001b[0;32m    994\u001b[0m         \u001b[1;32mfinally\u001b[0m\u001b[1;33m:\u001b[0m\u001b[1;33m\u001b[0m\u001b[1;33m\u001b[0m\u001b[0m\n",
      "\u001b[1;32mc:\\Users\\Jason\\anaconda3\\lib\\site-packages\\py2neo\\client\\__init__.py\u001b[0m in \u001b[0;36mpull\u001b[1;34m(self, result, n)\u001b[0m\n\u001b[0;32m   1432\u001b[0m         \u001b[0mcx\u001b[0m \u001b[1;33m=\u001b[0m \u001b[0mself\u001b[0m\u001b[1;33m.\u001b[0m\u001b[0m_reacquire\u001b[0m\u001b[1;33m(\u001b[0m\u001b[0mresult\u001b[0m\u001b[1;33m.\u001b[0m\u001b[0mtransaction\u001b[0m\u001b[1;33m)\u001b[0m\u001b[1;33m\u001b[0m\u001b[1;33m\u001b[0m\u001b[0m\n\u001b[0;32m   1433\u001b[0m         \u001b[1;32mtry\u001b[0m\u001b[1;33m:\u001b[0m\u001b[1;33m\u001b[0m\u001b[1;33m\u001b[0m\u001b[0m\n\u001b[1;32m-> 1434\u001b[1;33m             \u001b[0mcx\u001b[0m\u001b[1;33m.\u001b[0m\u001b[0mpull\u001b[0m\u001b[1;33m(\u001b[0m\u001b[0mresult\u001b[0m\u001b[1;33m,\u001b[0m \u001b[0mn\u001b[0m\u001b[1;33m=\u001b[0m\u001b[0mn\u001b[0m\u001b[1;33m)\u001b[0m\u001b[1;33m\u001b[0m\u001b[1;33m\u001b[0m\u001b[0m\n\u001b[0m\u001b[0;32m   1435\u001b[0m         \u001b[1;32mexcept\u001b[0m \u001b[1;33m(\u001b[0m\u001b[0mConnectionUnavailable\u001b[0m\u001b[1;33m,\u001b[0m \u001b[0mConnectionBroken\u001b[0m\u001b[1;33m)\u001b[0m\u001b[1;33m:\u001b[0m\u001b[1;33m\u001b[0m\u001b[1;33m\u001b[0m\u001b[0m\n\u001b[0;32m   1436\u001b[0m             \u001b[0mself\u001b[0m\u001b[1;33m.\u001b[0m\u001b[0mprune\u001b[0m\u001b[1;33m(\u001b[0m\u001b[0mcx\u001b[0m\u001b[1;33m.\u001b[0m\u001b[0mprofile\u001b[0m\u001b[1;33m)\u001b[0m\u001b[1;33m\u001b[0m\u001b[1;33m\u001b[0m\u001b[0m\n",
      "\u001b[1;32mc:\\Users\\Jason\\anaconda3\\lib\\site-packages\\py2neo\\client\\bolt.py\u001b[0m in \u001b[0;36mpull\u001b[1;34m(self, result, n, capacity)\u001b[0m\n\u001b[0;32m    993\u001b[0m         \u001b[0mresult\u001b[0m\u001b[1;33m.\u001b[0m\u001b[0mappend\u001b[0m\u001b[1;33m(\u001b[0m\u001b[0mresponse\u001b[0m\u001b[1;33m,\u001b[0m \u001b[0mfinal\u001b[0m\u001b[1;33m=\u001b[0m\u001b[1;33m(\u001b[0m\u001b[0mn\u001b[0m \u001b[1;33m==\u001b[0m \u001b[1;33m-\u001b[0m\u001b[1;36m1\u001b[0m\u001b[1;33m)\u001b[0m\u001b[1;33m)\u001b[0m\u001b[1;33m\u001b[0m\u001b[1;33m\u001b[0m\u001b[0m\n\u001b[0;32m    994\u001b[0m         \u001b[1;32mtry\u001b[0m\u001b[1;33m:\u001b[0m\u001b[1;33m\u001b[0m\u001b[1;33m\u001b[0m\u001b[0m\n\u001b[1;32m--> 995\u001b[1;33m             \u001b[0mself\u001b[0m\u001b[1;33m.\u001b[0m\u001b[0m_sync\u001b[0m\u001b[1;33m(\u001b[0m\u001b[0mresponse\u001b[0m\u001b[1;33m)\u001b[0m\u001b[1;33m\u001b[0m\u001b[1;33m\u001b[0m\u001b[0m\n\u001b[0m\u001b[0;32m    996\u001b[0m         \u001b[1;32mexcept\u001b[0m \u001b[0mBrokenWireError\u001b[0m \u001b[1;32mas\u001b[0m \u001b[0merror\u001b[0m\u001b[1;33m:\u001b[0m\u001b[1;33m\u001b[0m\u001b[1;33m\u001b[0m\u001b[0m\n\u001b[0;32m    997\u001b[0m             \u001b[0mresult\u001b[0m\u001b[1;33m.\u001b[0m\u001b[0mtransaction\u001b[0m\u001b[1;33m.\u001b[0m\u001b[0mmark_broken\u001b[0m\u001b[1;33m(\u001b[0m\u001b[1;33m)\u001b[0m\u001b[1;33m\u001b[0m\u001b[1;33m\u001b[0m\u001b[0m\n",
      "\u001b[1;32mc:\\Users\\Jason\\anaconda3\\lib\\site-packages\\py2neo\\client\\bolt.py\u001b[0m in \u001b[0;36m_sync\u001b[1;34m(self, *responses)\u001b[0m\n\u001b[0;32m    797\u001b[0m         \u001b[0mself\u001b[0m\u001b[1;33m.\u001b[0m\u001b[0msend\u001b[0m\u001b[1;33m(\u001b[0m\u001b[1;33m)\u001b[0m\u001b[1;33m\u001b[0m\u001b[1;33m\u001b[0m\u001b[0m\n\u001b[0;32m    798\u001b[0m         \u001b[1;32mfor\u001b[0m \u001b[0mresponse\u001b[0m \u001b[1;32min\u001b[0m \u001b[0mresponses\u001b[0m\u001b[1;33m:\u001b[0m\u001b[1;33m\u001b[0m\u001b[1;33m\u001b[0m\u001b[0m\n\u001b[1;32m--> 799\u001b[1;33m             \u001b[0mself\u001b[0m\u001b[1;33m.\u001b[0m\u001b[0m_wait\u001b[0m\u001b[1;33m(\u001b[0m\u001b[0mresponse\u001b[0m\u001b[1;33m)\u001b[0m\u001b[1;33m\u001b[0m\u001b[1;33m\u001b[0m\u001b[0m\n\u001b[0m\u001b[0;32m    800\u001b[0m \u001b[1;33m\u001b[0m\u001b[0m\n\u001b[0;32m    801\u001b[0m     \u001b[1;32mdef\u001b[0m \u001b[0m_audit\u001b[0m\u001b[1;33m(\u001b[0m\u001b[0mself\u001b[0m\u001b[1;33m,\u001b[0m \u001b[0mtask\u001b[0m\u001b[1;33m)\u001b[0m\u001b[1;33m:\u001b[0m\u001b[1;33m\u001b[0m\u001b[1;33m\u001b[0m\u001b[0m\n",
      "\u001b[1;32mc:\\Users\\Jason\\anaconda3\\lib\\site-packages\\py2neo\\client\\bolt.py\u001b[0m in \u001b[0;36m_wait\u001b[1;34m(self, response)\u001b[0m\n\u001b[0;32m    792\u001b[0m         \"\"\"\n\u001b[0;32m    793\u001b[0m         \u001b[1;32mwhile\u001b[0m \u001b[1;32mnot\u001b[0m \u001b[0mresponse\u001b[0m\u001b[1;33m.\u001b[0m\u001b[0mfull\u001b[0m\u001b[1;33m(\u001b[0m\u001b[1;33m)\u001b[0m \u001b[1;32mand\u001b[0m \u001b[1;32mnot\u001b[0m \u001b[0mresponse\u001b[0m\u001b[1;33m.\u001b[0m\u001b[0mdone\u001b[0m\u001b[1;33m(\u001b[0m\u001b[1;33m)\u001b[0m\u001b[1;33m:\u001b[0m\u001b[1;33m\u001b[0m\u001b[1;33m\u001b[0m\u001b[0m\n\u001b[1;32m--> 794\u001b[1;33m             \u001b[0mself\u001b[0m\u001b[1;33m.\u001b[0m\u001b[0m_fetch\u001b[0m\u001b[1;33m(\u001b[0m\u001b[1;33m)\u001b[0m\u001b[1;33m\u001b[0m\u001b[1;33m\u001b[0m\u001b[0m\n\u001b[0m\u001b[0;32m    795\u001b[0m \u001b[1;33m\u001b[0m\u001b[0m\n\u001b[0;32m    796\u001b[0m     \u001b[1;32mdef\u001b[0m \u001b[0m_sync\u001b[0m\u001b[1;33m(\u001b[0m\u001b[0mself\u001b[0m\u001b[1;33m,\u001b[0m \u001b[1;33m*\u001b[0m\u001b[0mresponses\u001b[0m\u001b[1;33m)\u001b[0m\u001b[1;33m:\u001b[0m\u001b[1;33m\u001b[0m\u001b[1;33m\u001b[0m\u001b[0m\n",
      "\u001b[1;32mc:\\Users\\Jason\\anaconda3\\lib\\site-packages\\py2neo\\client\\bolt.py\u001b[0m in \u001b[0;36m_fetch\u001b[1;34m(self)\u001b[0m\n\u001b[0;32m    767\u001b[0m         \u001b[0mfailed\u001b[0m \u001b[0mstate\u001b[0m \u001b[0minto\u001b[0m \u001b[0man\u001b[0m \u001b[0mexception\u001b[0m\u001b[1;33m.\u001b[0m\u001b[1;33m\u001b[0m\u001b[1;33m\u001b[0m\u001b[0m\n\u001b[0;32m    768\u001b[0m         \"\"\"\n\u001b[1;32m--> 769\u001b[1;33m         \u001b[0mtag\u001b[0m\u001b[1;33m,\u001b[0m \u001b[0mfields\u001b[0m \u001b[1;33m=\u001b[0m \u001b[0mself\u001b[0m\u001b[1;33m.\u001b[0m\u001b[0mread_message\u001b[0m\u001b[1;33m(\u001b[0m\u001b[1;33m)\u001b[0m\u001b[1;33m\u001b[0m\u001b[1;33m\u001b[0m\u001b[0m\n\u001b[0m\u001b[0;32m    770\u001b[0m         \u001b[1;32mif\u001b[0m \u001b[0mtag\u001b[0m \u001b[1;33m==\u001b[0m \u001b[1;36m0x70\u001b[0m\u001b[1;33m:\u001b[0m\u001b[1;33m\u001b[0m\u001b[1;33m\u001b[0m\u001b[0m\n\u001b[0;32m    771\u001b[0m             \u001b[0mself\u001b[0m\u001b[1;33m.\u001b[0m\u001b[0m_responses\u001b[0m\u001b[1;33m.\u001b[0m\u001b[0mpopleft\u001b[0m\u001b[1;33m(\u001b[0m\u001b[1;33m)\u001b[0m\u001b[1;33m.\u001b[0m\u001b[0mset_success\u001b[0m\u001b[1;33m(\u001b[0m\u001b[1;33m**\u001b[0m\u001b[0mfields\u001b[0m\u001b[1;33m[\u001b[0m\u001b[1;36m0\u001b[0m\u001b[1;33m]\u001b[0m\u001b[1;33m)\u001b[0m\u001b[1;33m\u001b[0m\u001b[1;33m\u001b[0m\u001b[0m\n",
      "\u001b[1;32mc:\\Users\\Jason\\anaconda3\\lib\\site-packages\\py2neo\\client\\bolt.py\u001b[0m in \u001b[0;36mread_message\u001b[1;34m(self)\u001b[0m\n\u001b[0;32m    694\u001b[0m \u001b[1;33m\u001b[0m\u001b[0m\n\u001b[0;32m    695\u001b[0m     \u001b[1;32mdef\u001b[0m \u001b[0mread_message\u001b[0m\u001b[1;33m(\u001b[0m\u001b[0mself\u001b[0m\u001b[1;33m)\u001b[0m\u001b[1;33m:\u001b[0m\u001b[1;33m\u001b[0m\u001b[1;33m\u001b[0m\u001b[0m\n\u001b[1;32m--> 696\u001b[1;33m         \u001b[0mtag\u001b[0m\u001b[1;33m,\u001b[0m \u001b[0mfields\u001b[0m \u001b[1;33m=\u001b[0m \u001b[0mself\u001b[0m\u001b[1;33m.\u001b[0m\u001b[0m_reader\u001b[0m\u001b[1;33m.\u001b[0m\u001b[0mread_message\u001b[0m\u001b[1;33m(\u001b[0m\u001b[1;33m)\u001b[0m\u001b[1;33m\u001b[0m\u001b[1;33m\u001b[0m\u001b[0m\n\u001b[0m\u001b[0;32m    697\u001b[0m         \u001b[1;32mif\u001b[0m \u001b[0mtag\u001b[0m \u001b[1;33m==\u001b[0m \u001b[1;36m0x71\u001b[0m\u001b[1;33m:\u001b[0m\u001b[1;33m\u001b[0m\u001b[1;33m\u001b[0m\u001b[0m\n\u001b[0;32m    698\u001b[0m             \u001b[1;31m# If a RECORD is received, check for more records\u001b[0m\u001b[1;33m\u001b[0m\u001b[1;33m\u001b[0m\u001b[0m\n",
      "\u001b[1;32mc:\\Users\\Jason\\anaconda3\\lib\\site-packages\\py2neo\\client\\bolt.py\u001b[0m in \u001b[0;36mread_message\u001b[1;34m(self)\u001b[0m\n\u001b[0;32m    154\u001b[0m         \u001b[1;32mwhile\u001b[0m \u001b[1;32mTrue\u001b[0m\u001b[1;33m:\u001b[0m\u001b[1;33m\u001b[0m\u001b[1;33m\u001b[0m\u001b[0m\n\u001b[0;32m    155\u001b[0m             \u001b[1;32mtry\u001b[0m\u001b[1;33m:\u001b[0m\u001b[1;33m\u001b[0m\u001b[1;33m\u001b[0m\u001b[0m\n\u001b[1;32m--> 156\u001b[1;33m                 \u001b[0mhi\u001b[0m\u001b[1;33m,\u001b[0m \u001b[0mlo\u001b[0m \u001b[1;33m=\u001b[0m \u001b[0mself\u001b[0m\u001b[1;33m.\u001b[0m\u001b[0mwire\u001b[0m\u001b[1;33m.\u001b[0m\u001b[0mread\u001b[0m\u001b[1;33m(\u001b[0m\u001b[1;36m2\u001b[0m\u001b[1;33m)\u001b[0m\u001b[1;33m\u001b[0m\u001b[1;33m\u001b[0m\u001b[0m\n\u001b[0m\u001b[0;32m    157\u001b[0m             \u001b[1;32mexcept\u001b[0m \u001b[0mWireError\u001b[0m \u001b[1;32mas\u001b[0m \u001b[0merror\u001b[0m\u001b[1;33m:\u001b[0m\u001b[1;33m\u001b[0m\u001b[1;33m\u001b[0m\u001b[0m\n\u001b[0;32m    158\u001b[0m                 \u001b[0mraise_from\u001b[0m\u001b[1;33m(\u001b[0m\u001b[0mConnectionBroken\u001b[0m\u001b[1;33m(\u001b[0m\u001b[1;34m\"Failed to read message\"\u001b[0m\u001b[1;33m)\u001b[0m\u001b[1;33m,\u001b[0m \u001b[0merror\u001b[0m\u001b[1;33m)\u001b[0m\u001b[1;33m\u001b[0m\u001b[1;33m\u001b[0m\u001b[0m\n",
      "\u001b[1;32mc:\\Users\\Jason\\anaconda3\\lib\\site-packages\\py2neo\\wiring.py\u001b[0m in \u001b[0;36mread\u001b[1;34m(self, n)\u001b[0m\n\u001b[0;32m    115\u001b[0m             \u001b[0mrequested\u001b[0m \u001b[1;33m=\u001b[0m \u001b[0mmax\u001b[0m\u001b[1;33m(\u001b[0m\u001b[0mrequired\u001b[0m\u001b[1;33m,\u001b[0m \u001b[1;36m16384\u001b[0m\u001b[1;33m)\u001b[0m\u001b[1;33m\u001b[0m\u001b[1;33m\u001b[0m\u001b[0m\n\u001b[0;32m    116\u001b[0m             \u001b[1;32mtry\u001b[0m\u001b[1;33m:\u001b[0m\u001b[1;33m\u001b[0m\u001b[1;33m\u001b[0m\u001b[0m\n\u001b[1;32m--> 117\u001b[1;33m                 \u001b[0mreceived\u001b[0m \u001b[1;33m=\u001b[0m \u001b[0mself\u001b[0m\u001b[1;33m.\u001b[0m\u001b[0m__socket\u001b[0m\u001b[1;33m.\u001b[0m\u001b[0mrecv\u001b[0m\u001b[1;33m(\u001b[0m\u001b[0mrequested\u001b[0m\u001b[1;33m)\u001b[0m\u001b[1;33m\u001b[0m\u001b[1;33m\u001b[0m\u001b[0m\n\u001b[0m\u001b[0;32m    118\u001b[0m             \u001b[1;32mexcept\u001b[0m \u001b[1;33m(\u001b[0m\u001b[0mIOError\u001b[0m\u001b[1;33m,\u001b[0m \u001b[0mOSError\u001b[0m\u001b[1;33m)\u001b[0m\u001b[1;33m:\u001b[0m\u001b[1;33m\u001b[0m\u001b[1;33m\u001b[0m\u001b[0m\n\u001b[0;32m    119\u001b[0m                 \u001b[0mself\u001b[0m\u001b[1;33m.\u001b[0m\u001b[0m__mark_broken\u001b[0m\u001b[1;33m(\u001b[0m\u001b[1;34m\"Wire broken\"\u001b[0m\u001b[1;33m)\u001b[0m\u001b[1;33m\u001b[0m\u001b[1;33m\u001b[0m\u001b[0m\n",
      "\u001b[1;31mKeyboardInterrupt\u001b[0m: "
     ]
    }
   ],
   "source": [
    "#Check if Stardust and Lady Deathstrike collaborated\n",
    "\n",
    "query = \"\"\"MATCH (a:Superhero)-[r:RELATION]-(b:Superhero)\n",
    "           RETURN r, MAX(a.Total), MIN(b.Total)\"\"\"\n",
    "\n",
    "data = graph.run(query).to_data_frame()\n",
    "data\n",
    "\n",
    "#La solution arrivera bientôt..."
   ]
  },
  {
   "attachments": {},
   "cell_type": "markdown",
   "metadata": {},
   "source": [
    "**TODO 4**: Give a stats that interests you!"
   ]
  },
  {
   "cell_type": "code",
   "execution_count": null,
   "metadata": {},
   "outputs": [],
   "source": []
  },
  {
   "attachments": {},
   "cell_type": "markdown",
   "metadata": {},
   "source": [
    "**TODO 5**: Create a new db called \"master\". Create a graph from the M1 class with name and random age between 20 and 30, Group of 3 that collab (undirected relation)."
   ]
  },
  {
   "cell_type": "code",
   "execution_count": 2,
   "metadata": {},
   "outputs": [
    {
     "name": "stdout",
     "output_type": "stream",
     "text": [
      "Constraint already exists\n"
     ]
    },
    {
     "name": "stderr",
     "output_type": "stream",
     "text": [
      "100%|██████████| 29/29 [00:00<00:00, 39.39it/s]\n"
     ]
    }
   ],
   "source": [
    "import tqdm\n",
    "import py2neo\n",
    "import numpy as np\n",
    "import names\n",
    "import random\n",
    "graph = py2neo.Graph(\"bolt://localhost:11005\", auth=(\"neo4j\", \"password_tuts\"), name=\"master\")\n",
    "graph.delete_all()\n",
    "\n",
    "# Execute a query with graph.run\n",
    "# Here the query creates a \"constraint\" on the id_ of the person asking for it to be unique i.e Primary key\n",
    "try:\n",
    "    graph.run(\"CREATE CONSTRAINT ON (n:Person) ASSERT n.id_ IS UNIQUE\") #donne le nom n à la caractéristique Person\n",
    "except:\n",
    "    print(\"Constraint already exists\")\n",
    "    \n",
    "# init a list of transaction that we will commit at the same time\n",
    "transaction_list = [{\"id_\": 1,\"name\": 'Jason Morel',\"age\": 23}]\n",
    "\n",
    "for i in tqdm.tqdm(range(2, 31)):\n",
    "    id_ = i\n",
    "    name = names.get_full_name() #sert à choisir un name random\n",
    "    age = random.randint(20, 30)\n",
    "\n",
    "    # Append a dict, 1 dict per person \n",
    "    transaction_list.append({\"id_\":id_,\"name\":name,\"age\":age})\n",
    "    \n",
    "    if i == 30:\n",
    "        # To commit a list of transaction with cypher you can use the UNWIND parameter\n",
    "        # $json => json will be the argument of run with the data\n",
    "        transaction = \"UNWIND $json as data CREATE (n:Person) SET n = data\" #UNWIND -> sort tous les éléments de la liste $json\n",
    "        graph.run(transaction, json=transaction_list) #précise ce qu'est le $json\n",
    "        #print(transaction_list)\n",
    "        transaction_list = []\n",
    "\n",
    "    i += 1\n",
    "\n",
    "\n",
    "# CREATE Relation\n",
    "\n",
    "# MATCH search for the pattern described in it\n",
    "# WHERE = condition\n",
    "# CREATE an edge (node)-[:Relationtype]-(node2)\n",
    "\n",
    "for i in range(1, 31, 3):\n",
    "    query = \"\"\"MATCH (a:Person), (b:Person), (c:Person)\n",
    "    WHERE a.id_ = {} AND b.id_ = {} AND c.id_ = {}\n",
    "    CREATE (a)-[r1:COLLAB]->(b)\n",
    "    CREATE (a)-[r2:COLLAB]->(c)\n",
    "    CREATE (b)-[r3:COLLAB]->(c)\n",
    "    \"\"\".format(str(i), str(i+1), str(i+2)) \n",
    "    graph.run(query)\n",
    "\n",
    "pass\n",
    "# You can't create an undirected edge but you can have the notion of undirected edges at query time.    "
   ]
  },
  {
   "attachments": {},
   "cell_type": "markdown",
   "metadata": {},
   "source": [
    "**TODO 6**: Get the age for people YOU collaborate with."
   ]
  },
  {
   "cell_type": "code",
   "execution_count": 3,
   "metadata": {},
   "outputs": [
    {
     "data": {
      "text/html": [
       "<div>\n",
       "<style scoped>\n",
       "    .dataframe tbody tr th:only-of-type {\n",
       "        vertical-align: middle;\n",
       "    }\n",
       "\n",
       "    .dataframe tbody tr th {\n",
       "        vertical-align: top;\n",
       "    }\n",
       "\n",
       "    .dataframe thead th {\n",
       "        text-align: right;\n",
       "    }\n",
       "</style>\n",
       "<table border=\"1\" class=\"dataframe\">\n",
       "  <thead>\n",
       "    <tr style=\"text-align: right;\">\n",
       "      <th></th>\n",
       "      <th>p.name</th>\n",
       "      <th>p.age</th>\n",
       "    </tr>\n",
       "  </thead>\n",
       "  <tbody>\n",
       "    <tr>\n",
       "      <th>0</th>\n",
       "      <td>Maryann Barocio</td>\n",
       "      <td>26</td>\n",
       "    </tr>\n",
       "    <tr>\n",
       "      <th>1</th>\n",
       "      <td>Cheryl Wygant</td>\n",
       "      <td>28</td>\n",
       "    </tr>\n",
       "  </tbody>\n",
       "</table>\n",
       "</div>"
      ],
      "text/plain": [
       "            p.name  p.age\n",
       "0  Maryann Barocio     26\n",
       "1    Cheryl Wygant     28"
      ]
     },
     "execution_count": 3,
     "metadata": {},
     "output_type": "execute_result"
    }
   ],
   "source": [
    "graph = py2neo.Graph(\"bolt://localhost:11005\", auth=(\"neo4j\", \"password_tuts\"), name=\"master\")\n",
    "\n",
    "query =  \"\"\"\n",
    "MATCH (p:Person), (j:Person)\n",
    "WHERE exists((p)-[:COLLAB]-(j:Person{name:'Jason Morel'}))\n",
    "RETURN p.name, p.age\n",
    "\"\"\"\n",
    "\n",
    "data = graph.run(query).to_data_frame()\n",
    "data"
   ]
  },
  {
   "attachments": {},
   "cell_type": "markdown",
   "metadata": {},
   "source": [
    "**TODO 7**: Get nodes with age > 25."
   ]
  },
  {
   "cell_type": "code",
   "execution_count": 7,
   "metadata": {},
   "outputs": [],
   "source": [
    "import py2neo\n",
    "import pandas as pd\n",
    "\n",
    "graph = py2neo.Graph(\"bolt://localhost:11005\", auth=(\"neo4j\", \"password_tuts\"), name=\"master\")\n",
    "\n",
    "# Get unique keys to init df\n",
    "query = \"\"\"MATCH (p:Person)\n",
    "WITH p, keys(p) as pKeys\n",
    "UNWIND pKeys as Key\n",
    "RETURN distinct Key\"\"\"\n",
    "\n",
    "data = graph.run(query).to_data_frame()\n",
    "df = pd.DataFrame(columns = list(data[\"Key\"]),dtype=\"int8\")"
   ]
  },
  {
   "cell_type": "code",
   "execution_count": 8,
   "metadata": {},
   "outputs": [
    {
     "name": "stdout",
     "output_type": "stream",
     "text": [
      "    id_               name  age\n",
      "0     2    Maryann Barocio   26\n",
      "1     3      Cheryl Wygant   28\n",
      "2     6     Jon Mcclelland   27\n",
      "3     8        David Smith   27\n",
      "4     9        Joan Corlew   26\n",
      "5    10    Kathleen Mancha   29\n",
      "6    11  Geraldine Jackson   28\n",
      "7    14        Nobuko Reul   29\n",
      "8    16       Arlene Adams   29\n",
      "9    18        Mary Mckeon   27\n",
      "10   21     Jesus Stringer   30\n",
      "11   25     Robert Sturgis   28\n",
      "12   26       Scott Cocola   26\n",
      "13   28       John Sellers   26\n",
      "14   30        Lisa Stiner   26\n"
     ]
    },
    {
     "name": "stderr",
     "output_type": "stream",
     "text": [
      "C:\\Users\\Jason\\AppData\\Local\\Temp\\ipykernel_148332\\2839928845.py:12: FutureWarning: The frame.append method is deprecated and will be removed from pandas in a future version. Use pandas.concat instead.\n",
      "  df = df.append(dict(node), ignore_index=True)\n",
      "C:\\Users\\Jason\\AppData\\Local\\Temp\\ipykernel_148332\\2839928845.py:12: FutureWarning: The frame.append method is deprecated and will be removed from pandas in a future version. Use pandas.concat instead.\n",
      "  df = df.append(dict(node), ignore_index=True)\n",
      "C:\\Users\\Jason\\AppData\\Local\\Temp\\ipykernel_148332\\2839928845.py:12: FutureWarning: The frame.append method is deprecated and will be removed from pandas in a future version. Use pandas.concat instead.\n",
      "  df = df.append(dict(node), ignore_index=True)\n",
      "C:\\Users\\Jason\\AppData\\Local\\Temp\\ipykernel_148332\\2839928845.py:12: FutureWarning: The frame.append method is deprecated and will be removed from pandas in a future version. Use pandas.concat instead.\n",
      "  df = df.append(dict(node), ignore_index=True)\n",
      "C:\\Users\\Jason\\AppData\\Local\\Temp\\ipykernel_148332\\2839928845.py:12: FutureWarning: The frame.append method is deprecated and will be removed from pandas in a future version. Use pandas.concat instead.\n",
      "  df = df.append(dict(node), ignore_index=True)\n",
      "C:\\Users\\Jason\\AppData\\Local\\Temp\\ipykernel_148332\\2839928845.py:12: FutureWarning: The frame.append method is deprecated and will be removed from pandas in a future version. Use pandas.concat instead.\n",
      "  df = df.append(dict(node), ignore_index=True)\n",
      "C:\\Users\\Jason\\AppData\\Local\\Temp\\ipykernel_148332\\2839928845.py:12: FutureWarning: The frame.append method is deprecated and will be removed from pandas in a future version. Use pandas.concat instead.\n",
      "  df = df.append(dict(node), ignore_index=True)\n",
      "C:\\Users\\Jason\\AppData\\Local\\Temp\\ipykernel_148332\\2839928845.py:12: FutureWarning: The frame.append method is deprecated and will be removed from pandas in a future version. Use pandas.concat instead.\n",
      "  df = df.append(dict(node), ignore_index=True)\n",
      "C:\\Users\\Jason\\AppData\\Local\\Temp\\ipykernel_148332\\2839928845.py:12: FutureWarning: The frame.append method is deprecated and will be removed from pandas in a future version. Use pandas.concat instead.\n",
      "  df = df.append(dict(node), ignore_index=True)\n",
      "C:\\Users\\Jason\\AppData\\Local\\Temp\\ipykernel_148332\\2839928845.py:12: FutureWarning: The frame.append method is deprecated and will be removed from pandas in a future version. Use pandas.concat instead.\n",
      "  df = df.append(dict(node), ignore_index=True)\n",
      "C:\\Users\\Jason\\AppData\\Local\\Temp\\ipykernel_148332\\2839928845.py:12: FutureWarning: The frame.append method is deprecated and will be removed from pandas in a future version. Use pandas.concat instead.\n",
      "  df = df.append(dict(node), ignore_index=True)\n",
      "C:\\Users\\Jason\\AppData\\Local\\Temp\\ipykernel_148332\\2839928845.py:12: FutureWarning: The frame.append method is deprecated and will be removed from pandas in a future version. Use pandas.concat instead.\n",
      "  df = df.append(dict(node), ignore_index=True)\n",
      "C:\\Users\\Jason\\AppData\\Local\\Temp\\ipykernel_148332\\2839928845.py:12: FutureWarning: The frame.append method is deprecated and will be removed from pandas in a future version. Use pandas.concat instead.\n",
      "  df = df.append(dict(node), ignore_index=True)\n",
      "C:\\Users\\Jason\\AppData\\Local\\Temp\\ipykernel_148332\\2839928845.py:12: FutureWarning: The frame.append method is deprecated and will be removed from pandas in a future version. Use pandas.concat instead.\n",
      "  df = df.append(dict(node), ignore_index=True)\n",
      "C:\\Users\\Jason\\AppData\\Local\\Temp\\ipykernel_148332\\2839928845.py:12: FutureWarning: The frame.append method is deprecated and will be removed from pandas in a future version. Use pandas.concat instead.\n",
      "  df = df.append(dict(node), ignore_index=True)\n"
     ]
    }
   ],
   "source": [
    "graph = py2neo.Graph(\"bolt://localhost:11005\", auth=(\"neo4j\", \"password_tuts\"), name=\"master\")\n",
    "\n",
    "query =  \"\"\"\n",
    "MATCH (p:Person)\n",
    "WHERE p.age > 25\n",
    "RETURN p\n",
    "\"\"\"\n",
    "\n",
    "data = graph.run(query).to_data_frame()\n",
    "\n",
    "for node in data[\"p\"]:\n",
    "    df = df.append(dict(node), ignore_index=True)\n",
    "\n",
    "print(df.loc[:,\"id_\":\"age\"]) "
   ]
  },
  {
   "attachments": {},
   "cell_type": "markdown",
   "metadata": {},
   "source": [
    "### Real world problem:\n",
    "\n",
    "**TODO 8**: Using the downloaded data in TODO 11 of chapter III, create a collaboration network between authors for papers after 2021 (same author if same name). Insert it in neo4j in a db called \"arxiv\"."
   ]
  },
  {
   "cell_type": "code",
   "execution_count": null,
   "metadata": {},
   "outputs": [],
   "source": [
    "#Je reprends ici ce soir"
   ]
  },
  {
   "attachments": {},
   "cell_type": "markdown",
   "metadata": {},
   "source": [
    "**TODO 9**: Get the density of degrees of the collaboration network"
   ]
  },
  {
   "cell_type": "code",
   "execution_count": null,
   "metadata": {},
   "outputs": [],
   "source": []
  },
  {
   "cell_type": "markdown",
   "metadata": {},
   "source": [
    "**TODO 10**: Do a for loop for i in range(500) for each i remove nodes with a degree less than i.\n"
   ]
  },
  {
   "cell_type": "code",
   "execution_count": null,
   "metadata": {},
   "outputs": [],
   "source": []
  },
  {
   "attachments": {},
   "cell_type": "markdown",
   "metadata": {},
   "source": [
    "### Homework 3\n",
    "\n",
    "You will work again on [pubmed_last_100k.json](https://we.tl/t-6afLCDGRsg). The goal in this homework is to insert collaboration data in Neo4j and then study it using cypher queries. The following questions are meant to guide you through the process.\n",
    "\n",
    "1) Each paper has a list of author and affiliations. The first step is to create a node per author with a list of affiliation as attribute. If a name appears multiple times consider it as a single person. Create an edge between two authors if they are on the same paper. You can use any kind of operation to clean the data before inserting, you decide which preprocessing step is the most convenient.\n",
    "\n",
    "2) How many authors have more than 2 affiliations ?\n",
    "\n",
    "3) Create a density of node degrees. Do you observe a power scale law ? What does it mean ?\n",
    "\n",
    "4) Which country has seen the most international collaboration ?\n",
    "\n",
    "5) Who are the top 10 collaborators and what is their affiliation ?\n",
    "\n",
    "6) Sandbox exercise: think of a problematic and try to answer it."
   ]
  },
  {
   "attachments": {},
   "cell_type": "markdown",
   "metadata": {},
   "source": [
    "### Homework 4\n",
    "\n",
    "change the database \"neo4j\" to the database \"movie\". Go to the browser and run on the browser console :play movie-graph then copy the queries on the console and run it. Congrats you just imported a brand new sample of data. Answer the following questions with cypher queries.\n",
    "\n",
    "1) How many actors played in more than 2 movie ? Get their names and year they were born.\n",
    "\n",
    "2) In how many movies did Tom hanks play ?\n",
    "\n",
    "3) In average in how many movies do actors play in ?\n",
    "\n",
    "4) In average how many actors are there in a movie ?\n",
    "\n",
    "5) In average how many writers is needed to write a movie ?\n",
    "\n",
    "6) What is the proportion of writers that also directed the movie ?\n",
    "\n",
    "7) Do an histogram of the year of release for the movies.\n",
    "\n",
    "8) Who are the 10 actors with the most movie played in\n",
    "\n",
    "9) Delete every movie made by a director of your choosing\n",
    "\n",
    "10) Give some statistics that you find interesting.\n",
    "\n",
    "11) Sandbox exercise: think of a problematic and try to answer it."
   ]
  },
  {
   "attachments": {},
   "cell_type": "markdown",
   "metadata": {},
   "source": [
    "## Homework 5\n",
    "\n",
    "You will work on a Twitch dataset found [here](https://www.kaggle.com/andreagarritano/twitch-social-networks). The goal is to learn more about the feat&fun on Twitch. First thing to do is create the network on Neo4j. Insert the node\n",
    "from Twitch/FR_target and then the edges from Twitch/FR_edges.csv in neo4j. Answer the following using cypher queries\n",
    "\n",
    "1) Give the IDs of the top 10 streamers that have atleast one collaboration.\n",
    "\n",
    "2) Create a density of node degrees. Do you observe a power scale law ? What does it mean ?\n",
    "\n",
    "3) How many streamers has the tag \"mature\" ?\n",
    "\n",
    "4) Is the collaboration correlated to the \"mature\" tag ?\n",
    "\n",
    "5) Do partners collaborate more than non partners ?\n",
    "\n",
    "6) Sandbox exercise: think of a problematic and try to answer it.\n"
   ]
  },
  {
   "attachments": {},
   "cell_type": "markdown",
   "metadata": {},
   "source": [
    "## Homework 6 \n",
    "\n",
    "You will work on a stackoverflow dataset found [here](https://www.kaggle.com/stackoverflow/stack-overflow-tag-network). First thing to do is create the network on Neo4j. You can find the characteristics of the nodes in stack_network_nodes.csv.\n",
    "Once the node are create you can create the edges between them, you can find them in stack_network_links.csv. The weight of the edge is the column value. Answer the following making use of cypher queries.\n",
    "\n",
    "1) What are the 10 most popular keywords ?\n",
    "\n",
    "2) What are the top 10 Co-occurence ?\n",
    "\n",
    "3) How many keywords are in group 1 ?\n",
    "\n",
    "3) Is the Co-occurence correlated to the \"group\" of the keyword ?  \n",
    "\n",
    "4) Sandbox exercise: think of a problematic and try to answer it."
   ]
  },
  {
   "cell_type": "code",
   "execution_count": null,
   "metadata": {},
   "outputs": [],
   "source": [
    "#Faire 2 homeworks parmi les 4\n",
    "#Possibilité de faire en groupe\n",
    "\n",
    "#Todo à faire pour dimanche 23 avril\n",
    "#Homeworks pour le 14/05"
   ]
  }
 ],
 "metadata": {
  "kernelspec": {
   "display_name": "Python 3",
   "language": "python",
   "name": "python3"
  },
  "language_info": {
   "codemirror_mode": {
    "name": "ipython",
    "version": 3
   },
   "file_extension": ".py",
   "mimetype": "text/x-python",
   "name": "python",
   "nbconvert_exporter": "python",
   "pygments_lexer": "ipython3",
   "version": "3.9.13"
  }
 },
 "nbformat": 4,
 "nbformat_minor": 4
}
